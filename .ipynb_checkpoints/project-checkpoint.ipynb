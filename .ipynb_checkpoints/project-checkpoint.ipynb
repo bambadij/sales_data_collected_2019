{
 "cells": [
  {
   "cell_type": "markdown",
   "metadata": {},
   "source": [
    "# Sales Data Analysis for the Year 2019\n",
    "#### Sales data was collected for each month in the entire year of 2019. \n"
   ]
  },
  {
   "cell_type": "markdown",
   "metadata": {},
   "source": [
    "### 1. Business Understanding\n",
    "Our client has collected transactional data for the year 2019 but hasn’t been able to  put it to good use. \n",
    "Sales data was collected for each month in the entire year of 2019. \n",
    "The data for the first half of the year (January to June) was collected in excel and saved as csv files before management decided to use databases to store their data."
   ]
  },
  {
   "cell_type": "markdown",
   "metadata": {},
   "source": [
    "### Objective\n",
    " The client hopes you can analyze the data and put together a report  to help them find opportunities to drive more sales and work more efficiently. \n",
    "\n",
    " ### **Questions** \n",
    "1. How much money did we make this year? \n",
    "\n",
    "2. Can we identify any seasonality in the  sales? \n",
    "\n",
    "3. What are our best and worst-selling products? \n",
    "\n",
    "4. How do sales compare to previous months or weeks? \n",
    "\n",
    "5. Which cities are our products delivered to most? \n",
    "\n",
    "6. How do product categories compare in revenue generated and quantities  ordered? \n",
    "\n",
    "7. You are required to show additional details from your findings in your data."
   ]
  },
  {
   "cell_type": "markdown",
   "metadata": {},
   "source": [
    "#### 2. Data Understanding\n",
    "Here, we explored and familiarized with data the client by getINNOtized from 2019 . This involved examining the structure, quality, and content of the dataset. We further identified the relevant variables, data types, and potential issues, such as missing values or outliers. "
   ]
  },
  {
   "cell_type": "markdown",
   "metadata": {},
   "source": [
    "## Installations\n",
    "\n",
    "Packages for accessing remote database with data"
   ]
  },
  {
   "cell_type": "code",
   "execution_count": 1,
   "metadata": {
    "scrolled": true
   },
   "outputs": [],
   "source": [
    "\n",
    "import pyodbc \n",
    "from dotenv import dotenv_values #import the dotenv_values function from the dotenv package\n",
    "import warnings \n",
    "warnings.filterwarnings('ignore')\n",
    "\n",
    "# Data handling\n",
    "\n",
    "import pandas as pd\n",
    "import numpy as np\n",
    "\n",
    "# Data Visualisation\n",
    "\n",
    "import seaborn as sns\n",
    "import matplotlib.pyplot as plt\n",
    "import matplotlib.ticker as ticker\n",
    "import plotly.express as px\n",
    "import plotly.graph_objects as go\n",
    "import plotly.io as pio\n",
    "import plotly.colors as colors"
   ]
  },
  {
   "cell_type": "code",
   "execution_count": null,
   "metadata": {
    "scrolled": true
   },
   "outputs": [
    {
     "name": "stdout",
     "output_type": "stream",
     "text": [
      "Fichier zip décompressé avec succès.\n"
     ]
    }
   ],
   "source": [
    "import zipfile\n",
    "import os\n",
    "\n",
    "# path to the file zip\n",
    "zip_file_path = \"OneDrive_1_2-9-2024.zip\"\n",
    "\n",
    "# Folder \n",
    "extract_to_dir = \"data\"\n",
    "\n",
    "# Create folder if not exist\n",
    "if not os.path.exists(extract_to_dir):\n",
    "    os.makedirs(extract_to_dir)\n",
    "\n",
    "# Unzip file\n",
    "with zipfile.ZipFile(zip_file_path, 'r') as zip_ref:\n",
    "    zip_ref.extractall(extract_to_dir)\n",
    "\n",
    "print(\"file unzip sucessfully.\")\n"
   ]
  },
  {
   "cell_type": "markdown",
   "metadata": {},
   "source": [
    "### Load Data"
   ]
  },
  {
   "cell_type": "code",
   "execution_count": null,
   "metadata": {
    "scrolled": true
   },
   "outputs": [
    {
     "data": {
      "text/html": [
       "<div>\n",
       "<style scoped>\n",
       "    .dataframe tbody tr th:only-of-type {\n",
       "        vertical-align: middle;\n",
       "    }\n",
       "\n",
       "    .dataframe tbody tr th {\n",
       "        vertical-align: top;\n",
       "    }\n",
       "\n",
       "    .dataframe thead th {\n",
       "        text-align: right;\n",
       "    }\n",
       "</style>\n",
       "<table border=\"1\" class=\"dataframe\">\n",
       "  <thead>\n",
       "    <tr style=\"text-align: right;\">\n",
       "      <th></th>\n",
       "      <th>Order ID</th>\n",
       "      <th>Product</th>\n",
       "      <th>Quantity Ordered</th>\n",
       "      <th>Price Each</th>\n",
       "      <th>Order Date</th>\n",
       "      <th>Purchase Address</th>\n",
       "    </tr>\n",
       "  </thead>\n",
       "  <tbody>\n",
       "    <tr>\n",
       "      <th>0</th>\n",
       "      <td>141234</td>\n",
       "      <td>iPhone</td>\n",
       "      <td>1</td>\n",
       "      <td>700</td>\n",
       "      <td>01/22/19 21:25</td>\n",
       "      <td>944 Walnut St, Boston, MA 02215</td>\n",
       "    </tr>\n",
       "    <tr>\n",
       "      <th>1</th>\n",
       "      <td>141235</td>\n",
       "      <td>Lightning Charging Cable</td>\n",
       "      <td>1</td>\n",
       "      <td>14.95</td>\n",
       "      <td>01/28/19 14:15</td>\n",
       "      <td>185 Maple St, Portland, OR 97035</td>\n",
       "    </tr>\n",
       "    <tr>\n",
       "      <th>2</th>\n",
       "      <td>141236</td>\n",
       "      <td>Wired Headphones</td>\n",
       "      <td>2</td>\n",
       "      <td>11.99</td>\n",
       "      <td>01/17/19 13:33</td>\n",
       "      <td>538 Adams St, San Francisco, CA 94016</td>\n",
       "    </tr>\n",
       "    <tr>\n",
       "      <th>3</th>\n",
       "      <td>141237</td>\n",
       "      <td>27in FHD Monitor</td>\n",
       "      <td>1</td>\n",
       "      <td>149.99</td>\n",
       "      <td>01/05/19 20:33</td>\n",
       "      <td>738 10th St, Los Angeles, CA 90001</td>\n",
       "    </tr>\n",
       "    <tr>\n",
       "      <th>4</th>\n",
       "      <td>141238</td>\n",
       "      <td>Wired Headphones</td>\n",
       "      <td>1</td>\n",
       "      <td>11.99</td>\n",
       "      <td>01/25/19 11:59</td>\n",
       "      <td>387 10th St, Austin, TX 73301</td>\n",
       "    </tr>\n",
       "  </tbody>\n",
       "</table>\n",
       "</div>"
      ],
      "text/plain": [
       "  Order ID                   Product Quantity Ordered Price Each  \\\n",
       "0   141234                    iPhone                1        700   \n",
       "1   141235  Lightning Charging Cable                1      14.95   \n",
       "2   141236          Wired Headphones                2      11.99   \n",
       "3   141237          27in FHD Monitor                1     149.99   \n",
       "4   141238          Wired Headphones                1      11.99   \n",
       "\n",
       "       Order Date                       Purchase Address  \n",
       "0  01/22/19 21:25        944 Walnut St, Boston, MA 02215  \n",
       "1  01/28/19 14:15       185 Maple St, Portland, OR 97035  \n",
       "2  01/17/19 13:33  538 Adams St, San Francisco, CA 94016  \n",
       "3  01/05/19 20:33     738 10th St, Los Angeles, CA 90001  \n",
       "4  01/25/19 11:59          387 10th St, Austin, TX 73301  "
      ]
     },
     "execution_count": 2,
     "metadata": {},
     "output_type": "execute_result"
    }
   ],
   "source": [
    "#Read data january\n",
    "data_jan =pd.read_csv('data/Sales_January_2019.csv')\n",
    "data_jan.head()"
   ]
  },
  {
   "cell_type": "code",
   "execution_count": null,
   "metadata": {
    "scrolled": true
   },
   "outputs": [
    {
     "data": {
      "text/html": [
       "<div>\n",
       "<style scoped>\n",
       "    .dataframe tbody tr th:only-of-type {\n",
       "        vertical-align: middle;\n",
       "    }\n",
       "\n",
       "    .dataframe tbody tr th {\n",
       "        vertical-align: top;\n",
       "    }\n",
       "\n",
       "    .dataframe thead th {\n",
       "        text-align: right;\n",
       "    }\n",
       "</style>\n",
       "<table border=\"1\" class=\"dataframe\">\n",
       "  <thead>\n",
       "    <tr style=\"text-align: right;\">\n",
       "      <th></th>\n",
       "      <th>count</th>\n",
       "      <th>unique</th>\n",
       "      <th>top</th>\n",
       "      <th>freq</th>\n",
       "    </tr>\n",
       "  </thead>\n",
       "  <tbody>\n",
       "    <tr>\n",
       "      <th>Order ID</th>\n",
       "      <td>9697</td>\n",
       "      <td>9269</td>\n",
       "      <td>Order ID</td>\n",
       "      <td>16</td>\n",
       "    </tr>\n",
       "    <tr>\n",
       "      <th>Product</th>\n",
       "      <td>9697</td>\n",
       "      <td>20</td>\n",
       "      <td>USB-C Charging Cable</td>\n",
       "      <td>1171</td>\n",
       "    </tr>\n",
       "    <tr>\n",
       "      <th>Quantity Ordered</th>\n",
       "      <td>9697</td>\n",
       "      <td>8</td>\n",
       "      <td>1</td>\n",
       "      <td>8795</td>\n",
       "    </tr>\n",
       "    <tr>\n",
       "      <th>Price Each</th>\n",
       "      <td>9697</td>\n",
       "      <td>19</td>\n",
       "      <td>11.95</td>\n",
       "      <td>1171</td>\n",
       "    </tr>\n",
       "    <tr>\n",
       "      <th>Order Date</th>\n",
       "      <td>9697</td>\n",
       "      <td>8077</td>\n",
       "      <td>Order Date</td>\n",
       "      <td>16</td>\n",
       "    </tr>\n",
       "    <tr>\n",
       "      <th>Purchase Address</th>\n",
       "      <td>9697</td>\n",
       "      <td>9161</td>\n",
       "      <td>Purchase Address</td>\n",
       "      <td>16</td>\n",
       "    </tr>\n",
       "  </tbody>\n",
       "</table>\n",
       "</div>"
      ],
      "text/plain": [
       "                 count unique                   top  freq\n",
       "Order ID          9697   9269              Order ID    16\n",
       "Product           9697     20  USB-C Charging Cable  1171\n",
       "Quantity Ordered  9697      8                     1  8795\n",
       "Price Each        9697     19                 11.95  1171\n",
       "Order Date        9697   8077            Order Date    16\n",
       "Purchase Address  9697   9161      Purchase Address    16"
      ]
     },
     "execution_count": 3,
     "metadata": {},
     "output_type": "execute_result"
    }
   ],
   "source": [
    "data_jan.describe().T"
   ]
  },
  {
   "cell_type": "code",
   "execution_count": null,
   "metadata": {
    "scrolled": true
   },
   "outputs": [
    {
     "name": "stdout",
     "output_type": "stream",
     "text": [
      "<class 'pandas.core.frame.DataFrame'>\n",
      "RangeIndex: 9723 entries, 0 to 9722\n",
      "Data columns (total 6 columns):\n",
      " #   Column            Non-Null Count  Dtype \n",
      "---  ------            --------------  ----- \n",
      " 0   Order ID          9697 non-null   object\n",
      " 1   Product           9697 non-null   object\n",
      " 2   Quantity Ordered  9697 non-null   object\n",
      " 3   Price Each        9697 non-null   object\n",
      " 4   Order Date        9697 non-null   object\n",
      " 5   Purchase Address  9697 non-null   object\n",
      "dtypes: object(6)\n",
      "memory usage: 455.9+ KB\n"
     ]
    }
   ],
   "source": [
    "data_jan.info()"
   ]
  },
  {
   "cell_type": "code",
   "execution_count": null,
   "metadata": {
    "scrolled": true
   },
   "outputs": [
    {
     "data": {
      "text/plain": [
       "Order ID            26\n",
       "Product             26\n",
       "Quantity Ordered    26\n",
       "Price Each          26\n",
       "Order Date          26\n",
       "Purchase Address    26\n",
       "dtype: int64"
      ]
     },
     "execution_count": 5,
     "metadata": {},
     "output_type": "execute_result"
    }
   ],
   "source": [
    "data_jan.isna().sum()"
   ]
  },
  {
   "cell_type": "code",
   "execution_count": null,
   "metadata": {
    "scrolled": true
   },
   "outputs": [
    {
     "data": {
      "text/plain": [
       "(9723, 6)"
      ]
     },
     "execution_count": 6,
     "metadata": {},
     "output_type": "execute_result"
    }
   ],
   "source": [
    "#let's check the dimension of our data januray\n",
    "data_jan.shape"
   ]
  },
  {
   "cell_type": "code",
   "execution_count": null,
   "metadata": {
    "scrolled": true
   },
   "outputs": [
    {
     "data": {
      "text/plain": [
       "Index(['Order ID', 'Product', 'Quantity Ordered', 'Price Each', 'Order Date',\n",
       "       'Purchase Address'],\n",
       "      dtype='object')"
      ]
     },
     "execution_count": 7,
     "metadata": {},
     "output_type": "execute_result"
    }
   ],
   "source": [
    "data_jan.columns"
   ]
  },
  {
   "cell_type": "code",
   "execution_count": null,
   "metadata": {
    "scrolled": true
   },
   "outputs": [
    {
     "data": {
      "text/html": [
       "<div>\n",
       "<style scoped>\n",
       "    .dataframe tbody tr th:only-of-type {\n",
       "        vertical-align: middle;\n",
       "    }\n",
       "\n",
       "    .dataframe tbody tr th {\n",
       "        vertical-align: top;\n",
       "    }\n",
       "\n",
       "    .dataframe thead th {\n",
       "        text-align: right;\n",
       "    }\n",
       "</style>\n",
       "<table border=\"1\" class=\"dataframe\">\n",
       "  <thead>\n",
       "    <tr style=\"text-align: right;\">\n",
       "      <th></th>\n",
       "      <th>Order ID</th>\n",
       "      <th>Product</th>\n",
       "      <th>Quantity Ordered</th>\n",
       "      <th>Price Each</th>\n",
       "      <th>Order Date</th>\n",
       "      <th>Purchase Address</th>\n",
       "    </tr>\n",
       "  </thead>\n",
       "  <tbody>\n",
       "    <tr>\n",
       "      <th>0</th>\n",
       "      <td>150502</td>\n",
       "      <td>iPhone</td>\n",
       "      <td>1</td>\n",
       "      <td>700</td>\n",
       "      <td>02/18/19 01:35</td>\n",
       "      <td>866 Spruce St, Portland, ME 04101</td>\n",
       "    </tr>\n",
       "    <tr>\n",
       "      <th>1</th>\n",
       "      <td>150503</td>\n",
       "      <td>AA Batteries (4-pack)</td>\n",
       "      <td>1</td>\n",
       "      <td>3.84</td>\n",
       "      <td>02/13/19 07:24</td>\n",
       "      <td>18 13th St, San Francisco, CA 94016</td>\n",
       "    </tr>\n",
       "    <tr>\n",
       "      <th>2</th>\n",
       "      <td>150504</td>\n",
       "      <td>27in 4K Gaming Monitor</td>\n",
       "      <td>1</td>\n",
       "      <td>389.99</td>\n",
       "      <td>02/18/19 09:46</td>\n",
       "      <td>52 6th St, New York City, NY 10001</td>\n",
       "    </tr>\n",
       "    <tr>\n",
       "      <th>3</th>\n",
       "      <td>150505</td>\n",
       "      <td>Lightning Charging Cable</td>\n",
       "      <td>1</td>\n",
       "      <td>14.95</td>\n",
       "      <td>02/02/19 16:47</td>\n",
       "      <td>129 Cherry St, Atlanta, GA 30301</td>\n",
       "    </tr>\n",
       "    <tr>\n",
       "      <th>4</th>\n",
       "      <td>150506</td>\n",
       "      <td>AA Batteries (4-pack)</td>\n",
       "      <td>2</td>\n",
       "      <td>3.84</td>\n",
       "      <td>02/28/19 20:32</td>\n",
       "      <td>548 Lincoln St, Seattle, WA 98101</td>\n",
       "    </tr>\n",
       "  </tbody>\n",
       "</table>\n",
       "</div>"
      ],
      "text/plain": [
       "  Order ID                   Product Quantity Ordered Price Each  \\\n",
       "0   150502                    iPhone                1        700   \n",
       "1   150503     AA Batteries (4-pack)                1       3.84   \n",
       "2   150504    27in 4K Gaming Monitor                1     389.99   \n",
       "3   150505  Lightning Charging Cable                1      14.95   \n",
       "4   150506     AA Batteries (4-pack)                2       3.84   \n",
       "\n",
       "       Order Date                     Purchase Address  \n",
       "0  02/18/19 01:35    866 Spruce St, Portland, ME 04101  \n",
       "1  02/13/19 07:24  18 13th St, San Francisco, CA 94016  \n",
       "2  02/18/19 09:46   52 6th St, New York City, NY 10001  \n",
       "3  02/02/19 16:47     129 Cherry St, Atlanta, GA 30301  \n",
       "4  02/28/19 20:32    548 Lincoln St, Seattle, WA 98101  "
      ]
     },
     "execution_count": 8,
     "metadata": {},
     "output_type": "execute_result"
    }
   ],
   "source": [
    "#Read data February\n",
    "data_feb =pd.read_csv('data/Sales_February_2019.csv')\n",
    "data_feb.head()"
   ]
  },
  {
   "cell_type": "code",
   "execution_count": null,
   "metadata": {
    "scrolled": true
   },
   "outputs": [
    {
     "data": {
      "text/plain": [
       "(12036, 6)"
      ]
     },
     "execution_count": 9,
     "metadata": {},
     "output_type": "execute_result"
    }
   ],
   "source": [
    "data_feb.shape"
   ]
  },
  {
   "cell_type": "code",
   "execution_count": null,
   "metadata": {
    "scrolled": true
   },
   "outputs": [
    {
     "data": {
      "text/html": [
       "<div>\n",
       "<style scoped>\n",
       "    .dataframe tbody tr th:only-of-type {\n",
       "        vertical-align: middle;\n",
       "    }\n",
       "\n",
       "    .dataframe tbody tr th {\n",
       "        vertical-align: top;\n",
       "    }\n",
       "\n",
       "    .dataframe thead th {\n",
       "        text-align: right;\n",
       "    }\n",
       "</style>\n",
       "<table border=\"1\" class=\"dataframe\">\n",
       "  <thead>\n",
       "    <tr style=\"text-align: right;\">\n",
       "      <th></th>\n",
       "      <th>Order ID</th>\n",
       "      <th>Product</th>\n",
       "      <th>Quantity Ordered</th>\n",
       "      <th>Price Each</th>\n",
       "      <th>Order Date</th>\n",
       "      <th>Purchase Address</th>\n",
       "    </tr>\n",
       "  </thead>\n",
       "  <tbody>\n",
       "    <tr>\n",
       "      <th>0</th>\n",
       "      <td>162009</td>\n",
       "      <td>iPhone</td>\n",
       "      <td>1</td>\n",
       "      <td>700</td>\n",
       "      <td>03/28/19 20:59</td>\n",
       "      <td>942 Church St, Austin, TX 73301</td>\n",
       "    </tr>\n",
       "    <tr>\n",
       "      <th>1</th>\n",
       "      <td>162009</td>\n",
       "      <td>Lightning Charging Cable</td>\n",
       "      <td>1</td>\n",
       "      <td>14.95</td>\n",
       "      <td>03/28/19 20:59</td>\n",
       "      <td>942 Church St, Austin, TX 73301</td>\n",
       "    </tr>\n",
       "    <tr>\n",
       "      <th>2</th>\n",
       "      <td>162009</td>\n",
       "      <td>Wired Headphones</td>\n",
       "      <td>2</td>\n",
       "      <td>11.99</td>\n",
       "      <td>03/28/19 20:59</td>\n",
       "      <td>942 Church St, Austin, TX 73301</td>\n",
       "    </tr>\n",
       "    <tr>\n",
       "      <th>3</th>\n",
       "      <td>162010</td>\n",
       "      <td>Bose SoundSport Headphones</td>\n",
       "      <td>1</td>\n",
       "      <td>99.99</td>\n",
       "      <td>03/17/19 05:39</td>\n",
       "      <td>261 10th St, San Francisco, CA 94016</td>\n",
       "    </tr>\n",
       "    <tr>\n",
       "      <th>4</th>\n",
       "      <td>162011</td>\n",
       "      <td>34in Ultrawide Monitor</td>\n",
       "      <td>1</td>\n",
       "      <td>379.99</td>\n",
       "      <td>03/10/19 00:01</td>\n",
       "      <td>764 13th St, San Francisco, CA 94016</td>\n",
       "    </tr>\n",
       "  </tbody>\n",
       "</table>\n",
       "</div>"
      ],
      "text/plain": [
       "  Order ID                     Product Quantity Ordered Price Each  \\\n",
       "0   162009                      iPhone                1        700   \n",
       "1   162009    Lightning Charging Cable                1      14.95   \n",
       "2   162009            Wired Headphones                2      11.99   \n",
       "3   162010  Bose SoundSport Headphones                1      99.99   \n",
       "4   162011      34in Ultrawide Monitor                1     379.99   \n",
       "\n",
       "       Order Date                      Purchase Address  \n",
       "0  03/28/19 20:59       942 Church St, Austin, TX 73301  \n",
       "1  03/28/19 20:59       942 Church St, Austin, TX 73301  \n",
       "2  03/28/19 20:59       942 Church St, Austin, TX 73301  \n",
       "3  03/17/19 05:39  261 10th St, San Francisco, CA 94016  \n",
       "4  03/10/19 00:01  764 13th St, San Francisco, CA 94016  "
      ]
     },
     "execution_count": 10,
     "metadata": {},
     "output_type": "execute_result"
    }
   ],
   "source": [
    "#Read data February\n",
    "data_March =pd.read_csv('data/Sales_March_2019.csv')\n",
    "data_March.head()"
   ]
  },
  {
   "cell_type": "code",
   "execution_count": null,
   "metadata": {
    "scrolled": true
   },
   "outputs": [
    {
     "data": {
      "text/plain": [
       "(15226, 6)"
      ]
     },
     "execution_count": 11,
     "metadata": {},
     "output_type": "execute_result"
    }
   ],
   "source": [
    "data_March.shape"
   ]
  },
  {
   "cell_type": "code",
   "execution_count": null,
   "metadata": {
    "scrolled": true
   },
   "outputs": [
    {
     "data": {
      "text/html": [
       "<div>\n",
       "<style scoped>\n",
       "    .dataframe tbody tr th:only-of-type {\n",
       "        vertical-align: middle;\n",
       "    }\n",
       "\n",
       "    .dataframe tbody tr th {\n",
       "        vertical-align: top;\n",
       "    }\n",
       "\n",
       "    .dataframe thead th {\n",
       "        text-align: right;\n",
       "    }\n",
       "</style>\n",
       "<table border=\"1\" class=\"dataframe\">\n",
       "  <thead>\n",
       "    <tr style=\"text-align: right;\">\n",
       "      <th></th>\n",
       "      <th>Order ID</th>\n",
       "      <th>Product</th>\n",
       "      <th>Quantity Ordered</th>\n",
       "      <th>Price Each</th>\n",
       "      <th>Order Date</th>\n",
       "      <th>Purchase Address</th>\n",
       "    </tr>\n",
       "  </thead>\n",
       "  <tbody>\n",
       "    <tr>\n",
       "      <th>0</th>\n",
       "      <td>176558</td>\n",
       "      <td>USB-C Charging Cable</td>\n",
       "      <td>2</td>\n",
       "      <td>11.95</td>\n",
       "      <td>04/19/19 08:46</td>\n",
       "      <td>917 1st St, Dallas, TX 75001</td>\n",
       "    </tr>\n",
       "    <tr>\n",
       "      <th>1</th>\n",
       "      <td>NaN</td>\n",
       "      <td>NaN</td>\n",
       "      <td>NaN</td>\n",
       "      <td>NaN</td>\n",
       "      <td>NaN</td>\n",
       "      <td>NaN</td>\n",
       "    </tr>\n",
       "    <tr>\n",
       "      <th>2</th>\n",
       "      <td>176559</td>\n",
       "      <td>Bose SoundSport Headphones</td>\n",
       "      <td>1</td>\n",
       "      <td>99.99</td>\n",
       "      <td>04/07/19 22:30</td>\n",
       "      <td>682 Chestnut St, Boston, MA 02215</td>\n",
       "    </tr>\n",
       "    <tr>\n",
       "      <th>3</th>\n",
       "      <td>176560</td>\n",
       "      <td>Google Phone</td>\n",
       "      <td>1</td>\n",
       "      <td>600</td>\n",
       "      <td>04/12/19 14:38</td>\n",
       "      <td>669 Spruce St, Los Angeles, CA 90001</td>\n",
       "    </tr>\n",
       "    <tr>\n",
       "      <th>4</th>\n",
       "      <td>176560</td>\n",
       "      <td>Wired Headphones</td>\n",
       "      <td>1</td>\n",
       "      <td>11.99</td>\n",
       "      <td>04/12/19 14:38</td>\n",
       "      <td>669 Spruce St, Los Angeles, CA 90001</td>\n",
       "    </tr>\n",
       "  </tbody>\n",
       "</table>\n",
       "</div>"
      ],
      "text/plain": [
       "  Order ID                     Product Quantity Ordered Price Each  \\\n",
       "0   176558        USB-C Charging Cable                2      11.95   \n",
       "1      NaN                         NaN              NaN        NaN   \n",
       "2   176559  Bose SoundSport Headphones                1      99.99   \n",
       "3   176560                Google Phone                1        600   \n",
       "4   176560            Wired Headphones                1      11.99   \n",
       "\n",
       "       Order Date                      Purchase Address  \n",
       "0  04/19/19 08:46          917 1st St, Dallas, TX 75001  \n",
       "1             NaN                                   NaN  \n",
       "2  04/07/19 22:30     682 Chestnut St, Boston, MA 02215  \n",
       "3  04/12/19 14:38  669 Spruce St, Los Angeles, CA 90001  \n",
       "4  04/12/19 14:38  669 Spruce St, Los Angeles, CA 90001  "
      ]
     },
     "execution_count": 3,
     "metadata": {},
     "output_type": "execute_result"
    }
   ],
   "source": [
    "#Read data April\n",
    "data_April =pd.read_csv('data/Sales_April_2019.csv')\n",
    "data_April.head()"
   ]
  },
  {
   "cell_type": "code",
   "execution_count": null,
   "metadata": {
    "scrolled": true
   },
   "outputs": [
    {
     "data": {
      "text/plain": [
       "(18383, 6)"
      ]
     },
     "execution_count": 4,
     "metadata": {},
     "output_type": "execute_result"
    }
   ],
   "source": [
    "data_April.shape"
   ]
  },
  {
   "cell_type": "code",
   "execution_count": null,
   "metadata": {
    "scrolled": true
   },
   "outputs": [
    {
     "data": {
      "text/html": [
       "<div>\n",
       "<style scoped>\n",
       "    .dataframe tbody tr th:only-of-type {\n",
       "        vertical-align: middle;\n",
       "    }\n",
       "\n",
       "    .dataframe tbody tr th {\n",
       "        vertical-align: top;\n",
       "    }\n",
       "\n",
       "    .dataframe thead th {\n",
       "        text-align: right;\n",
       "    }\n",
       "</style>\n",
       "<table border=\"1\" class=\"dataframe\">\n",
       "  <thead>\n",
       "    <tr style=\"text-align: right;\">\n",
       "      <th></th>\n",
       "      <th>Order ID</th>\n",
       "      <th>Product</th>\n",
       "      <th>Quantity Ordered</th>\n",
       "      <th>Price Each</th>\n",
       "      <th>Order Date</th>\n",
       "      <th>Purchase Address</th>\n",
       "    </tr>\n",
       "  </thead>\n",
       "  <tbody>\n",
       "    <tr>\n",
       "      <th>0</th>\n",
       "      <td>194095</td>\n",
       "      <td>Wired Headphones</td>\n",
       "      <td>1</td>\n",
       "      <td>11.99</td>\n",
       "      <td>05/16/19 17:14</td>\n",
       "      <td>669 2nd St, New York City, NY 10001</td>\n",
       "    </tr>\n",
       "    <tr>\n",
       "      <th>1</th>\n",
       "      <td>194096</td>\n",
       "      <td>AA Batteries (4-pack)</td>\n",
       "      <td>1</td>\n",
       "      <td>3.84</td>\n",
       "      <td>05/19/19 14:43</td>\n",
       "      <td>844 Walnut St, Dallas, TX 75001</td>\n",
       "    </tr>\n",
       "    <tr>\n",
       "      <th>2</th>\n",
       "      <td>194097</td>\n",
       "      <td>27in FHD Monitor</td>\n",
       "      <td>1</td>\n",
       "      <td>149.99</td>\n",
       "      <td>05/24/19 11:36</td>\n",
       "      <td>164 Madison St, New York City, NY 10001</td>\n",
       "    </tr>\n",
       "    <tr>\n",
       "      <th>3</th>\n",
       "      <td>194098</td>\n",
       "      <td>Wired Headphones</td>\n",
       "      <td>1</td>\n",
       "      <td>11.99</td>\n",
       "      <td>05/02/19 20:40</td>\n",
       "      <td>622 Meadow St, Dallas, TX 75001</td>\n",
       "    </tr>\n",
       "    <tr>\n",
       "      <th>4</th>\n",
       "      <td>194099</td>\n",
       "      <td>AAA Batteries (4-pack)</td>\n",
       "      <td>2</td>\n",
       "      <td>2.99</td>\n",
       "      <td>05/11/19 22:55</td>\n",
       "      <td>17 Church St, Seattle, WA 98101</td>\n",
       "    </tr>\n",
       "  </tbody>\n",
       "</table>\n",
       "</div>"
      ],
      "text/plain": [
       "  Order ID                 Product Quantity Ordered Price Each  \\\n",
       "0   194095        Wired Headphones                1      11.99   \n",
       "1   194096   AA Batteries (4-pack)                1       3.84   \n",
       "2   194097        27in FHD Monitor                1     149.99   \n",
       "3   194098        Wired Headphones                1      11.99   \n",
       "4   194099  AAA Batteries (4-pack)                2       2.99   \n",
       "\n",
       "       Order Date                         Purchase Address  \n",
       "0  05/16/19 17:14      669 2nd St, New York City, NY 10001  \n",
       "1  05/19/19 14:43          844 Walnut St, Dallas, TX 75001  \n",
       "2  05/24/19 11:36  164 Madison St, New York City, NY 10001  \n",
       "3  05/02/19 20:40          622 Meadow St, Dallas, TX 75001  \n",
       "4  05/11/19 22:55          17 Church St, Seattle, WA 98101  "
      ]
     },
     "execution_count": 5,
     "metadata": {},
     "output_type": "execute_result"
    }
   ],
   "source": [
    "#load data May\n",
    "data_May = pd.read_csv('data/Sales_May_2019.csv')\n",
    "data_May.head()"
   ]
  },
  {
   "cell_type": "code",
   "execution_count": null,
   "metadata": {
    "scrolled": true
   },
   "outputs": [
    {
     "data": {
      "text/plain": [
       "(16635, 6)"
      ]
     },
     "execution_count": 6,
     "metadata": {},
     "output_type": "execute_result"
    }
   ],
   "source": [
    "data_May.shape"
   ]
  },
  {
   "cell_type": "code",
   "execution_count": null,
   "metadata": {
    "scrolled": true
   },
   "outputs": [
    {
     "data": {
      "text/html": [
       "<div>\n",
       "<style scoped>\n",
       "    .dataframe tbody tr th:only-of-type {\n",
       "        vertical-align: middle;\n",
       "    }\n",
       "\n",
       "    .dataframe tbody tr th {\n",
       "        vertical-align: top;\n",
       "    }\n",
       "\n",
       "    .dataframe thead th {\n",
       "        text-align: right;\n",
       "    }\n",
       "</style>\n",
       "<table border=\"1\" class=\"dataframe\">\n",
       "  <thead>\n",
       "    <tr style=\"text-align: right;\">\n",
       "      <th></th>\n",
       "      <th>Order ID</th>\n",
       "      <th>Product</th>\n",
       "      <th>Quantity Ordered</th>\n",
       "      <th>Price Each</th>\n",
       "      <th>Order Date</th>\n",
       "      <th>Purchase Address</th>\n",
       "    </tr>\n",
       "  </thead>\n",
       "  <tbody>\n",
       "    <tr>\n",
       "      <th>0</th>\n",
       "      <td>209921</td>\n",
       "      <td>USB-C Charging Cable</td>\n",
       "      <td>1</td>\n",
       "      <td>11.95</td>\n",
       "      <td>06/23/19 19:34</td>\n",
       "      <td>950 Walnut St, Portland, ME 04101</td>\n",
       "    </tr>\n",
       "    <tr>\n",
       "      <th>1</th>\n",
       "      <td>209922</td>\n",
       "      <td>Macbook Pro Laptop</td>\n",
       "      <td>1</td>\n",
       "      <td>1700.0</td>\n",
       "      <td>06/30/19 10:05</td>\n",
       "      <td>80 4th St, San Francisco, CA 94016</td>\n",
       "    </tr>\n",
       "    <tr>\n",
       "      <th>2</th>\n",
       "      <td>209923</td>\n",
       "      <td>ThinkPad Laptop</td>\n",
       "      <td>1</td>\n",
       "      <td>999.99</td>\n",
       "      <td>06/24/19 20:18</td>\n",
       "      <td>402 Jackson St, Los Angeles, CA 90001</td>\n",
       "    </tr>\n",
       "    <tr>\n",
       "      <th>3</th>\n",
       "      <td>209924</td>\n",
       "      <td>27in FHD Monitor</td>\n",
       "      <td>1</td>\n",
       "      <td>149.99</td>\n",
       "      <td>06/05/19 10:21</td>\n",
       "      <td>560 10th St, Seattle, WA 98101</td>\n",
       "    </tr>\n",
       "    <tr>\n",
       "      <th>4</th>\n",
       "      <td>209925</td>\n",
       "      <td>Bose SoundSport Headphones</td>\n",
       "      <td>1</td>\n",
       "      <td>99.99</td>\n",
       "      <td>06/25/19 18:58</td>\n",
       "      <td>545 2nd St, San Francisco, CA 94016</td>\n",
       "    </tr>\n",
       "  </tbody>\n",
       "</table>\n",
       "</div>"
      ],
      "text/plain": [
       "  Order ID                     Product Quantity Ordered Price Each  \\\n",
       "0   209921        USB-C Charging Cable                1      11.95   \n",
       "1   209922          Macbook Pro Laptop                1     1700.0   \n",
       "2   209923             ThinkPad Laptop                1     999.99   \n",
       "3   209924            27in FHD Monitor                1     149.99   \n",
       "4   209925  Bose SoundSport Headphones                1      99.99   \n",
       "\n",
       "       Order Date                       Purchase Address  \n",
       "0  06/23/19 19:34      950 Walnut St, Portland, ME 04101  \n",
       "1  06/30/19 10:05     80 4th St, San Francisco, CA 94016  \n",
       "2  06/24/19 20:18  402 Jackson St, Los Angeles, CA 90001  \n",
       "3  06/05/19 10:21         560 10th St, Seattle, WA 98101  \n",
       "4  06/25/19 18:58    545 2nd St, San Francisco, CA 94016  "
      ]
     },
     "execution_count": 9,
     "metadata": {},
     "output_type": "execute_result"
    }
   ],
   "source": [
    "#load June data\n",
    "data_jun = pd.read_csv('data/Sales_June_2019.csv')\n",
    "data_jun.head()"
   ]
  },
  {
   "cell_type": "code",
   "execution_count": null,
   "metadata": {
    "scrolled": true
   },
   "outputs": [
    {
     "data": {
      "text/html": [
       "<div>\n",
       "<style scoped>\n",
       "    .dataframe tbody tr th:only-of-type {\n",
       "        vertical-align: middle;\n",
       "    }\n",
       "\n",
       "    .dataframe tbody tr th {\n",
       "        vertical-align: top;\n",
       "    }\n",
       "\n",
       "    .dataframe thead th {\n",
       "        text-align: right;\n",
       "    }\n",
       "</style>\n",
       "<table border=\"1\" class=\"dataframe\">\n",
       "  <thead>\n",
       "    <tr style=\"text-align: right;\">\n",
       "      <th></th>\n",
       "      <th>Order_ID</th>\n",
       "      <th>Product</th>\n",
       "      <th>Quantity_Ordered</th>\n",
       "      <th>Price_Each</th>\n",
       "      <th>Order_Date</th>\n",
       "      <th>Purchase_Address</th>\n",
       "    </tr>\n",
       "  </thead>\n",
       "  <tbody>\n",
       "    <tr>\n",
       "      <th>0</th>\n",
       "      <td>222,910.00</td>\n",
       "      <td>Apple Airpods Headphones</td>\n",
       "      <td>1.00</td>\n",
       "      <td>150.00</td>\n",
       "      <td>2026-07-19 16:51:00.0000000</td>\n",
       "      <td>389 South St, Atlanta, GA 30301</td>\n",
       "    </tr>\n",
       "    <tr>\n",
       "      <th>1</th>\n",
       "      <td>222,911.00</td>\n",
       "      <td>Flatscreen TV</td>\n",
       "      <td>1.00</td>\n",
       "      <td>300.00</td>\n",
       "      <td>2005-07-19 08:55:00.0000000</td>\n",
       "      <td>590 4th St, Seattle, WA 98101</td>\n",
       "    </tr>\n",
       "    <tr>\n",
       "      <th>2</th>\n",
       "      <td>222,912.00</td>\n",
       "      <td>AA Batteries (4-pack)</td>\n",
       "      <td>1.00</td>\n",
       "      <td>3.84</td>\n",
       "      <td>2029-07-19 12:41:00.0000000</td>\n",
       "      <td>861 Hill St, Atlanta, GA 30301</td>\n",
       "    </tr>\n",
       "    <tr>\n",
       "      <th>3</th>\n",
       "      <td>222,913.00</td>\n",
       "      <td>AA Batteries (4-pack)</td>\n",
       "      <td>1.00</td>\n",
       "      <td>3.84</td>\n",
       "      <td>2028-07-19 10:15:00.0000000</td>\n",
       "      <td>190 Ridge St, Atlanta, GA 30301</td>\n",
       "    </tr>\n",
       "    <tr>\n",
       "      <th>4</th>\n",
       "      <td>222,914.00</td>\n",
       "      <td>AAA Batteries (4-pack)</td>\n",
       "      <td>5.00</td>\n",
       "      <td>2.99</td>\n",
       "      <td>2031-07-19 02:13:00.0000000</td>\n",
       "      <td>824 Forest St, Seattle, WA 98101</td>\n",
       "    </tr>\n",
       "  </tbody>\n",
       "</table>\n",
       "</div>"
      ],
      "text/plain": [
       "    Order_ID                   Product  Quantity_Ordered  Price_Each  \\\n",
       "0 222,910.00  Apple Airpods Headphones              1.00      150.00   \n",
       "1 222,911.00             Flatscreen TV              1.00      300.00   \n",
       "2 222,912.00     AA Batteries (4-pack)              1.00        3.84   \n",
       "3 222,913.00     AA Batteries (4-pack)              1.00        3.84   \n",
       "4 222,914.00    AAA Batteries (4-pack)              5.00        2.99   \n",
       "\n",
       "                    Order_Date                  Purchase_Address  \n",
       "0  2026-07-19 16:51:00.0000000   389 South St, Atlanta, GA 30301  \n",
       "1  2005-07-19 08:55:00.0000000     590 4th St, Seattle, WA 98101  \n",
       "2  2029-07-19 12:41:00.0000000    861 Hill St, Atlanta, GA 30301  \n",
       "3  2028-07-19 10:15:00.0000000   190 Ridge St, Atlanta, GA 30301  \n",
       "4  2031-07-19 02:13:00.0000000  824 Forest St, Seattle, WA 98101  "
      ]
     },
     "execution_count": 37,
     "metadata": {},
     "output_type": "execute_result"
    }
   ],
   "source": [
    "data_July = pd.read_csv('data/Sales_July_2019.csv')\n",
    "data_July.head()"
   ]
  },
  {
   "cell_type": "code",
   "execution_count": null,
   "metadata": {
    "scrolled": true
   },
   "outputs": [
    {
     "data": {
      "text/plain": [
       "(12011, 6)"
      ]
     },
     "execution_count": 38,
     "metadata": {},
     "output_type": "execute_result"
    }
   ],
   "source": [
    "data_Aug = pd.read_csv('data/Sales_August_2019.csv')\n",
    "data_Aug.shape"
   ]
  },
  {
   "cell_type": "code",
   "execution_count": null,
   "metadata": {
    "scrolled": true
   },
   "outputs": [
    {
     "data": {
      "text/html": [
       "<div>\n",
       "<style scoped>\n",
       "    .dataframe tbody tr th:only-of-type {\n",
       "        vertical-align: middle;\n",
       "    }\n",
       "\n",
       "    .dataframe tbody tr th {\n",
       "        vertical-align: top;\n",
       "    }\n",
       "\n",
       "    .dataframe thead th {\n",
       "        text-align: right;\n",
       "    }\n",
       "</style>\n",
       "<table border=\"1\" class=\"dataframe\">\n",
       "  <thead>\n",
       "    <tr style=\"text-align: right;\">\n",
       "      <th></th>\n",
       "      <th>Order_ID</th>\n",
       "      <th>Product</th>\n",
       "      <th>Quantity_Ordered</th>\n",
       "      <th>Price_Each</th>\n",
       "      <th>Order_Date</th>\n",
       "      <th>Purchase_Address</th>\n",
       "    </tr>\n",
       "  </thead>\n",
       "  <tbody>\n",
       "    <tr>\n",
       "      <th>0</th>\n",
       "      <td>236,670.00</td>\n",
       "      <td>Wired Headphones</td>\n",
       "      <td>2.00</td>\n",
       "      <td>11.99</td>\n",
       "      <td>2031-08-19 22:21:00.0000000</td>\n",
       "      <td>359 Spruce St, Seattle, WA 98101</td>\n",
       "    </tr>\n",
       "    <tr>\n",
       "      <th>1</th>\n",
       "      <td>236,671.00</td>\n",
       "      <td>Bose SoundSport Headphones</td>\n",
       "      <td>1.00</td>\n",
       "      <td>99.99</td>\n",
       "      <td>2015-08-19 15:11:00.0000000</td>\n",
       "      <td>492 Ridge St, Dallas, TX 75001</td>\n",
       "    </tr>\n",
       "    <tr>\n",
       "      <th>2</th>\n",
       "      <td>236,672.00</td>\n",
       "      <td>iPhone</td>\n",
       "      <td>1.00</td>\n",
       "      <td>700.00</td>\n",
       "      <td>2006-08-19 14:40:00.0000000</td>\n",
       "      <td>149 7th St, Portland, OR 97035</td>\n",
       "    </tr>\n",
       "    <tr>\n",
       "      <th>3</th>\n",
       "      <td>236,673.00</td>\n",
       "      <td>AA Batteries (4-pack)</td>\n",
       "      <td>2.00</td>\n",
       "      <td>3.84</td>\n",
       "      <td>2029-08-19 20:59:00.0000000</td>\n",
       "      <td>631 2nd St, Los Angeles, CA 90001</td>\n",
       "    </tr>\n",
       "    <tr>\n",
       "      <th>4</th>\n",
       "      <td>236,674.00</td>\n",
       "      <td>AA Batteries (4-pack)</td>\n",
       "      <td>2.00</td>\n",
       "      <td>3.84</td>\n",
       "      <td>2015-08-19 19:53:00.0000000</td>\n",
       "      <td>736 14th St, New York City, NY 10001</td>\n",
       "    </tr>\n",
       "  </tbody>\n",
       "</table>\n",
       "</div>"
      ],
      "text/plain": [
       "    Order_ID                     Product  Quantity_Ordered  Price_Each  \\\n",
       "0 236,670.00            Wired Headphones              2.00       11.99   \n",
       "1 236,671.00  Bose SoundSport Headphones              1.00       99.99   \n",
       "2 236,672.00                      iPhone              1.00      700.00   \n",
       "3 236,673.00       AA Batteries (4-pack)              2.00        3.84   \n",
       "4 236,674.00       AA Batteries (4-pack)              2.00        3.84   \n",
       "\n",
       "                    Order_Date                      Purchase_Address  \n",
       "0  2031-08-19 22:21:00.0000000      359 Spruce St, Seattle, WA 98101  \n",
       "1  2015-08-19 15:11:00.0000000        492 Ridge St, Dallas, TX 75001  \n",
       "2  2006-08-19 14:40:00.0000000        149 7th St, Portland, OR 97035  \n",
       "3  2029-08-19 20:59:00.0000000     631 2nd St, Los Angeles, CA 90001  \n",
       "4  2015-08-19 19:53:00.0000000  736 14th St, New York City, NY 10001  "
      ]
     },
     "execution_count": 39,
     "metadata": {},
     "output_type": "execute_result"
    }
   ],
   "source": [
    "data_Aug.head()"
   ]
  },
  {
   "cell_type": "code",
   "execution_count": null,
   "metadata": {
    "scrolled": true
   },
   "outputs": [
    {
     "data": {
      "text/plain": [
       "(11686, 6)"
      ]
     },
     "execution_count": 40,
     "metadata": {},
     "output_type": "execute_result"
    }
   ],
   "source": [
    "data_Sept = pd.read_csv('data/Sales_September_2019.csv')\n",
    "data_Sept.shape"
   ]
  },
  {
   "cell_type": "code",
   "execution_count": null,
   "metadata": {
    "scrolled": true
   },
   "outputs": [
    {
     "data": {
      "text/html": [
       "<div>\n",
       "<style scoped>\n",
       "    .dataframe tbody tr th:only-of-type {\n",
       "        vertical-align: middle;\n",
       "    }\n",
       "\n",
       "    .dataframe tbody tr th {\n",
       "        vertical-align: top;\n",
       "    }\n",
       "\n",
       "    .dataframe thead th {\n",
       "        text-align: right;\n",
       "    }\n",
       "</style>\n",
       "<table border=\"1\" class=\"dataframe\">\n",
       "  <thead>\n",
       "    <tr style=\"text-align: right;\">\n",
       "      <th></th>\n",
       "      <th>Order_ID</th>\n",
       "      <th>Product</th>\n",
       "      <th>Quantity_Ordered</th>\n",
       "      <th>Price_Each</th>\n",
       "      <th>Order_Date</th>\n",
       "      <th>Purchase_Address</th>\n",
       "    </tr>\n",
       "  </thead>\n",
       "  <tbody>\n",
       "    <tr>\n",
       "      <th>0</th>\n",
       "      <td>259,358.00</td>\n",
       "      <td>34in Ultrawide Monitor</td>\n",
       "      <td>1.00</td>\n",
       "      <td>379.99</td>\n",
       "      <td>2028-10-19 10:56:00.0000000</td>\n",
       "      <td>609 Cherry St, Dallas, TX 75001</td>\n",
       "    </tr>\n",
       "    <tr>\n",
       "      <th>1</th>\n",
       "      <td>259,359.00</td>\n",
       "      <td>27in 4K Gaming Monitor</td>\n",
       "      <td>1.00</td>\n",
       "      <td>389.99</td>\n",
       "      <td>2028-10-19 17:26:00.0000000</td>\n",
       "      <td>225 5th St, Los Angeles, CA 90001</td>\n",
       "    </tr>\n",
       "    <tr>\n",
       "      <th>2</th>\n",
       "      <td>259,360.00</td>\n",
       "      <td>AAA Batteries (4-pack)</td>\n",
       "      <td>2.00</td>\n",
       "      <td>2.99</td>\n",
       "      <td>2024-10-19 17:20:00.0000000</td>\n",
       "      <td>967 12th St, New York City, NY 10001</td>\n",
       "    </tr>\n",
       "    <tr>\n",
       "      <th>3</th>\n",
       "      <td>259,361.00</td>\n",
       "      <td>27in FHD Monitor</td>\n",
       "      <td>1.00</td>\n",
       "      <td>149.99</td>\n",
       "      <td>2014-10-19 22:26:00.0000000</td>\n",
       "      <td>628 Jefferson St, New York City, NY 10001</td>\n",
       "    </tr>\n",
       "    <tr>\n",
       "      <th>4</th>\n",
       "      <td>259,362.00</td>\n",
       "      <td>Wired Headphones</td>\n",
       "      <td>1.00</td>\n",
       "      <td>11.99</td>\n",
       "      <td>2007-10-19 16:10:00.0000000</td>\n",
       "      <td>534 14th St, Los Angeles, CA 90001</td>\n",
       "    </tr>\n",
       "  </tbody>\n",
       "</table>\n",
       "</div>"
      ],
      "text/plain": [
       "    Order_ID                 Product  Quantity_Ordered  Price_Each  \\\n",
       "0 259,358.00  34in Ultrawide Monitor              1.00      379.99   \n",
       "1 259,359.00  27in 4K Gaming Monitor              1.00      389.99   \n",
       "2 259,360.00  AAA Batteries (4-pack)              2.00        2.99   \n",
       "3 259,361.00        27in FHD Monitor              1.00      149.99   \n",
       "4 259,362.00        Wired Headphones              1.00       11.99   \n",
       "\n",
       "                    Order_Date                           Purchase_Address  \n",
       "0  2028-10-19 10:56:00.0000000            609 Cherry St, Dallas, TX 75001  \n",
       "1  2028-10-19 17:26:00.0000000          225 5th St, Los Angeles, CA 90001  \n",
       "2  2024-10-19 17:20:00.0000000       967 12th St, New York City, NY 10001  \n",
       "3  2014-10-19 22:26:00.0000000  628 Jefferson St, New York City, NY 10001  \n",
       "4  2007-10-19 16:10:00.0000000         534 14th St, Los Angeles, CA 90001  "
      ]
     },
     "execution_count": 41,
     "metadata": {},
     "output_type": "execute_result"
    }
   ],
   "source": [
    "data_Oct = pd.read_csv('data/Sales_October_2019.csv')\n",
    "data_Oct.head()"
   ]
  },
  {
   "cell_type": "code",
   "execution_count": null,
   "metadata": {
    "scrolled": true
   },
   "outputs": [
    {
     "data": {
      "text/plain": [
       "(20379, 6)"
      ]
     },
     "execution_count": 42,
     "metadata": {},
     "output_type": "execute_result"
    }
   ],
   "source": [
    "data_Oct.shape"
   ]
  },
  {
   "cell_type": "code",
   "execution_count": null,
   "metadata": {
    "scrolled": true
   },
   "outputs": [
    {
     "data": {
      "text/html": [
       "<div>\n",
       "<style scoped>\n",
       "    .dataframe tbody tr th:only-of-type {\n",
       "        vertical-align: middle;\n",
       "    }\n",
       "\n",
       "    .dataframe tbody tr th {\n",
       "        vertical-align: top;\n",
       "    }\n",
       "\n",
       "    .dataframe thead th {\n",
       "        text-align: right;\n",
       "    }\n",
       "</style>\n",
       "<table border=\"1\" class=\"dataframe\">\n",
       "  <thead>\n",
       "    <tr style=\"text-align: right;\">\n",
       "      <th></th>\n",
       "      <th>Order_ID</th>\n",
       "      <th>Product</th>\n",
       "      <th>Quantity_Ordered</th>\n",
       "      <th>Price_Each</th>\n",
       "      <th>Order_Date</th>\n",
       "      <th>Purchase_Address</th>\n",
       "    </tr>\n",
       "  </thead>\n",
       "  <tbody>\n",
       "    <tr>\n",
       "      <th>0</th>\n",
       "      <td>278,797.00</td>\n",
       "      <td>Wired Headphones</td>\n",
       "      <td>1.00</td>\n",
       "      <td>11.99</td>\n",
       "      <td>2021-11-19 09:54:00.0000000</td>\n",
       "      <td>46 Park St, New York City, NY 10001</td>\n",
       "    </tr>\n",
       "    <tr>\n",
       "      <th>1</th>\n",
       "      <td>278,798.00</td>\n",
       "      <td>USB-C Charging Cable</td>\n",
       "      <td>2.00</td>\n",
       "      <td>11.95</td>\n",
       "      <td>2017-11-19 10:03:00.0000000</td>\n",
       "      <td>962 Hickory St, Austin, TX 73301</td>\n",
       "    </tr>\n",
       "    <tr>\n",
       "      <th>2</th>\n",
       "      <td>278,799.00</td>\n",
       "      <td>Apple Airpods Headphones</td>\n",
       "      <td>1.00</td>\n",
       "      <td>150.00</td>\n",
       "      <td>2019-11-19 14:56:00.0000000</td>\n",
       "      <td>464 Cherry St, Los Angeles, CA 90001</td>\n",
       "    </tr>\n",
       "    <tr>\n",
       "      <th>3</th>\n",
       "      <td>278,800.00</td>\n",
       "      <td>27in FHD Monitor</td>\n",
       "      <td>1.00</td>\n",
       "      <td>149.99</td>\n",
       "      <td>2025-11-19 22:24:00.0000000</td>\n",
       "      <td>649 10th St, Seattle, WA 98101</td>\n",
       "    </tr>\n",
       "    <tr>\n",
       "      <th>4</th>\n",
       "      <td>278,801.00</td>\n",
       "      <td>Bose SoundSport Headphones</td>\n",
       "      <td>1.00</td>\n",
       "      <td>99.99</td>\n",
       "      <td>2009-11-19 13:56:00.0000000</td>\n",
       "      <td>522 Hill St, Boston, MA 02215</td>\n",
       "    </tr>\n",
       "  </tbody>\n",
       "</table>\n",
       "</div>"
      ],
      "text/plain": [
       "    Order_ID                     Product  Quantity_Ordered  Price_Each  \\\n",
       "0 278,797.00            Wired Headphones              1.00       11.99   \n",
       "1 278,798.00        USB-C Charging Cable              2.00       11.95   \n",
       "2 278,799.00    Apple Airpods Headphones              1.00      150.00   \n",
       "3 278,800.00            27in FHD Monitor              1.00      149.99   \n",
       "4 278,801.00  Bose SoundSport Headphones              1.00       99.99   \n",
       "\n",
       "                    Order_Date                      Purchase_Address  \n",
       "0  2021-11-19 09:54:00.0000000   46 Park St, New York City, NY 10001  \n",
       "1  2017-11-19 10:03:00.0000000      962 Hickory St, Austin, TX 73301  \n",
       "2  2019-11-19 14:56:00.0000000  464 Cherry St, Los Angeles, CA 90001  \n",
       "3  2025-11-19 22:24:00.0000000        649 10th St, Seattle, WA 98101  \n",
       "4  2009-11-19 13:56:00.0000000         522 Hill St, Boston, MA 02215  "
      ]
     },
     "execution_count": 43,
     "metadata": {},
     "output_type": "execute_result"
    }
   ],
   "source": [
    "#load data November\n",
    "data_Nov = pd.read_csv('data/Sales_November_2019.csv')\n",
    "data_Nov.head()"
   ]
  },
  {
   "cell_type": "code",
   "execution_count": null,
   "metadata": {
    "scrolled": true
   },
   "outputs": [
    {
     "data": {
      "text/html": [
       "<div>\n",
       "<style scoped>\n",
       "    .dataframe tbody tr th:only-of-type {\n",
       "        vertical-align: middle;\n",
       "    }\n",
       "\n",
       "    .dataframe tbody tr th {\n",
       "        vertical-align: top;\n",
       "    }\n",
       "\n",
       "    .dataframe thead th {\n",
       "        text-align: right;\n",
       "    }\n",
       "</style>\n",
       "<table border=\"1\" class=\"dataframe\">\n",
       "  <thead>\n",
       "    <tr style=\"text-align: right;\">\n",
       "      <th></th>\n",
       "      <th>Order_ID</th>\n",
       "      <th>Product</th>\n",
       "      <th>Quantity_Ordered</th>\n",
       "      <th>Price_Each</th>\n",
       "      <th>Order_Date</th>\n",
       "      <th>Purchase_Address</th>\n",
       "    </tr>\n",
       "  </thead>\n",
       "  <tbody>\n",
       "    <tr>\n",
       "      <th>0</th>\n",
       "      <td>295,665.00</td>\n",
       "      <td>Macbook Pro Laptop</td>\n",
       "      <td>1.00</td>\n",
       "      <td>1,700.00</td>\n",
       "      <td>2030-12-19 00:01:00.0000000</td>\n",
       "      <td>136 Church St, New York City, NY 10001</td>\n",
       "    </tr>\n",
       "    <tr>\n",
       "      <th>1</th>\n",
       "      <td>295,666.00</td>\n",
       "      <td>LG Washing Machine</td>\n",
       "      <td>1.00</td>\n",
       "      <td>600.00</td>\n",
       "      <td>2029-12-19 07:03:00.0000000</td>\n",
       "      <td>562 2nd St, New York City, NY 10001</td>\n",
       "    </tr>\n",
       "    <tr>\n",
       "      <th>2</th>\n",
       "      <td>295,667.00</td>\n",
       "      <td>USB-C Charging Cable</td>\n",
       "      <td>1.00</td>\n",
       "      <td>11.95</td>\n",
       "      <td>2012-12-19 18:21:00.0000000</td>\n",
       "      <td>277 Main St, New York City, NY 10001</td>\n",
       "    </tr>\n",
       "    <tr>\n",
       "      <th>3</th>\n",
       "      <td>295,668.00</td>\n",
       "      <td>27in FHD Monitor</td>\n",
       "      <td>1.00</td>\n",
       "      <td>149.99</td>\n",
       "      <td>2022-12-19 15:13:00.0000000</td>\n",
       "      <td>410 6th St, San Francisco, CA 94016</td>\n",
       "    </tr>\n",
       "    <tr>\n",
       "      <th>4</th>\n",
       "      <td>295,669.00</td>\n",
       "      <td>USB-C Charging Cable</td>\n",
       "      <td>1.00</td>\n",
       "      <td>11.95</td>\n",
       "      <td>2018-12-19 12:38:00.0000000</td>\n",
       "      <td>43 Hill St, Atlanta, GA 30301</td>\n",
       "    </tr>\n",
       "  </tbody>\n",
       "</table>\n",
       "</div>"
      ],
      "text/plain": [
       "    Order_ID               Product  Quantity_Ordered  Price_Each  \\\n",
       "0 295,665.00    Macbook Pro Laptop              1.00    1,700.00   \n",
       "1 295,666.00    LG Washing Machine              1.00      600.00   \n",
       "2 295,667.00  USB-C Charging Cable              1.00       11.95   \n",
       "3 295,668.00      27in FHD Monitor              1.00      149.99   \n",
       "4 295,669.00  USB-C Charging Cable              1.00       11.95   \n",
       "\n",
       "                    Order_Date                        Purchase_Address  \n",
       "0  2030-12-19 00:01:00.0000000  136 Church St, New York City, NY 10001  \n",
       "1  2029-12-19 07:03:00.0000000     562 2nd St, New York City, NY 10001  \n",
       "2  2012-12-19 18:21:00.0000000    277 Main St, New York City, NY 10001  \n",
       "3  2022-12-19 15:13:00.0000000     410 6th St, San Francisco, CA 94016  \n",
       "4  2018-12-19 12:38:00.0000000           43 Hill St, Atlanta, GA 30301  "
      ]
     },
     "execution_count": 44,
     "metadata": {},
     "output_type": "execute_result"
    }
   ],
   "source": [
    "data_dec = pd.read_csv('data/Sales_December_2019.csv')\n",
    "data_dec.head()"
   ]
  },
  {
   "cell_type": "code",
   "execution_count": null,
   "metadata": {
    "scrolled": true
   },
   "outputs": [
    {
     "data": {
      "text/html": [
       "<div>\n",
       "<style scoped>\n",
       "    .dataframe tbody tr th:only-of-type {\n",
       "        vertical-align: middle;\n",
       "    }\n",
       "\n",
       "    .dataframe tbody tr th {\n",
       "        vertical-align: top;\n",
       "    }\n",
       "\n",
       "    .dataframe thead th {\n",
       "        text-align: right;\n",
       "    }\n",
       "</style>\n",
       "<table border=\"1\" class=\"dataframe\">\n",
       "  <thead>\n",
       "    <tr style=\"text-align: right;\">\n",
       "      <th></th>\n",
       "      <th>Order_ID</th>\n",
       "      <th>Product</th>\n",
       "      <th>Quantity_Ordered</th>\n",
       "      <th>Price_Each</th>\n",
       "      <th>Order_Date</th>\n",
       "      <th>Purchase_Address</th>\n",
       "    </tr>\n",
       "  </thead>\n",
       "  <tbody>\n",
       "    <tr>\n",
       "      <th>0</th>\n",
       "      <td>295,665.00</td>\n",
       "      <td>Macbook Pro Laptop</td>\n",
       "      <td>1.00</td>\n",
       "      <td>1,700.00</td>\n",
       "      <td>2030-12-19 00:01:00.0000000</td>\n",
       "      <td>136 Church St, New York City, NY 10001</td>\n",
       "    </tr>\n",
       "    <tr>\n",
       "      <th>1</th>\n",
       "      <td>295,666.00</td>\n",
       "      <td>LG Washing Machine</td>\n",
       "      <td>1.00</td>\n",
       "      <td>600.00</td>\n",
       "      <td>2029-12-19 07:03:00.0000000</td>\n",
       "      <td>562 2nd St, New York City, NY 10001</td>\n",
       "    </tr>\n",
       "    <tr>\n",
       "      <th>2</th>\n",
       "      <td>295,667.00</td>\n",
       "      <td>USB-C Charging Cable</td>\n",
       "      <td>1.00</td>\n",
       "      <td>11.95</td>\n",
       "      <td>2012-12-19 18:21:00.0000000</td>\n",
       "      <td>277 Main St, New York City, NY 10001</td>\n",
       "    </tr>\n",
       "    <tr>\n",
       "      <th>3</th>\n",
       "      <td>295,668.00</td>\n",
       "      <td>27in FHD Monitor</td>\n",
       "      <td>1.00</td>\n",
       "      <td>149.99</td>\n",
       "      <td>2022-12-19 15:13:00.0000000</td>\n",
       "      <td>410 6th St, San Francisco, CA 94016</td>\n",
       "    </tr>\n",
       "    <tr>\n",
       "      <th>4</th>\n",
       "      <td>295,669.00</td>\n",
       "      <td>USB-C Charging Cable</td>\n",
       "      <td>1.00</td>\n",
       "      <td>11.95</td>\n",
       "      <td>2018-12-19 12:38:00.0000000</td>\n",
       "      <td>43 Hill St, Atlanta, GA 30301</td>\n",
       "    </tr>\n",
       "  </tbody>\n",
       "</table>\n",
       "</div>"
      ],
      "text/plain": [
       "    Order_ID               Product  Quantity_Ordered  Price_Each  \\\n",
       "0 295,665.00    Macbook Pro Laptop              1.00    1,700.00   \n",
       "1 295,666.00    LG Washing Machine              1.00      600.00   \n",
       "2 295,667.00  USB-C Charging Cable              1.00       11.95   \n",
       "3 295,668.00      27in FHD Monitor              1.00      149.99   \n",
       "4 295,669.00  USB-C Charging Cable              1.00       11.95   \n",
       "\n",
       "                    Order_Date                        Purchase_Address  \n",
       "0  2030-12-19 00:01:00.0000000  136 Church St, New York City, NY 10001  \n",
       "1  2029-12-19 07:03:00.0000000     562 2nd St, New York City, NY 10001  \n",
       "2  2012-12-19 18:21:00.0000000    277 Main St, New York City, NY 10001  \n",
       "3  2022-12-19 15:13:00.0000000     410 6th St, San Francisco, CA 94016  \n",
       "4  2018-12-19 12:38:00.0000000           43 Hill St, Atlanta, GA 30301  "
      ]
     },
     "execution_count": 45,
     "metadata": {},
     "output_type": "execute_result"
    }
   ],
   "source": [
    "data_dec.head()"
   ]
  },
  {
   "cell_type": "markdown",
   "metadata": {},
   "source": [
    "##### Data Merge\n"
   ]
  },
  {
   "cell_type": "code",
   "execution_count": null,
   "metadata": {
    "scrolled": true
   },
   "outputs": [
    {
     "data": {
      "text/html": [
       "<div>\n",
       "<style scoped>\n",
       "    .dataframe tbody tr th:only-of-type {\n",
       "        vertical-align: middle;\n",
       "    }\n",
       "\n",
       "    .dataframe tbody tr th {\n",
       "        vertical-align: top;\n",
       "    }\n",
       "\n",
       "    .dataframe thead th {\n",
       "        text-align: right;\n",
       "    }\n",
       "</style>\n",
       "<table border=\"1\" class=\"dataframe\">\n",
       "  <thead>\n",
       "    <tr style=\"text-align: right;\">\n",
       "      <th></th>\n",
       "      <th>Order_ID</th>\n",
       "      <th>Product</th>\n",
       "      <th>Quantity_Ordered</th>\n",
       "      <th>Price_Each</th>\n",
       "      <th>Order_Date</th>\n",
       "      <th>Purchase_Address</th>\n",
       "    </tr>\n",
       "  </thead>\n",
       "  <tbody>\n",
       "    <tr>\n",
       "      <th>0</th>\n",
       "      <td>222,910.00</td>\n",
       "      <td>Apple Airpods Headphones</td>\n",
       "      <td>1.00</td>\n",
       "      <td>150.00</td>\n",
       "      <td>2026-07-19 16:51:00.0000000</td>\n",
       "      <td>389 South St, Atlanta, GA 30301</td>\n",
       "    </tr>\n",
       "    <tr>\n",
       "      <th>1</th>\n",
       "      <td>222,911.00</td>\n",
       "      <td>Flatscreen TV</td>\n",
       "      <td>1.00</td>\n",
       "      <td>300.00</td>\n",
       "      <td>2005-07-19 08:55:00.0000000</td>\n",
       "      <td>590 4th St, Seattle, WA 98101</td>\n",
       "    </tr>\n",
       "    <tr>\n",
       "      <th>2</th>\n",
       "      <td>222,912.00</td>\n",
       "      <td>AA Batteries (4-pack)</td>\n",
       "      <td>1.00</td>\n",
       "      <td>3.84</td>\n",
       "      <td>2029-07-19 12:41:00.0000000</td>\n",
       "      <td>861 Hill St, Atlanta, GA 30301</td>\n",
       "    </tr>\n",
       "    <tr>\n",
       "      <th>3</th>\n",
       "      <td>222,913.00</td>\n",
       "      <td>AA Batteries (4-pack)</td>\n",
       "      <td>1.00</td>\n",
       "      <td>3.84</td>\n",
       "      <td>2028-07-19 10:15:00.0000000</td>\n",
       "      <td>190 Ridge St, Atlanta, GA 30301</td>\n",
       "    </tr>\n",
       "    <tr>\n",
       "      <th>4</th>\n",
       "      <td>222,914.00</td>\n",
       "      <td>AAA Batteries (4-pack)</td>\n",
       "      <td>5.00</td>\n",
       "      <td>2.99</td>\n",
       "      <td>2031-07-19 02:13:00.0000000</td>\n",
       "      <td>824 Forest St, Seattle, WA 98101</td>\n",
       "    </tr>\n",
       "  </tbody>\n",
       "</table>\n",
       "</div>"
      ],
      "text/plain": [
       "    Order_ID                   Product  Quantity_Ordered  Price_Each  \\\n",
       "0 222,910.00  Apple Airpods Headphones              1.00      150.00   \n",
       "1 222,911.00             Flatscreen TV              1.00      300.00   \n",
       "2 222,912.00     AA Batteries (4-pack)              1.00        3.84   \n",
       "3 222,913.00     AA Batteries (4-pack)              1.00        3.84   \n",
       "4 222,914.00    AAA Batteries (4-pack)              5.00        2.99   \n",
       "\n",
       "                    Order_Date                  Purchase_Address  \n",
       "0  2026-07-19 16:51:00.0000000   389 South St, Atlanta, GA 30301  \n",
       "1  2005-07-19 08:55:00.0000000     590 4th St, Seattle, WA 98101  \n",
       "2  2029-07-19 12:41:00.0000000    861 Hill St, Atlanta, GA 30301  \n",
       "3  2028-07-19 10:15:00.0000000   190 Ridge St, Atlanta, GA 30301  \n",
       "4  2031-07-19 02:13:00.0000000  824 Forest St, Seattle, WA 98101  "
      ]
     },
     "execution_count": 46,
     "metadata": {},
     "output_type": "execute_result"
    }
   ],
   "source": [
    "data_six_last_mont =pd.concat ([data_July,data_Aug,data_Sept,data_Nov,data_dec],ignore_index=False)\n",
    "data_six_last_mont.head()"
   ]
  },
  {
   "cell_type": "code",
   "execution_count": null,
   "metadata": {
    "scrolled": true
   },
   "outputs": [
    {
     "data": {
      "text/html": [
       "<div>\n",
       "<style scoped>\n",
       "    .dataframe tbody tr th:only-of-type {\n",
       "        vertical-align: middle;\n",
       "    }\n",
       "\n",
       "    .dataframe tbody tr th {\n",
       "        vertical-align: top;\n",
       "    }\n",
       "\n",
       "    .dataframe thead th {\n",
       "        text-align: right;\n",
       "    }\n",
       "</style>\n",
       "<table border=\"1\" class=\"dataframe\">\n",
       "  <thead>\n",
       "    <tr style=\"text-align: right;\">\n",
       "      <th></th>\n",
       "      <th>Order ID</th>\n",
       "      <th>Product</th>\n",
       "      <th>Quantity Ordered</th>\n",
       "      <th>Price Each</th>\n",
       "      <th>Order Date</th>\n",
       "      <th>Purchase Address</th>\n",
       "    </tr>\n",
       "  </thead>\n",
       "  <tbody>\n",
       "    <tr>\n",
       "      <th>0</th>\n",
       "      <td>141234</td>\n",
       "      <td>iPhone</td>\n",
       "      <td>1</td>\n",
       "      <td>700</td>\n",
       "      <td>01/22/19 21:25</td>\n",
       "      <td>944 Walnut St, Boston, MA 02215</td>\n",
       "    </tr>\n",
       "    <tr>\n",
       "      <th>1</th>\n",
       "      <td>141235</td>\n",
       "      <td>Lightning Charging Cable</td>\n",
       "      <td>1</td>\n",
       "      <td>14.95</td>\n",
       "      <td>01/28/19 14:15</td>\n",
       "      <td>185 Maple St, Portland, OR 97035</td>\n",
       "    </tr>\n",
       "    <tr>\n",
       "      <th>2</th>\n",
       "      <td>141236</td>\n",
       "      <td>Wired Headphones</td>\n",
       "      <td>2</td>\n",
       "      <td>11.99</td>\n",
       "      <td>01/17/19 13:33</td>\n",
       "      <td>538 Adams St, San Francisco, CA 94016</td>\n",
       "    </tr>\n",
       "    <tr>\n",
       "      <th>3</th>\n",
       "      <td>141237</td>\n",
       "      <td>27in FHD Monitor</td>\n",
       "      <td>1</td>\n",
       "      <td>149.99</td>\n",
       "      <td>01/05/19 20:33</td>\n",
       "      <td>738 10th St, Los Angeles, CA 90001</td>\n",
       "    </tr>\n",
       "    <tr>\n",
       "      <th>4</th>\n",
       "      <td>141238</td>\n",
       "      <td>Wired Headphones</td>\n",
       "      <td>1</td>\n",
       "      <td>11.99</td>\n",
       "      <td>01/25/19 11:59</td>\n",
       "      <td>387 10th St, Austin, TX 73301</td>\n",
       "    </tr>\n",
       "  </tbody>\n",
       "</table>\n",
       "</div>"
      ],
      "text/plain": [
       "  Order ID                   Product Quantity Ordered Price Each  \\\n",
       "0   141234                    iPhone                1        700   \n",
       "1   141235  Lightning Charging Cable                1      14.95   \n",
       "2   141236          Wired Headphones                2      11.99   \n",
       "3   141237          27in FHD Monitor                1     149.99   \n",
       "4   141238          Wired Headphones                1      11.99   \n",
       "\n",
       "       Order Date                       Purchase Address  \n",
       "0  01/22/19 21:25        944 Walnut St, Boston, MA 02215  \n",
       "1  01/28/19 14:15       185 Maple St, Portland, OR 97035  \n",
       "2  01/17/19 13:33  538 Adams St, San Francisco, CA 94016  \n",
       "3  01/05/19 20:33     738 10th St, Los Angeles, CA 90001  \n",
       "4  01/25/19 11:59          387 10th St, Austin, TX 73301  "
      ]
     },
     "execution_count": 47,
     "metadata": {},
     "output_type": "execute_result"
    }
   ],
   "source": [
    "data_six_first_month = pd.concat([data_jan,data_feb,data_March,data_April,data_May,data_jun],ignore_index=True)\n",
    "data_six_first_month.head()"
   ]
  },
  {
   "cell_type": "code",
   "execution_count": null,
   "metadata": {
    "scrolled": true
   },
   "outputs": [
    {
     "data": {
      "text/plain": [
       "Index(['Order ID', 'Product', 'Quantity Ordered', 'Price Each', 'Order Date',\n",
       "       'Purchase Address'],\n",
       "      dtype='object')"
      ]
     },
     "execution_count": 48,
     "metadata": {},
     "output_type": "execute_result"
    }
   ],
   "source": [
    "#check columns six first month\n",
    "data_six_first_month.columns"
   ]
  },
  {
   "cell_type": "code",
   "execution_count": null,
   "metadata": {
    "scrolled": true
   },
   "outputs": [
    {
     "data": {
      "text/plain": [
       "Index(['Order_ID', 'Product', 'Quantity_Ordered', 'Price_Each', 'Order_Date',\n",
       "       'Purchase_Address'],\n",
       "      dtype='object')"
      ]
     },
     "execution_count": 49,
     "metadata": {},
     "output_type": "execute_result"
    }
   ],
   "source": [
    "#let's check data sixe last month\n",
    "data_six_last_mont.columns"
   ]
  },
  {
   "cell_type": "markdown",
   "metadata": {},
   "source": [
    "#### Rename Column data six last months\n",
    "We noticed that for the columns of the first 6 months are different from that of the last 6 months. Let's try to rename that of the last 6 months in order to confirm the data."
   ]
  },
  {
   "cell_type": "code",
   "execution_count": null,
   "metadata": {
    "scrolled": true
   },
   "outputs": [
    {
     "data": {
      "text/html": [
       "<div>\n",
       "<style scoped>\n",
       "    .dataframe tbody tr th:only-of-type {\n",
       "        vertical-align: middle;\n",
       "    }\n",
       "\n",
       "    .dataframe tbody tr th {\n",
       "        vertical-align: top;\n",
       "    }\n",
       "\n",
       "    .dataframe thead th {\n",
       "        text-align: right;\n",
       "    }\n",
       "</style>\n",
       "<table border=\"1\" class=\"dataframe\">\n",
       "  <thead>\n",
       "    <tr style=\"text-align: right;\">\n",
       "      <th></th>\n",
       "      <th>Order ID</th>\n",
       "      <th>Product</th>\n",
       "      <th>Quantity Ordered</th>\n",
       "      <th>Price Each</th>\n",
       "      <th>Order Date</th>\n",
       "      <th>Purchase Address</th>\n",
       "    </tr>\n",
       "  </thead>\n",
       "  <tbody>\n",
       "    <tr>\n",
       "      <th>0</th>\n",
       "      <td>222,910.00</td>\n",
       "      <td>Apple Airpods Headphones</td>\n",
       "      <td>1.00</td>\n",
       "      <td>150.00</td>\n",
       "      <td>2026-07-19 16:51:00.0000000</td>\n",
       "      <td>389 South St, Atlanta, GA 30301</td>\n",
       "    </tr>\n",
       "    <tr>\n",
       "      <th>1</th>\n",
       "      <td>222,911.00</td>\n",
       "      <td>Flatscreen TV</td>\n",
       "      <td>1.00</td>\n",
       "      <td>300.00</td>\n",
       "      <td>2005-07-19 08:55:00.0000000</td>\n",
       "      <td>590 4th St, Seattle, WA 98101</td>\n",
       "    </tr>\n",
       "    <tr>\n",
       "      <th>2</th>\n",
       "      <td>222,912.00</td>\n",
       "      <td>AA Batteries (4-pack)</td>\n",
       "      <td>1.00</td>\n",
       "      <td>3.84</td>\n",
       "      <td>2029-07-19 12:41:00.0000000</td>\n",
       "      <td>861 Hill St, Atlanta, GA 30301</td>\n",
       "    </tr>\n",
       "    <tr>\n",
       "      <th>3</th>\n",
       "      <td>222,913.00</td>\n",
       "      <td>AA Batteries (4-pack)</td>\n",
       "      <td>1.00</td>\n",
       "      <td>3.84</td>\n",
       "      <td>2028-07-19 10:15:00.0000000</td>\n",
       "      <td>190 Ridge St, Atlanta, GA 30301</td>\n",
       "    </tr>\n",
       "    <tr>\n",
       "      <th>4</th>\n",
       "      <td>222,914.00</td>\n",
       "      <td>AAA Batteries (4-pack)</td>\n",
       "      <td>5.00</td>\n",
       "      <td>2.99</td>\n",
       "      <td>2031-07-19 02:13:00.0000000</td>\n",
       "      <td>824 Forest St, Seattle, WA 98101</td>\n",
       "    </tr>\n",
       "  </tbody>\n",
       "</table>\n",
       "</div>"
      ],
      "text/plain": [
       "    Order ID                   Product  Quantity Ordered  Price Each  \\\n",
       "0 222,910.00  Apple Airpods Headphones              1.00      150.00   \n",
       "1 222,911.00             Flatscreen TV              1.00      300.00   \n",
       "2 222,912.00     AA Batteries (4-pack)              1.00        3.84   \n",
       "3 222,913.00     AA Batteries (4-pack)              1.00        3.84   \n",
       "4 222,914.00    AAA Batteries (4-pack)              5.00        2.99   \n",
       "\n",
       "                    Order Date                  Purchase Address  \n",
       "0  2026-07-19 16:51:00.0000000   389 South St, Atlanta, GA 30301  \n",
       "1  2005-07-19 08:55:00.0000000     590 4th St, Seattle, WA 98101  \n",
       "2  2029-07-19 12:41:00.0000000    861 Hill St, Atlanta, GA 30301  \n",
       "3  2028-07-19 10:15:00.0000000   190 Ridge St, Atlanta, GA 30301  \n",
       "4  2031-07-19 02:13:00.0000000  824 Forest St, Seattle, WA 98101  "
      ]
     },
     "execution_count": 51,
     "metadata": {},
     "output_type": "execute_result"
    }
   ],
   "source": [
    "df1 = pd.DataFrame(data_six_last_mont)\n",
    "df1 = df1.rename(columns={\n",
    "    'Order_ID':'Order ID',\n",
    "    'Quantity_Ordered':'Quantity Ordered',\n",
    "    'Price_Each':'Price Each',\n",
    "    'Order_Date':'Order Date',\n",
    "    'Purchase_Address':'Purchase Address'\n",
    "})\n",
    "\n",
    "df1.head()"
   ]
  },
  {
   "cell_type": "code",
   "execution_count": null,
   "metadata": {
    "scrolled": true
   },
   "outputs": [
    {
     "data": {
      "text/html": [
       "<div>\n",
       "<style scoped>\n",
       "    .dataframe tbody tr th:only-of-type {\n",
       "        vertical-align: middle;\n",
       "    }\n",
       "\n",
       "    .dataframe tbody tr th {\n",
       "        vertical-align: top;\n",
       "    }\n",
       "\n",
       "    .dataframe thead th {\n",
       "        text-align: right;\n",
       "    }\n",
       "</style>\n",
       "<table border=\"1\" class=\"dataframe\">\n",
       "  <thead>\n",
       "    <tr style=\"text-align: right;\">\n",
       "      <th></th>\n",
       "      <th>Product</th>\n",
       "      <th>Quantity Ordered</th>\n",
       "      <th>Price Each</th>\n",
       "      <th>Order Date</th>\n",
       "      <th>Purchase Address</th>\n",
       "    </tr>\n",
       "  </thead>\n",
       "  <tbody>\n",
       "    <tr>\n",
       "      <th>0</th>\n",
       "      <td>Apple Airpods Headphones</td>\n",
       "      <td>1.00</td>\n",
       "      <td>150.00</td>\n",
       "      <td>2026-07-19 16:51:00.0000000</td>\n",
       "      <td>389 South St, Atlanta, GA 30301</td>\n",
       "    </tr>\n",
       "    <tr>\n",
       "      <th>1</th>\n",
       "      <td>Flatscreen TV</td>\n",
       "      <td>1.00</td>\n",
       "      <td>300.00</td>\n",
       "      <td>2005-07-19 08:55:00.0000000</td>\n",
       "      <td>590 4th St, Seattle, WA 98101</td>\n",
       "    </tr>\n",
       "    <tr>\n",
       "      <th>2</th>\n",
       "      <td>AA Batteries (4-pack)</td>\n",
       "      <td>1.00</td>\n",
       "      <td>3.84</td>\n",
       "      <td>2029-07-19 12:41:00.0000000</td>\n",
       "      <td>861 Hill St, Atlanta, GA 30301</td>\n",
       "    </tr>\n",
       "    <tr>\n",
       "      <th>3</th>\n",
       "      <td>AA Batteries (4-pack)</td>\n",
       "      <td>1.00</td>\n",
       "      <td>3.84</td>\n",
       "      <td>2028-07-19 10:15:00.0000000</td>\n",
       "      <td>190 Ridge St, Atlanta, GA 30301</td>\n",
       "    </tr>\n",
       "    <tr>\n",
       "      <th>4</th>\n",
       "      <td>AAA Batteries (4-pack)</td>\n",
       "      <td>5.00</td>\n",
       "      <td>2.99</td>\n",
       "      <td>2031-07-19 02:13:00.0000000</td>\n",
       "      <td>824 Forest St, Seattle, WA 98101</td>\n",
       "    </tr>\n",
       "  </tbody>\n",
       "</table>\n",
       "</div>"
      ],
      "text/plain": [
       "                    Product  Quantity Ordered  Price Each  \\\n",
       "0  Apple Airpods Headphones              1.00      150.00   \n",
       "1             Flatscreen TV              1.00      300.00   \n",
       "2     AA Batteries (4-pack)              1.00        3.84   \n",
       "3     AA Batteries (4-pack)              1.00        3.84   \n",
       "4    AAA Batteries (4-pack)              5.00        2.99   \n",
       "\n",
       "                    Order Date                  Purchase Address  \n",
       "0  2026-07-19 16:51:00.0000000   389 South St, Atlanta, GA 30301  \n",
       "1  2005-07-19 08:55:00.0000000     590 4th St, Seattle, WA 98101  \n",
       "2  2029-07-19 12:41:00.0000000    861 Hill St, Atlanta, GA 30301  \n",
       "3  2028-07-19 10:15:00.0000000   190 Ridge St, Atlanta, GA 30301  \n",
       "4  2031-07-19 02:13:00.0000000  824 Forest St, Seattle, WA 98101  "
      ]
     },
     "execution_count": 52,
     "metadata": {},
     "output_type": "execute_result"
    }
   ],
   "source": [
    "#let's drop our Order ID\n",
    "df1.drop(['Order ID'],axis=1,inplace=True)\n",
    "df1.head()"
   ]
  },
  {
   "cell_type": "code",
   "execution_count": null,
   "metadata": {
    "scrolled": true
   },
   "outputs": [
    {
     "data": {
      "text/html": [
       "<div>\n",
       "<style scoped>\n",
       "    .dataframe tbody tr th:only-of-type {\n",
       "        vertical-align: middle;\n",
       "    }\n",
       "\n",
       "    .dataframe tbody tr th {\n",
       "        vertical-align: top;\n",
       "    }\n",
       "\n",
       "    .dataframe thead th {\n",
       "        text-align: right;\n",
       "    }\n",
       "</style>\n",
       "<table border=\"1\" class=\"dataframe\">\n",
       "  <thead>\n",
       "    <tr style=\"text-align: right;\">\n",
       "      <th></th>\n",
       "      <th>Product</th>\n",
       "      <th>Quantity Ordered</th>\n",
       "      <th>Price Each</th>\n",
       "      <th>Order Date</th>\n",
       "      <th>Purchase Address</th>\n",
       "    </tr>\n",
       "  </thead>\n",
       "  <tbody>\n",
       "    <tr>\n",
       "      <th>0</th>\n",
       "      <td>iPhone</td>\n",
       "      <td>1</td>\n",
       "      <td>700</td>\n",
       "      <td>01/22/19 21:25</td>\n",
       "      <td>944 Walnut St, Boston, MA 02215</td>\n",
       "    </tr>\n",
       "    <tr>\n",
       "      <th>1</th>\n",
       "      <td>Lightning Charging Cable</td>\n",
       "      <td>1</td>\n",
       "      <td>14.95</td>\n",
       "      <td>01/28/19 14:15</td>\n",
       "      <td>185 Maple St, Portland, OR 97035</td>\n",
       "    </tr>\n",
       "    <tr>\n",
       "      <th>2</th>\n",
       "      <td>Wired Headphones</td>\n",
       "      <td>2</td>\n",
       "      <td>11.99</td>\n",
       "      <td>01/17/19 13:33</td>\n",
       "      <td>538 Adams St, San Francisco, CA 94016</td>\n",
       "    </tr>\n",
       "    <tr>\n",
       "      <th>3</th>\n",
       "      <td>27in FHD Monitor</td>\n",
       "      <td>1</td>\n",
       "      <td>149.99</td>\n",
       "      <td>01/05/19 20:33</td>\n",
       "      <td>738 10th St, Los Angeles, CA 90001</td>\n",
       "    </tr>\n",
       "    <tr>\n",
       "      <th>4</th>\n",
       "      <td>Wired Headphones</td>\n",
       "      <td>1</td>\n",
       "      <td>11.99</td>\n",
       "      <td>01/25/19 11:59</td>\n",
       "      <td>387 10th St, Austin, TX 73301</td>\n",
       "    </tr>\n",
       "  </tbody>\n",
       "</table>\n",
       "</div>"
      ],
      "text/plain": [
       "                    Product Quantity Ordered Price Each      Order Date  \\\n",
       "0                    iPhone                1        700  01/22/19 21:25   \n",
       "1  Lightning Charging Cable                1      14.95  01/28/19 14:15   \n",
       "2          Wired Headphones                2      11.99  01/17/19 13:33   \n",
       "3          27in FHD Monitor                1     149.99  01/05/19 20:33   \n",
       "4          Wired Headphones                1      11.99  01/25/19 11:59   \n",
       "\n",
       "                        Purchase Address  \n",
       "0        944 Walnut St, Boston, MA 02215  \n",
       "1       185 Maple St, Portland, OR 97035  \n",
       "2  538 Adams St, San Francisco, CA 94016  \n",
       "3     738 10th St, Los Angeles, CA 90001  \n",
       "4          387 10th St, Austin, TX 73301  "
      ]
     },
     "execution_count": 53,
     "metadata": {},
     "output_type": "execute_result"
    }
   ],
   "source": [
    "#let's drop our columns for data six irst month\n",
    "data_six_first_month.drop(['Order ID'],axis=1,inplace=True)\n",
    "data_six_first_month.head()"
   ]
  },
  {
   "cell_type": "markdown",
   "metadata": {},
   "source": [
    "#### Merge All Data \n",
    "Now we will merge the data in order to have a unique dataset"
   ]
  },
  {
   "cell_type": "code",
   "execution_count": null,
   "metadata": {
    "scrolled": true
   },
   "outputs": [],
   "source": [
    "data = pd.concat([df1,data_six_first_month],ignore_index=False)\n",
    "data.head(),"
   ]
  },
  {
   "cell_type": "code",
   "execution_count": null,
   "metadata": {
    "scrolled": true
   },
   "outputs": [],
   "source": [
    "#save data\n",
    "data.to_csv('data/Sale_data.csv', index=False)"
   ]
  },
  {
   "cell_type": "code",
   "execution_count": 2,
   "metadata": {
    "scrolled": true
   },
   "outputs": [],
   "source": [
    "data_saved = pd.read_csv('data/Sale_data.csv')"
   ]
  },
  {
   "cell_type": "code",
   "execution_count": 3,
   "metadata": {
    "scrolled": true
   },
   "outputs": [
    {
     "data": {
      "text/html": [
       "<div>\n",
       "<style scoped>\n",
       "    .dataframe tbody tr th:only-of-type {\n",
       "        vertical-align: middle;\n",
       "    }\n",
       "\n",
       "    .dataframe tbody tr th {\n",
       "        vertical-align: top;\n",
       "    }\n",
       "\n",
       "    .dataframe thead th {\n",
       "        text-align: right;\n",
       "    }\n",
       "</style>\n",
       "<table border=\"1\" class=\"dataframe\">\n",
       "  <thead>\n",
       "    <tr style=\"text-align: right;\">\n",
       "      <th></th>\n",
       "      <th>Product</th>\n",
       "      <th>Quantity Ordered</th>\n",
       "      <th>Price Each</th>\n",
       "      <th>Order Date</th>\n",
       "      <th>Purchase Address</th>\n",
       "    </tr>\n",
       "  </thead>\n",
       "  <tbody>\n",
       "    <tr>\n",
       "      <th>0</th>\n",
       "      <td>Apple Airpods Headphones</td>\n",
       "      <td>1.0</td>\n",
       "      <td>150.0</td>\n",
       "      <td>2026-07-19 16:51:00.0000000</td>\n",
       "      <td>389 South St, Atlanta, GA 30301</td>\n",
       "    </tr>\n",
       "    <tr>\n",
       "      <th>1</th>\n",
       "      <td>Flatscreen TV</td>\n",
       "      <td>1.0</td>\n",
       "      <td>300.0</td>\n",
       "      <td>2005-07-19 08:55:00.0000000</td>\n",
       "      <td>590 4th St, Seattle, WA 98101</td>\n",
       "    </tr>\n",
       "    <tr>\n",
       "      <th>2</th>\n",
       "      <td>AA Batteries (4-pack)</td>\n",
       "      <td>1.0</td>\n",
       "      <td>3.839999914169312</td>\n",
       "      <td>2029-07-19 12:41:00.0000000</td>\n",
       "      <td>861 Hill St, Atlanta, GA 30301</td>\n",
       "    </tr>\n",
       "    <tr>\n",
       "      <th>3</th>\n",
       "      <td>AA Batteries (4-pack)</td>\n",
       "      <td>1.0</td>\n",
       "      <td>3.839999914169312</td>\n",
       "      <td>2028-07-19 10:15:00.0000000</td>\n",
       "      <td>190 Ridge St, Atlanta, GA 30301</td>\n",
       "    </tr>\n",
       "    <tr>\n",
       "      <th>4</th>\n",
       "      <td>AAA Batteries (4-pack)</td>\n",
       "      <td>5.0</td>\n",
       "      <td>2.990000009536743</td>\n",
       "      <td>2031-07-19 02:13:00.0000000</td>\n",
       "      <td>824 Forest St, Seattle, WA 98101</td>\n",
       "    </tr>\n",
       "  </tbody>\n",
       "</table>\n",
       "</div>"
      ],
      "text/plain": [
       "                    Product Quantity Ordered         Price Each  \\\n",
       "0  Apple Airpods Headphones              1.0              150.0   \n",
       "1             Flatscreen TV              1.0              300.0   \n",
       "2     AA Batteries (4-pack)              1.0  3.839999914169312   \n",
       "3     AA Batteries (4-pack)              1.0  3.839999914169312   \n",
       "4    AAA Batteries (4-pack)              5.0  2.990000009536743   \n",
       "\n",
       "                    Order Date                  Purchase Address  \n",
       "0  2026-07-19 16:51:00.0000000   389 South St, Atlanta, GA 30301  \n",
       "1  2005-07-19 08:55:00.0000000     590 4th St, Seattle, WA 98101  \n",
       "2  2029-07-19 12:41:00.0000000    861 Hill St, Atlanta, GA 30301  \n",
       "3  2028-07-19 10:15:00.0000000   190 Ridge St, Atlanta, GA 30301  \n",
       "4  2031-07-19 02:13:00.0000000  824 Forest St, Seattle, WA 98101  "
      ]
     },
     "execution_count": 3,
     "metadata": {},
     "output_type": "execute_result"
    }
   ],
   "source": [
    "data_copy = data_saved.copy()\n",
    "data_copy.head()"
   ]
  },
  {
   "cell_type": "code",
   "execution_count": 4,
   "metadata": {
    "scrolled": true
   },
   "outputs": [
    {
     "data": {
      "text/html": [
       "<div>\n",
       "<style scoped>\n",
       "    .dataframe tbody tr th:only-of-type {\n",
       "        vertical-align: middle;\n",
       "    }\n",
       "\n",
       "    .dataframe tbody tr th {\n",
       "        vertical-align: top;\n",
       "    }\n",
       "\n",
       "    .dataframe thead th {\n",
       "        text-align: right;\n",
       "    }\n",
       "</style>\n",
       "<table border=\"1\" class=\"dataframe\">\n",
       "  <thead>\n",
       "    <tr style=\"text-align: right;\">\n",
       "      <th></th>\n",
       "      <th>Product</th>\n",
       "      <th>Quantity Ordered</th>\n",
       "      <th>Price Each</th>\n",
       "      <th>Order Date</th>\n",
       "      <th>Purchase Address</th>\n",
       "    </tr>\n",
       "  </thead>\n",
       "  <tbody>\n",
       "    <tr>\n",
       "      <th>0</th>\n",
       "      <td>Apple Airpods Headphones</td>\n",
       "      <td>1.0</td>\n",
       "      <td>150.0</td>\n",
       "      <td>2026-07-19 16:51:00.0000000</td>\n",
       "      <td>389 South St, Atlanta, GA 30301</td>\n",
       "    </tr>\n",
       "    <tr>\n",
       "      <th>1</th>\n",
       "      <td>Flatscreen TV</td>\n",
       "      <td>1.0</td>\n",
       "      <td>300.0</td>\n",
       "      <td>2005-07-19 08:55:00.0000000</td>\n",
       "      <td>590 4th St, Seattle, WA 98101</td>\n",
       "    </tr>\n",
       "    <tr>\n",
       "      <th>2</th>\n",
       "      <td>AA Batteries (4-pack)</td>\n",
       "      <td>1.0</td>\n",
       "      <td>3.839999914169312</td>\n",
       "      <td>2029-07-19 12:41:00.0000000</td>\n",
       "      <td>861 Hill St, Atlanta, GA 30301</td>\n",
       "    </tr>\n",
       "    <tr>\n",
       "      <th>3</th>\n",
       "      <td>AA Batteries (4-pack)</td>\n",
       "      <td>1.0</td>\n",
       "      <td>3.839999914169312</td>\n",
       "      <td>2028-07-19 10:15:00.0000000</td>\n",
       "      <td>190 Ridge St, Atlanta, GA 30301</td>\n",
       "    </tr>\n",
       "    <tr>\n",
       "      <th>4</th>\n",
       "      <td>AAA Batteries (4-pack)</td>\n",
       "      <td>5.0</td>\n",
       "      <td>2.990000009536743</td>\n",
       "      <td>2031-07-19 02:13:00.0000000</td>\n",
       "      <td>824 Forest St, Seattle, WA 98101</td>\n",
       "    </tr>\n",
       "    <tr>\n",
       "      <th>...</th>\n",
       "      <td>...</td>\n",
       "      <td>...</td>\n",
       "      <td>...</td>\n",
       "      <td>...</td>\n",
       "      <td>...</td>\n",
       "    </tr>\n",
       "    <tr>\n",
       "      <th>166466</th>\n",
       "      <td>AAA Batteries (4-pack)</td>\n",
       "      <td>1</td>\n",
       "      <td>2.99</td>\n",
       "      <td>06/07/19 19:02</td>\n",
       "      <td>795 Pine St, Boston, MA 02215</td>\n",
       "    </tr>\n",
       "    <tr>\n",
       "      <th>166467</th>\n",
       "      <td>27in FHD Monitor</td>\n",
       "      <td>1</td>\n",
       "      <td>149.99</td>\n",
       "      <td>06/01/19 19:29</td>\n",
       "      <td>495 North St, New York City, NY 10001</td>\n",
       "    </tr>\n",
       "    <tr>\n",
       "      <th>166468</th>\n",
       "      <td>USB-C Charging Cable</td>\n",
       "      <td>1</td>\n",
       "      <td>11.95</td>\n",
       "      <td>06/22/19 18:57</td>\n",
       "      <td>319 Ridge St, San Francisco, CA 94016</td>\n",
       "    </tr>\n",
       "    <tr>\n",
       "      <th>166469</th>\n",
       "      <td>USB-C Charging Cable</td>\n",
       "      <td>1</td>\n",
       "      <td>11.95</td>\n",
       "      <td>06/26/19 18:35</td>\n",
       "      <td>916 Main St, San Francisco, CA 94016</td>\n",
       "    </tr>\n",
       "    <tr>\n",
       "      <th>166470</th>\n",
       "      <td>AAA Batteries (4-pack)</td>\n",
       "      <td>1</td>\n",
       "      <td>2.99</td>\n",
       "      <td>06/25/19 14:33</td>\n",
       "      <td>209 11th St, Atlanta, GA 30301</td>\n",
       "    </tr>\n",
       "  </tbody>\n",
       "</table>\n",
       "<p>166471 rows × 5 columns</p>\n",
       "</div>"
      ],
      "text/plain": [
       "                         Product Quantity Ordered         Price Each  \\\n",
       "0       Apple Airpods Headphones              1.0              150.0   \n",
       "1                  Flatscreen TV              1.0              300.0   \n",
       "2          AA Batteries (4-pack)              1.0  3.839999914169312   \n",
       "3          AA Batteries (4-pack)              1.0  3.839999914169312   \n",
       "4         AAA Batteries (4-pack)              5.0  2.990000009536743   \n",
       "...                          ...              ...                ...   \n",
       "166466    AAA Batteries (4-pack)                1               2.99   \n",
       "166467          27in FHD Monitor                1             149.99   \n",
       "166468      USB-C Charging Cable                1              11.95   \n",
       "166469      USB-C Charging Cable                1              11.95   \n",
       "166470    AAA Batteries (4-pack)                1               2.99   \n",
       "\n",
       "                         Order Date                       Purchase Address  \n",
       "0       2026-07-19 16:51:00.0000000        389 South St, Atlanta, GA 30301  \n",
       "1       2005-07-19 08:55:00.0000000          590 4th St, Seattle, WA 98101  \n",
       "2       2029-07-19 12:41:00.0000000         861 Hill St, Atlanta, GA 30301  \n",
       "3       2028-07-19 10:15:00.0000000        190 Ridge St, Atlanta, GA 30301  \n",
       "4       2031-07-19 02:13:00.0000000       824 Forest St, Seattle, WA 98101  \n",
       "...                             ...                                    ...  \n",
       "166466               06/07/19 19:02          795 Pine St, Boston, MA 02215  \n",
       "166467               06/01/19 19:29  495 North St, New York City, NY 10001  \n",
       "166468               06/22/19 18:57  319 Ridge St, San Francisco, CA 94016  \n",
       "166469               06/26/19 18:35   916 Main St, San Francisco, CA 94016  \n",
       "166470               06/25/19 14:33         209 11th St, Atlanta, GA 30301  \n",
       "\n",
       "[166471 rows x 5 columns]"
      ]
     },
     "execution_count": 4,
     "metadata": {},
     "output_type": "execute_result"
    }
   ],
   "source": [
    "data_copy[data_copy['Product']=='AAA Batteries (4-pack)']\n",
    "data_copy"
   ]
  },
  {
   "cell_type": "markdown",
   "metadata": {},
   "source": [
    "#### 2.Data Cleaning"
   ]
  },
  {
   "cell_type": "code",
   "execution_count": 5,
   "metadata": {
    "scrolled": true
   },
   "outputs": [
    {
     "data": {
      "text/html": [
       "<div>\n",
       "<style scoped>\n",
       "    .dataframe tbody tr th:only-of-type {\n",
       "        vertical-align: middle;\n",
       "    }\n",
       "\n",
       "    .dataframe tbody tr th {\n",
       "        vertical-align: top;\n",
       "    }\n",
       "\n",
       "    .dataframe thead th {\n",
       "        text-align: right;\n",
       "    }\n",
       "</style>\n",
       "<table border=\"1\" class=\"dataframe\">\n",
       "  <thead>\n",
       "    <tr style=\"text-align: right;\">\n",
       "      <th></th>\n",
       "      <th>Product</th>\n",
       "      <th>Quantity Ordered</th>\n",
       "      <th>Price Each</th>\n",
       "      <th>Order Date</th>\n",
       "      <th>Purchase Address</th>\n",
       "    </tr>\n",
       "  </thead>\n",
       "  <tbody>\n",
       "    <tr>\n",
       "      <th>166466</th>\n",
       "      <td>AAA Batteries (4-pack)</td>\n",
       "      <td>1</td>\n",
       "      <td>2.99</td>\n",
       "      <td>06/07/19 19:02</td>\n",
       "      <td>795 Pine St, Boston, MA 02215</td>\n",
       "    </tr>\n",
       "    <tr>\n",
       "      <th>166467</th>\n",
       "      <td>27in FHD Monitor</td>\n",
       "      <td>1</td>\n",
       "      <td>149.99</td>\n",
       "      <td>06/01/19 19:29</td>\n",
       "      <td>495 North St, New York City, NY 10001</td>\n",
       "    </tr>\n",
       "    <tr>\n",
       "      <th>166468</th>\n",
       "      <td>USB-C Charging Cable</td>\n",
       "      <td>1</td>\n",
       "      <td>11.95</td>\n",
       "      <td>06/22/19 18:57</td>\n",
       "      <td>319 Ridge St, San Francisco, CA 94016</td>\n",
       "    </tr>\n",
       "    <tr>\n",
       "      <th>166469</th>\n",
       "      <td>USB-C Charging Cable</td>\n",
       "      <td>1</td>\n",
       "      <td>11.95</td>\n",
       "      <td>06/26/19 18:35</td>\n",
       "      <td>916 Main St, San Francisco, CA 94016</td>\n",
       "    </tr>\n",
       "    <tr>\n",
       "      <th>166470</th>\n",
       "      <td>AAA Batteries (4-pack)</td>\n",
       "      <td>1</td>\n",
       "      <td>2.99</td>\n",
       "      <td>06/25/19 14:33</td>\n",
       "      <td>209 11th St, Atlanta, GA 30301</td>\n",
       "    </tr>\n",
       "  </tbody>\n",
       "</table>\n",
       "</div>"
      ],
      "text/plain": [
       "                       Product Quantity Ordered Price Each      Order Date  \\\n",
       "166466  AAA Batteries (4-pack)                1       2.99  06/07/19 19:02   \n",
       "166467        27in FHD Monitor                1     149.99  06/01/19 19:29   \n",
       "166468    USB-C Charging Cable                1      11.95  06/22/19 18:57   \n",
       "166469    USB-C Charging Cable                1      11.95  06/26/19 18:35   \n",
       "166470  AAA Batteries (4-pack)                1       2.99  06/25/19 14:33   \n",
       "\n",
       "                             Purchase Address  \n",
       "166466          795 Pine St, Boston, MA 02215  \n",
       "166467  495 North St, New York City, NY 10001  \n",
       "166468  319 Ridge St, San Francisco, CA 94016  \n",
       "166469   916 Main St, San Francisco, CA 94016  \n",
       "166470         209 11th St, Atlanta, GA 30301  "
      ]
     },
     "execution_count": 5,
     "metadata": {},
     "output_type": "execute_result"
    }
   ],
   "source": [
    "data_copy.tail()"
   ]
  },
  {
   "cell_type": "code",
   "execution_count": 6,
   "metadata": {
    "scrolled": true
   },
   "outputs": [
    {
     "data": {
      "text/plain": [
       "(166471, 5)"
      ]
     },
     "execution_count": 6,
     "metadata": {},
     "output_type": "execute_result"
    }
   ],
   "source": [
    "#let's check shape\n",
    "data_copy.shape"
   ]
  },
  {
   "cell_type": "markdown",
   "metadata": {},
   "source": [
    "Our new dataset now has 5 columns and 166471 rows. On the other hand, in our describe we don't see the samething, this is certainly due to the presence of missing values."
   ]
  },
  {
   "cell_type": "markdown",
   "metadata": {},
   "source": [
    "#### Exploratory Data Analysis: EDA"
   ]
  },
  {
   "cell_type": "markdown",
   "metadata": {},
   "source": [
    "##### Analysis of Data Shape"
   ]
  },
  {
   "cell_type": "code",
   "execution_count": 7,
   "metadata": {
    "scrolled": true
   },
   "outputs": [
    {
     "name": "stdout",
     "output_type": "stream",
     "text": [
      "<class 'pandas.core.frame.DataFrame'>\n",
      "RangeIndex: 166471 entries, 0 to 166470\n",
      "Data columns (total 5 columns):\n",
      " #   Column            Non-Null Count   Dtype \n",
      "---  ------            --------------   ----- \n",
      " 0   Product           165988 non-null  object\n",
      " 1   Quantity Ordered  165826 non-null  object\n",
      " 2   Price Each        165826 non-null  object\n",
      " 3   Order Date        165826 non-null  object\n",
      " 4   Purchase Address  165988 non-null  object\n",
      "dtypes: object(5)\n",
      "memory usage: 6.4+ MB\n"
     ]
    }
   ],
   "source": [
    "#### let's check our contain data\n",
    "data_copy.info()"
   ]
  },
  {
   "cell_type": "markdown",
   "metadata": {},
   "source": [
    "###### 2.1 MISSING VALUE"
   ]
  },
  {
   "cell_type": "code",
   "execution_count": 8,
   "metadata": {
    "scrolled": true
   },
   "outputs": [
    {
     "data": {
      "text/plain": [
       "Product             483\n",
       "Quantity Ordered    645\n",
       "Price Each          645\n",
       "Order Date          645\n",
       "Purchase Address    483\n",
       "dtype: int64"
      ]
     },
     "execution_count": 8,
     "metadata": {},
     "output_type": "execute_result"
    }
   ],
   "source": [
    "data_copy.isna().sum()"
   ]
  },
  {
   "cell_type": "markdown",
   "metadata": {},
   "source": [
    "Apparently all our 5 columns contain missing values, let's try to see more of what these missing values hide by column."
   ]
  },
  {
   "cell_type": "code",
   "execution_count": 9,
   "metadata": {
    "scrolled": true
   },
   "outputs": [
    {
     "data": {
      "text/plain": [
       "Product             0.290141\n",
       "Purchase Address    0.290141\n",
       "Quantity Ordered    0.387455\n",
       "Price Each          0.387455\n",
       "Order Date          0.387455\n",
       "dtype: float64"
      ]
     },
     "execution_count": 9,
     "metadata": {},
     "output_type": "execute_result"
    }
   ],
   "source": [
    "#let's check our Product column\n",
    "#data_copy.isna().sum()\n",
    "((data_copy.isna().sum()/data_copy.shape[0])*100).sort_values(ascending=True)"
   ]
  },
  {
   "cell_type": "markdown",
   "metadata": {},
   "source": [
    "***'Product' and 'Purchase Address'*** have a missing value rate of 0.29%.\n",
    "\n",
    "***'Quantity Ordered', 'Price Each', and 'Order Date'*** have a slightly higher missing value rate of 0.39%.\n",
    "\n",
    "Percentage too low compared to the size of our dataset, let's use the deletion method to eliminate these missing values"
   ]
  },
  {
   "cell_type": "code",
   "execution_count": 10,
   "metadata": {
    "scrolled": true
   },
   "outputs": [
    {
     "data": {
      "text/html": [
       "<div>\n",
       "<style scoped>\n",
       "    .dataframe tbody tr th:only-of-type {\n",
       "        vertical-align: middle;\n",
       "    }\n",
       "\n",
       "    .dataframe tbody tr th {\n",
       "        vertical-align: top;\n",
       "    }\n",
       "\n",
       "    .dataframe thead th {\n",
       "        text-align: right;\n",
       "    }\n",
       "</style>\n",
       "<table border=\"1\" class=\"dataframe\">\n",
       "  <thead>\n",
       "    <tr style=\"text-align: right;\">\n",
       "      <th></th>\n",
       "      <th>Product</th>\n",
       "      <th>Quantity Ordered</th>\n",
       "      <th>Price Each</th>\n",
       "      <th>Order Date</th>\n",
       "      <th>Purchase Address</th>\n",
       "    </tr>\n",
       "  </thead>\n",
       "  <tbody>\n",
       "    <tr>\n",
       "      <th>0</th>\n",
       "      <td>Apple Airpods Headphones</td>\n",
       "      <td>1.0</td>\n",
       "      <td>150.0</td>\n",
       "      <td>2026-07-19 16:51:00.0000000</td>\n",
       "      <td>389 South St, Atlanta, GA 30301</td>\n",
       "    </tr>\n",
       "    <tr>\n",
       "      <th>1</th>\n",
       "      <td>Flatscreen TV</td>\n",
       "      <td>1.0</td>\n",
       "      <td>300.0</td>\n",
       "      <td>2005-07-19 08:55:00.0000000</td>\n",
       "      <td>590 4th St, Seattle, WA 98101</td>\n",
       "    </tr>\n",
       "    <tr>\n",
       "      <th>2</th>\n",
       "      <td>AA Batteries (4-pack)</td>\n",
       "      <td>1.0</td>\n",
       "      <td>3.839999914169312</td>\n",
       "      <td>2029-07-19 12:41:00.0000000</td>\n",
       "      <td>861 Hill St, Atlanta, GA 30301</td>\n",
       "    </tr>\n",
       "    <tr>\n",
       "      <th>3</th>\n",
       "      <td>AA Batteries (4-pack)</td>\n",
       "      <td>1.0</td>\n",
       "      <td>3.839999914169312</td>\n",
       "      <td>2028-07-19 10:15:00.0000000</td>\n",
       "      <td>190 Ridge St, Atlanta, GA 30301</td>\n",
       "    </tr>\n",
       "    <tr>\n",
       "      <th>4</th>\n",
       "      <td>AAA Batteries (4-pack)</td>\n",
       "      <td>5.0</td>\n",
       "      <td>2.990000009536743</td>\n",
       "      <td>2031-07-19 02:13:00.0000000</td>\n",
       "      <td>824 Forest St, Seattle, WA 98101</td>\n",
       "    </tr>\n",
       "  </tbody>\n",
       "</table>\n",
       "</div>"
      ],
      "text/plain": [
       "                    Product Quantity Ordered         Price Each  \\\n",
       "0  Apple Airpods Headphones              1.0              150.0   \n",
       "1             Flatscreen TV              1.0              300.0   \n",
       "2     AA Batteries (4-pack)              1.0  3.839999914169312   \n",
       "3     AA Batteries (4-pack)              1.0  3.839999914169312   \n",
       "4    AAA Batteries (4-pack)              5.0  2.990000009536743   \n",
       "\n",
       "                    Order Date                  Purchase Address  \n",
       "0  2026-07-19 16:51:00.0000000   389 South St, Atlanta, GA 30301  \n",
       "1  2005-07-19 08:55:00.0000000     590 4th St, Seattle, WA 98101  \n",
       "2  2029-07-19 12:41:00.0000000    861 Hill St, Atlanta, GA 30301  \n",
       "3  2028-07-19 10:15:00.0000000   190 Ridge St, Atlanta, GA 30301  \n",
       "4  2031-07-19 02:13:00.0000000  824 Forest St, Seattle, WA 98101  "
      ]
     },
     "execution_count": 10,
     "metadata": {},
     "output_type": "execute_result"
    }
   ],
   "source": [
    "#let's drop missing values\n",
    "data_cleaning = data_copy.dropna()\n",
    "data_cleaning.head()"
   ]
  },
  {
   "cell_type": "code",
   "execution_count": 11,
   "metadata": {
    "scrolled": true
   },
   "outputs": [
    {
     "data": {
      "text/plain": [
       "Product             0\n",
       "Quantity Ordered    0\n",
       "Price Each          0\n",
       "Order Date          0\n",
       "Purchase Address    0\n",
       "dtype: int64"
      ]
     },
     "execution_count": 11,
     "metadata": {},
     "output_type": "execute_result"
    }
   ],
   "source": [
    "#let's check if we are a missing value our new dataset\n",
    "data_cleaning.isna().sum()"
   ]
  },
  {
   "cell_type": "code",
   "execution_count": 12,
   "metadata": {
    "scrolled": true
   },
   "outputs": [
    {
     "name": "stdout",
     "output_type": "stream",
     "text": [
      "<class 'pandas.core.frame.DataFrame'>\n",
      "Index: 165826 entries, 0 to 166470\n",
      "Data columns (total 5 columns):\n",
      " #   Column            Non-Null Count   Dtype \n",
      "---  ------            --------------   ----- \n",
      " 0   Product           165826 non-null  object\n",
      " 1   Quantity Ordered  165826 non-null  object\n",
      " 2   Price Each        165826 non-null  object\n",
      " 3   Order Date        165826 non-null  object\n",
      " 4   Purchase Address  165826 non-null  object\n",
      "dtypes: object(5)\n",
      "memory usage: 7.6+ MB\n"
     ]
    }
   ],
   "source": [
    "data_cleaning.info()"
   ]
  },
  {
   "cell_type": "markdown",
   "metadata": {},
   "source": [
    "Now that our new dataset is clean with 165826 rows, however, there's no guarantee that we don't have any duplicates. Let's try to verify that."
   ]
  },
  {
   "cell_type": "code",
   "execution_count": 13,
   "metadata": {
    "scrolled": true
   },
   "outputs": [
    {
     "name": "stdout",
     "output_type": "stream",
     "text": [
      "There are a duplicated\n",
      "390\n"
     ]
    }
   ],
   "source": [
    "#let's check duplicated\n",
    "data_duplicated = data_cleaning.duplicated()\n",
    "\n",
    "if data_duplicated.empty:\n",
    "    print('he is no duplicated')\n",
    "else:\n",
    "    print('There are a duplicated')\n",
    "    print(data_duplicated.sum())"
   ]
  },
  {
   "cell_type": "code",
   "execution_count": 14,
   "metadata": {
    "scrolled": true
   },
   "outputs": [
    {
     "data": {
      "text/html": [
       "<div>\n",
       "<style scoped>\n",
       "    .dataframe tbody tr th:only-of-type {\n",
       "        vertical-align: middle;\n",
       "    }\n",
       "\n",
       "    .dataframe tbody tr th {\n",
       "        vertical-align: top;\n",
       "    }\n",
       "\n",
       "    .dataframe thead th {\n",
       "        text-align: right;\n",
       "    }\n",
       "</style>\n",
       "<table border=\"1\" class=\"dataframe\">\n",
       "  <thead>\n",
       "    <tr style=\"text-align: right;\">\n",
       "      <th></th>\n",
       "      <th>Product</th>\n",
       "      <th>Quantity Ordered</th>\n",
       "      <th>Price Each</th>\n",
       "      <th>Order Date</th>\n",
       "      <th>Purchase Address</th>\n",
       "    </tr>\n",
       "  </thead>\n",
       "  <tbody>\n",
       "    <tr>\n",
       "      <th>0</th>\n",
       "      <td>Apple Airpods Headphones</td>\n",
       "      <td>1.0</td>\n",
       "      <td>150.0</td>\n",
       "      <td>2026-07-19 16:51:00.0000000</td>\n",
       "      <td>389 South St, Atlanta, GA 30301</td>\n",
       "    </tr>\n",
       "    <tr>\n",
       "      <th>1</th>\n",
       "      <td>Flatscreen TV</td>\n",
       "      <td>1.0</td>\n",
       "      <td>300.0</td>\n",
       "      <td>2005-07-19 08:55:00.0000000</td>\n",
       "      <td>590 4th St, Seattle, WA 98101</td>\n",
       "    </tr>\n",
       "    <tr>\n",
       "      <th>2</th>\n",
       "      <td>AA Batteries (4-pack)</td>\n",
       "      <td>1.0</td>\n",
       "      <td>3.839999914169312</td>\n",
       "      <td>2029-07-19 12:41:00.0000000</td>\n",
       "      <td>861 Hill St, Atlanta, GA 30301</td>\n",
       "    </tr>\n",
       "    <tr>\n",
       "      <th>3</th>\n",
       "      <td>AA Batteries (4-pack)</td>\n",
       "      <td>1.0</td>\n",
       "      <td>3.839999914169312</td>\n",
       "      <td>2028-07-19 10:15:00.0000000</td>\n",
       "      <td>190 Ridge St, Atlanta, GA 30301</td>\n",
       "    </tr>\n",
       "    <tr>\n",
       "      <th>4</th>\n",
       "      <td>AAA Batteries (4-pack)</td>\n",
       "      <td>5.0</td>\n",
       "      <td>2.990000009536743</td>\n",
       "      <td>2031-07-19 02:13:00.0000000</td>\n",
       "      <td>824 Forest St, Seattle, WA 98101</td>\n",
       "    </tr>\n",
       "  </tbody>\n",
       "</table>\n",
       "</div>"
      ],
      "text/plain": [
       "                    Product Quantity Ordered         Price Each  \\\n",
       "0  Apple Airpods Headphones              1.0              150.0   \n",
       "1             Flatscreen TV              1.0              300.0   \n",
       "2     AA Batteries (4-pack)              1.0  3.839999914169312   \n",
       "3     AA Batteries (4-pack)              1.0  3.839999914169312   \n",
       "4    AAA Batteries (4-pack)              5.0  2.990000009536743   \n",
       "\n",
       "                    Order Date                  Purchase Address  \n",
       "0  2026-07-19 16:51:00.0000000   389 South St, Atlanta, GA 30301  \n",
       "1  2005-07-19 08:55:00.0000000     590 4th St, Seattle, WA 98101  \n",
       "2  2029-07-19 12:41:00.0000000    861 Hill St, Atlanta, GA 30301  \n",
       "3  2028-07-19 10:15:00.0000000   190 Ridge St, Atlanta, GA 30301  \n",
       "4  2031-07-19 02:13:00.0000000  824 Forest St, Seattle, WA 98101  "
      ]
     },
     "execution_count": 14,
     "metadata": {},
     "output_type": "execute_result"
    }
   ],
   "source": [
    "data_cleaning.head()"
   ]
  },
  {
   "cell_type": "code",
   "execution_count": 15,
   "metadata": {
    "scrolled": true
   },
   "outputs": [],
   "source": [
    "#let's drop duplicated \n",
    "data_cleaning = data_cleaning.drop_duplicates()"
   ]
  },
  {
   "cell_type": "code",
   "execution_count": 16,
   "metadata": {
    "scrolled": true
   },
   "outputs": [
    {
     "data": {
      "text/plain": [
       "0"
      ]
     },
     "execution_count": 16,
     "metadata": {},
     "output_type": "execute_result"
    }
   ],
   "source": [
    "#check again if we are duplicated\n",
    "data_cleaning.duplicated().sum()"
   ]
  },
  {
   "cell_type": "code",
   "execution_count": 17,
   "metadata": {
    "scrolled": true
   },
   "outputs": [
    {
     "name": "stdout",
     "output_type": "stream",
     "text": [
      "<class 'pandas.core.frame.DataFrame'>\n",
      "Index: 165436 entries, 0 to 166470\n",
      "Data columns (total 5 columns):\n",
      " #   Column            Non-Null Count   Dtype \n",
      "---  ------            --------------   ----- \n",
      " 0   Product           165436 non-null  object\n",
      " 1   Quantity Ordered  165436 non-null  object\n",
      " 2   Price Each        165436 non-null  object\n",
      " 3   Order Date        165436 non-null  object\n",
      " 4   Purchase Address  165436 non-null  object\n",
      "dtypes: object(5)\n",
      "memory usage: 7.6+ MB\n"
     ]
    }
   ],
   "source": [
    "data_cleaning.info()"
   ]
  },
  {
   "cell_type": "markdown",
   "metadata": {},
   "source": [
    "After cleaning our dataset by removing missing values and duplicates, we now have a total of 165436 rows. This cleaning step allows us to have higher quality data for our subsequent analyses."
   ]
  },
  {
   "cell_type": "code",
   "execution_count": 18,
   "metadata": {
    "scrolled": true
   },
   "outputs": [
    {
     "data": {
      "text/html": [
       "<div>\n",
       "<style scoped>\n",
       "    .dataframe tbody tr th:only-of-type {\n",
       "        vertical-align: middle;\n",
       "    }\n",
       "\n",
       "    .dataframe tbody tr th {\n",
       "        vertical-align: top;\n",
       "    }\n",
       "\n",
       "    .dataframe thead th {\n",
       "        text-align: right;\n",
       "    }\n",
       "</style>\n",
       "<table border=\"1\" class=\"dataframe\">\n",
       "  <thead>\n",
       "    <tr style=\"text-align: right;\">\n",
       "      <th></th>\n",
       "      <th>count</th>\n",
       "      <th>unique</th>\n",
       "      <th>top</th>\n",
       "      <th>freq</th>\n",
       "    </tr>\n",
       "  </thead>\n",
       "  <tbody>\n",
       "    <tr>\n",
       "      <th>Product</th>\n",
       "      <td>165436</td>\n",
       "      <td>20</td>\n",
       "      <td>USB-C Charging Cable</td>\n",
       "      <td>19421</td>\n",
       "    </tr>\n",
       "    <tr>\n",
       "      <th>Quantity Ordered</th>\n",
       "      <td>165436</td>\n",
       "      <td>18</td>\n",
       "      <td>1</td>\n",
       "      <td>77098</td>\n",
       "    </tr>\n",
       "    <tr>\n",
       "      <th>Price Each</th>\n",
       "      <td>165436</td>\n",
       "      <td>35</td>\n",
       "      <td>11.95</td>\n",
       "      <td>9931</td>\n",
       "    </tr>\n",
       "    <tr>\n",
       "      <th>Order Date</th>\n",
       "      <td>165436</td>\n",
       "      <td>127549</td>\n",
       "      <td>2015-12-19 20:16:00.0000000</td>\n",
       "      <td>8</td>\n",
       "    </tr>\n",
       "    <tr>\n",
       "      <th>Purchase Address</th>\n",
       "      <td>165436</td>\n",
       "      <td>128509</td>\n",
       "      <td>193 Forest St, San Francisco, CA 94016</td>\n",
       "      <td>9</td>\n",
       "    </tr>\n",
       "  </tbody>\n",
       "</table>\n",
       "</div>"
      ],
      "text/plain": [
       "                   count  unique                                     top  \\\n",
       "Product           165436      20                    USB-C Charging Cable   \n",
       "Quantity Ordered  165436      18                                       1   \n",
       "Price Each        165436      35                                   11.95   \n",
       "Order Date        165436  127549             2015-12-19 20:16:00.0000000   \n",
       "Purchase Address  165436  128509  193 Forest St, San Francisco, CA 94016   \n",
       "\n",
       "                   freq  \n",
       "Product           19421  \n",
       "Quantity Ordered  77098  \n",
       "Price Each         9931  \n",
       "Order Date            8  \n",
       "Purchase Address      9  "
      ]
     },
     "execution_count": 18,
     "metadata": {},
     "output_type": "execute_result"
    }
   ],
   "source": [
    "#Let's check our data clean information\n",
    "pd.set_option('display.float_format', '{:,.2f}'.format)\n",
    "data_cleaning.describe().T"
   ]
  },
  {
   "cell_type": "markdown",
   "metadata": {},
   "source": [
    "This provides an overview of the distibution of our data after the cleaning process\n",
    "\n",
    "**For numerical variables:**\n",
    "\n",
    "**. 'Quantity Ordered' and 'Price Each'** have the same statistics as before, with 165436 entries, 18 unique values, and their most frequent value (top) is 1 for 'Quantity Ordered' and 11.95 for 'Price Each'.\n",
    "\n",
    "**.'Order Date'** now indicates that there are 127549 unique dates, and the most frequent date (top) is '2015-12-19 20:16:00.0000000' with 8 occurrences.\n",
    "\n",
    "**For categorical variables:**\n",
    "\n",
    "**'Product' and 'Purchase Address'** also remain the same, with 165436 entries and 20 unique products and 128509 unique addresses. The most frequent product is 'USB-C Charging Cable', and the most frequent address is '193 Forest St, San Francisco, CA 94016'."
   ]
  },
  {
   "cell_type": "code",
   "execution_count": 19,
   "metadata": {
    "scrolled": true
   },
   "outputs": [
    {
     "data": {
      "text/plain": [
       "0         2026-07-19 16:51:00.0000000\n",
       "1         2005-07-19 08:55:00.0000000\n",
       "2         2029-07-19 12:41:00.0000000\n",
       "3         2028-07-19 10:15:00.0000000\n",
       "4         2031-07-19 02:13:00.0000000\n",
       "                     ...             \n",
       "166466                 06/07/19 19:02\n",
       "166467                 06/01/19 19:29\n",
       "166468                 06/22/19 18:57\n",
       "166469                 06/26/19 18:35\n",
       "166470                 06/25/19 14:33\n",
       "Name: Order Date, Length: 165436, dtype: object"
      ]
     },
     "execution_count": 19,
     "metadata": {},
     "output_type": "execute_result"
    }
   ],
   "source": [
    "#let's change our Order Date format\n",
    "data_cleaning['Order Date']"
   ]
  },
  {
   "cell_type": "code",
   "execution_count": 20,
   "metadata": {
    "scrolled": true
   },
   "outputs": [
    {
     "data": {
      "text/html": [
       "<div>\n",
       "<style scoped>\n",
       "    .dataframe tbody tr th:only-of-type {\n",
       "        vertical-align: middle;\n",
       "    }\n",
       "\n",
       "    .dataframe tbody tr th {\n",
       "        vertical-align: top;\n",
       "    }\n",
       "\n",
       "    .dataframe thead th {\n",
       "        text-align: right;\n",
       "    }\n",
       "</style>\n",
       "<table border=\"1\" class=\"dataframe\">\n",
       "  <thead>\n",
       "    <tr style=\"text-align: right;\">\n",
       "      <th></th>\n",
       "      <th>Product</th>\n",
       "      <th>Quantity Ordered</th>\n",
       "      <th>Price Each</th>\n",
       "      <th>Order Date</th>\n",
       "      <th>Purchase Address</th>\n",
       "    </tr>\n",
       "  </thead>\n",
       "  <tbody>\n",
       "    <tr>\n",
       "      <th>0</th>\n",
       "      <td>Apple Airpods Headphones</td>\n",
       "      <td>1.0</td>\n",
       "      <td>150.0</td>\n",
       "      <td>2026-07-19 16:51</td>\n",
       "      <td>389 South St, Atlanta, GA 30301</td>\n",
       "    </tr>\n",
       "    <tr>\n",
       "      <th>1</th>\n",
       "      <td>Flatscreen TV</td>\n",
       "      <td>1.0</td>\n",
       "      <td>300.0</td>\n",
       "      <td>2005-07-19 08:55</td>\n",
       "      <td>590 4th St, Seattle, WA 98101</td>\n",
       "    </tr>\n",
       "    <tr>\n",
       "      <th>2</th>\n",
       "      <td>AA Batteries (4-pack)</td>\n",
       "      <td>1.0</td>\n",
       "      <td>3.839999914169312</td>\n",
       "      <td>2029-07-19 12:41</td>\n",
       "      <td>861 Hill St, Atlanta, GA 30301</td>\n",
       "    </tr>\n",
       "    <tr>\n",
       "      <th>3</th>\n",
       "      <td>AA Batteries (4-pack)</td>\n",
       "      <td>1.0</td>\n",
       "      <td>3.839999914169312</td>\n",
       "      <td>2028-07-19 10:15</td>\n",
       "      <td>190 Ridge St, Atlanta, GA 30301</td>\n",
       "    </tr>\n",
       "    <tr>\n",
       "      <th>4</th>\n",
       "      <td>AAA Batteries (4-pack)</td>\n",
       "      <td>5.0</td>\n",
       "      <td>2.990000009536743</td>\n",
       "      <td>2031-07-19 02:13</td>\n",
       "      <td>824 Forest St, Seattle, WA 98101</td>\n",
       "    </tr>\n",
       "  </tbody>\n",
       "</table>\n",
       "</div>"
      ],
      "text/plain": [
       "                    Product Quantity Ordered         Price Each  \\\n",
       "0  Apple Airpods Headphones              1.0              150.0   \n",
       "1             Flatscreen TV              1.0              300.0   \n",
       "2     AA Batteries (4-pack)              1.0  3.839999914169312   \n",
       "3     AA Batteries (4-pack)              1.0  3.839999914169312   \n",
       "4    AAA Batteries (4-pack)              5.0  2.990000009536743   \n",
       "\n",
       "         Order Date                  Purchase Address  \n",
       "0  2026-07-19 16:51   389 South St, Atlanta, GA 30301  \n",
       "1  2005-07-19 08:55     590 4th St, Seattle, WA 98101  \n",
       "2  2029-07-19 12:41    861 Hill St, Atlanta, GA 30301  \n",
       "3  2028-07-19 10:15   190 Ridge St, Atlanta, GA 30301  \n",
       "4  2031-07-19 02:13  824 Forest St, Seattle, WA 98101  "
      ]
     },
     "execution_count": 20,
     "metadata": {},
     "output_type": "execute_result"
    }
   ],
   "source": [
    "data_cleaning['Order Date']  = pd.to_datetime(data_cleaning['Order Date'],errors='coerce')\n",
    "\n",
    "#convert the format 06/01/19 19:29 to format 'YYY-MM-DD HH:MM:SS\n",
    "data_cleaning['Order Date'] = data_cleaning['Order Date'].dt.strftime('%Y-%m-%d %H:%M')\n",
    "\n",
    "#Convert format '2023-07-19 23:51:00.00000 to include only hour and minut\n",
    "data_cleaning['Order Date'] = pd.to_datetime(data_cleaning['Order Date']).dt.strftime('%Y-%m-%d %H:%M')\n",
    "\n",
    "data_cleaning.head()"
   ]
  },
  {
   "cell_type": "code",
   "execution_count": 21,
   "metadata": {
    "scrolled": true
   },
   "outputs": [
    {
     "data": {
      "text/plain": [
       "array(['2026-07-19 16:51', '2005-07-19 08:55', '2029-07-19 12:41', ...,\n",
       "       '2009-12-19 06:43', '2003-12-19 10:39', nan], dtype=object)"
      ]
     },
     "execution_count": 21,
     "metadata": {},
     "output_type": "execute_result"
    }
   ],
   "source": [
    "#let's check the unique \n",
    "data_cleaning['Order Date'].unique()"
   ]
  },
  {
   "cell_type": "code",
   "execution_count": 22,
   "metadata": {
    "scrolled": true
   },
   "outputs": [
    {
     "data": {
      "text/plain": [
       "(165436, 5)"
      ]
     },
     "execution_count": 22,
     "metadata": {},
     "output_type": "execute_result"
    }
   ],
   "source": [
    "data_cleaning.shape"
   ]
  },
  {
   "cell_type": "code",
   "execution_count": 23,
   "metadata": {
    "scrolled": true
   },
   "outputs": [
    {
     "data": {
      "text/plain": [
       "Product                 0\n",
       "Quantity Ordered        0\n",
       "Price Each              0\n",
       "Order Date          85113\n",
       "Purchase Address        0\n",
       "dtype: int64"
      ]
     },
     "execution_count": 23,
     "metadata": {},
     "output_type": "execute_result"
    }
   ],
   "source": [
    "data_cleaning.isna().sum()"
   ]
  },
  {
   "cell_type": "code",
   "execution_count": 24,
   "metadata": {
    "scrolled": true
   },
   "outputs": [
    {
     "data": {
      "text/plain": [
       "Product             0.00\n",
       "Quantity Ordered    0.00\n",
       "Price Each          0.00\n",
       "Purchase Address    0.00\n",
       "Order Date         51.45\n",
       "dtype: float64"
      ]
     },
     "execution_count": 24,
     "metadata": {},
     "output_type": "execute_result"
    }
   ],
   "source": [
    "#let's see the percent of missing value\n",
    "((data_cleaning.isna().sum()/data_cleaning.shape[0])*100).sort_values(ascending=True)"
   ]
  },
  {
   "cell_type": "code",
   "execution_count": 25,
   "metadata": {
    "scrolled": true
   },
   "outputs": [],
   "source": [
    "#Replce nan on column Order date\n",
    "data_cleaning['Order Date'].fillna(method='ffill',inplace=True)"
   ]
  },
  {
   "cell_type": "code",
   "execution_count": 26,
   "metadata": {
    "scrolled": true
   },
   "outputs": [
    {
     "data": {
      "text/plain": [
       "array(['2026-07-19 16:51', '2005-07-19 08:55', '2029-07-19 12:41', ...,\n",
       "       '2001-12-19 12:01', '2009-12-19 06:43', '2003-12-19 10:39'],\n",
       "      dtype=object)"
      ]
     },
     "execution_count": 26,
     "metadata": {},
     "output_type": "execute_result"
    }
   ],
   "source": [
    "#Let's check again\n",
    "data_cleaning['Order Date'].unique()"
   ]
  },
  {
   "cell_type": "code",
   "execution_count": 27,
   "metadata": {
    "scrolled": true
   },
   "outputs": [
    {
     "data": {
      "text/plain": [
       "Product             0\n",
       "Quantity Ordered    0\n",
       "Price Each          0\n",
       "Order Date          0\n",
       "Purchase Address    0\n",
       "dtype: int64"
      ]
     },
     "execution_count": 27,
     "metadata": {},
     "output_type": "execute_result"
    }
   ],
   "source": [
    "data_cleaning.isna().sum()"
   ]
  },
  {
   "cell_type": "code",
   "execution_count": 28,
   "metadata": {
    "scrolled": true
   },
   "outputs": [
    {
     "data": {
      "text/plain": [
       "(165436, 5)"
      ]
     },
     "execution_count": 28,
     "metadata": {},
     "output_type": "execute_result"
    }
   ],
   "source": [
    "data_cleaning.shape"
   ]
  },
  {
   "cell_type": "code",
   "execution_count": 29,
   "metadata": {
    "scrolled": true
   },
   "outputs": [
    {
     "data": {
      "text/plain": [
       "Quantity Ordered\n",
       "1                   77098\n",
       "1.0                 72755\n",
       "2                    6146\n",
       "2.0                  5786\n",
       "3                    1357\n",
       "3.0                  1270\n",
       "4                     357\n",
       "4.0                   351\n",
       "5                     117\n",
       "5.0                    98\n",
       "6.0                    44\n",
       "6                      29\n",
       "7.0                    14\n",
       "7                       7\n",
       "8.0                     3\n",
       "9.0                     2\n",
       "Quantity Ordered        1\n",
       "9                       1\n",
       "Name: count, dtype: int64"
      ]
     },
     "execution_count": 29,
     "metadata": {},
     "output_type": "execute_result"
    }
   ],
   "source": [
    "data_cleaning['Quantity Ordered'].value_counts()"
   ]
  },
  {
   "cell_type": "code",
   "execution_count": 30,
   "metadata": {
    "scrolled": true
   },
   "outputs": [],
   "source": [
    "#lets' replace string to int\n",
    "data_cleaning['Quantity Ordered'].replace('Quantity Ordered',0.0,inplace=True)"
   ]
  },
  {
   "cell_type": "code",
   "execution_count": 31,
   "metadata": {
    "scrolled": true
   },
   "outputs": [
    {
     "data": {
      "text/plain": [
       "Quantity Ordered\n",
       "1      77098\n",
       "1.0    72755\n",
       "2       6146\n",
       "2.0     5786\n",
       "3       1357\n",
       "3.0     1270\n",
       "4        357\n",
       "4.0      351\n",
       "5        117\n",
       "5.0       98\n",
       "6.0       44\n",
       "6         29\n",
       "7.0       14\n",
       "7          7\n",
       "8.0        3\n",
       "9.0        2\n",
       "0.0        1\n",
       "9          1\n",
       "Name: count, dtype: int64"
      ]
     },
     "execution_count": 31,
     "metadata": {},
     "output_type": "execute_result"
    }
   ],
   "source": [
    "#let's check again our column Quantity Ordered\n",
    "data_cleaning['Quantity Ordered'].value_counts()"
   ]
  },
  {
   "cell_type": "code",
   "execution_count": 32,
   "metadata": {
    "scrolled": true
   },
   "outputs": [],
   "source": [
    "#Convert column Quantity Ordered to float\n",
    "data_cleaning['Quantity Ordered']=data_cleaning['Quantity Ordered'].astype(float)\n"
   ]
  },
  {
   "cell_type": "code",
   "execution_count": 33,
   "metadata": {
    "scrolled": true
   },
   "outputs": [
    {
     "data": {
      "text/plain": [
       "array([1., 5., 2., 3., 4., 6., 7., 8., 9., 0.])"
      ]
     },
     "execution_count": 33,
     "metadata": {},
     "output_type": "execute_result"
    }
   ],
   "source": [
    "data_cleaning['Quantity Ordered'].unique()"
   ]
  },
  {
   "cell_type": "code",
   "execution_count": 34,
   "metadata": {
    "scrolled": true
   },
   "outputs": [
    {
     "data": {
      "text/plain": [
       "0"
      ]
     },
     "execution_count": 34,
     "metadata": {},
     "output_type": "execute_result"
    }
   ],
   "source": [
    "data_cleaning['Quantity Ordered'].isna().sum()"
   ]
  },
  {
   "cell_type": "code",
   "execution_count": 35,
   "metadata": {
    "scrolled": true
   },
   "outputs": [
    {
     "data": {
      "text/plain": [
       "array(['150.0', '300.0', '3.839999914169312', '2.990000009536743',\n",
       "       '99.98999786376952', '600.0', '11.949999809265137',\n",
       "       '14.949999809265137', '379.989990234375', '11.989999771118164',\n",
       "       '400.0', '149.99000549316406', '109.98999786376952',\n",
       "       '999.989990234375', '389.989990234375', '1700.0', '700.0', '700',\n",
       "       '14.95', '11.99', '149.99', '2.99', '389.99', '11.95', '99.99',\n",
       "       '150', '1700', '300', '400', '3.84', '600', '109.99', '379.99',\n",
       "       '999.99', 'Price Each'], dtype=object)"
      ]
     },
     "execution_count": 35,
     "metadata": {},
     "output_type": "execute_result"
    }
   ],
   "source": [
    "#Let's do the same for Price \n",
    "data_cleaning['Price Each'].unique()"
   ]
  },
  {
   "cell_type": "code",
   "execution_count": 36,
   "metadata": {
    "scrolled": true
   },
   "outputs": [],
   "source": [
    "#let's change 'Price Each' to 0 inside my column\n",
    "data_cleaning['Price Each'].replace('Price Each',0.00,inplace=True)"
   ]
  },
  {
   "cell_type": "markdown",
   "metadata": {},
   "source": [
    "To achieve this, you need to convert all values in the 'Price Each' column to float and remove all non-numeric characters."
   ]
  },
  {
   "cell_type": "code",
   "execution_count": 37,
   "metadata": {
    "scrolled": true
   },
   "outputs": [],
   "source": [
    "#Convert the 'Price Each' column to string\n",
    "data_cleaning['Price Each'] = data_cleaning['Price Each'].astype(str)\n",
    "\n",
    "#Remove all non-numerical characters \n",
    "data_cleaning['Price Each'] = data_cleaning['Price Each'].str.replace(r'[^0-9]','')\n",
    "\n",
    "#Convert the 'Price Each' column to float\n",
    "data_cleaning['Price Each'] = data_cleaning['Price Each'].astype(float)"
   ]
  },
  {
   "cell_type": "code",
   "execution_count": 38,
   "metadata": {
    "scrolled": true
   },
   "outputs": [
    {
     "data": {
      "text/plain": [
       "array([ 150.        ,  300.        ,    3.83999991,    2.99000001,\n",
       "         99.98999786,  600.        ,   11.94999981,   14.94999981,\n",
       "        379.98999023,   11.98999977,  400.        ,  149.99000549,\n",
       "        109.98999786,  999.98999023,  389.98999023, 1700.        ,\n",
       "        700.        ,   14.95      ,   11.99      ,  149.99      ,\n",
       "          2.99      ,  389.99      ,   11.95      ,   99.99      ,\n",
       "          3.84      ,  109.99      ,  379.99      ,  999.99      ,\n",
       "          0.        ])"
      ]
     },
     "execution_count": 38,
     "metadata": {},
     "output_type": "execute_result"
    }
   ],
   "source": [
    "data_cleaning['Price Each'].unique()"
   ]
  },
  {
   "cell_type": "code",
   "execution_count": 39,
   "metadata": {
    "scrolled": true
   },
   "outputs": [
    {
     "data": {
      "text/html": [
       "<div>\n",
       "<style scoped>\n",
       "    .dataframe tbody tr th:only-of-type {\n",
       "        vertical-align: middle;\n",
       "    }\n",
       "\n",
       "    .dataframe tbody tr th {\n",
       "        vertical-align: top;\n",
       "    }\n",
       "\n",
       "    .dataframe thead th {\n",
       "        text-align: right;\n",
       "    }\n",
       "</style>\n",
       "<table border=\"1\" class=\"dataframe\">\n",
       "  <thead>\n",
       "    <tr style=\"text-align: right;\">\n",
       "      <th></th>\n",
       "      <th>Product</th>\n",
       "      <th>Quantity Ordered</th>\n",
       "      <th>Price Each</th>\n",
       "      <th>Order Date</th>\n",
       "      <th>Purchase Address</th>\n",
       "    </tr>\n",
       "  </thead>\n",
       "  <tbody>\n",
       "    <tr>\n",
       "      <th>0</th>\n",
       "      <td>Apple Airpods Headphones</td>\n",
       "      <td>1.00</td>\n",
       "      <td>150.00</td>\n",
       "      <td>2026-07-19 16:51</td>\n",
       "      <td>389 South St, Atlanta, GA 30301</td>\n",
       "    </tr>\n",
       "    <tr>\n",
       "      <th>1</th>\n",
       "      <td>Flatscreen TV</td>\n",
       "      <td>1.00</td>\n",
       "      <td>300.00</td>\n",
       "      <td>2005-07-19 08:55</td>\n",
       "      <td>590 4th St, Seattle, WA 98101</td>\n",
       "    </tr>\n",
       "    <tr>\n",
       "      <th>2</th>\n",
       "      <td>AA Batteries (4-pack)</td>\n",
       "      <td>1.00</td>\n",
       "      <td>3.84</td>\n",
       "      <td>2029-07-19 12:41</td>\n",
       "      <td>861 Hill St, Atlanta, GA 30301</td>\n",
       "    </tr>\n",
       "    <tr>\n",
       "      <th>3</th>\n",
       "      <td>AA Batteries (4-pack)</td>\n",
       "      <td>1.00</td>\n",
       "      <td>3.84</td>\n",
       "      <td>2028-07-19 10:15</td>\n",
       "      <td>190 Ridge St, Atlanta, GA 30301</td>\n",
       "    </tr>\n",
       "    <tr>\n",
       "      <th>4</th>\n",
       "      <td>AAA Batteries (4-pack)</td>\n",
       "      <td>5.00</td>\n",
       "      <td>2.99</td>\n",
       "      <td>2031-07-19 02:13</td>\n",
       "      <td>824 Forest St, Seattle, WA 98101</td>\n",
       "    </tr>\n",
       "  </tbody>\n",
       "</table>\n",
       "</div>"
      ],
      "text/plain": [
       "                    Product  Quantity Ordered  Price Each        Order Date  \\\n",
       "0  Apple Airpods Headphones              1.00      150.00  2026-07-19 16:51   \n",
       "1             Flatscreen TV              1.00      300.00  2005-07-19 08:55   \n",
       "2     AA Batteries (4-pack)              1.00        3.84  2029-07-19 12:41   \n",
       "3     AA Batteries (4-pack)              1.00        3.84  2028-07-19 10:15   \n",
       "4    AAA Batteries (4-pack)              5.00        2.99  2031-07-19 02:13   \n",
       "\n",
       "                   Purchase Address  \n",
       "0   389 South St, Atlanta, GA 30301  \n",
       "1     590 4th St, Seattle, WA 98101  \n",
       "2    861 Hill St, Atlanta, GA 30301  \n",
       "3   190 Ridge St, Atlanta, GA 30301  \n",
       "4  824 Forest St, Seattle, WA 98101  "
      ]
     },
     "execution_count": 39,
     "metadata": {},
     "output_type": "execute_result"
    }
   ],
   "source": [
    "data_cleaning.head()"
   ]
  },
  {
   "cell_type": "code",
   "execution_count": 40,
   "metadata": {
    "scrolled": true
   },
   "outputs": [
    {
     "data": {
      "text/plain": [
       "array(['Apple Airpods Headphones', 'Flatscreen TV',\n",
       "       'AA Batteries (4-pack)', 'AAA Batteries (4-pack)',\n",
       "       'Bose SoundSport Headphones', 'Google Phone', 'LG Dryer',\n",
       "       'USB-C Charging Cable', 'Lightning Charging Cable',\n",
       "       '34in Ultrawide Monitor', 'Wired Headphones', 'Vareebadd Phone',\n",
       "       '27in FHD Monitor', '20in Monitor', 'ThinkPad Laptop',\n",
       "       '27in 4K Gaming Monitor', 'Macbook Pro Laptop', 'iPhone',\n",
       "       'LG Washing Machine', 'Product'], dtype=object)"
      ]
     },
     "execution_count": 40,
     "metadata": {},
     "output_type": "execute_result"
    }
   ],
   "source": [
    "#let's check for Product column\n",
    "data_cleaning['Product'].unique()"
   ]
  },
  {
   "cell_type": "code",
   "execution_count": 41,
   "metadata": {
    "scrolled": true
   },
   "outputs": [
    {
     "data": {
      "text/plain": [
       "0"
      ]
     },
     "execution_count": 41,
     "metadata": {},
     "output_type": "execute_result"
    }
   ],
   "source": [
    "data_cleaning['Product'].isna().sum()"
   ]
  },
  {
   "cell_type": "code",
   "execution_count": 42,
   "metadata": {
    "scrolled": true
   },
   "outputs": [],
   "source": [
    "data_cleaning['Product'].replace('AAA Batteries (4-pack)','AA Batteries (4-pack)',inplace=True)"
   ]
  },
  {
   "cell_type": "code",
   "execution_count": 43,
   "metadata": {
    "scrolled": true
   },
   "outputs": [
    {
     "data": {
      "text/plain": [
       "False    164731\n",
       "True        705\n",
       "Name: count, dtype: int64"
      ]
     },
     "execution_count": 43,
     "metadata": {},
     "output_type": "execute_result"
    }
   ],
   "source": [
    "data_cleaning.duplicated().value_counts()"
   ]
  },
  {
   "cell_type": "code",
   "execution_count": 44,
   "metadata": {
    "scrolled": true
   },
   "outputs": [
    {
     "data": {
      "text/html": [
       "<div>\n",
       "<style scoped>\n",
       "    .dataframe tbody tr th:only-of-type {\n",
       "        vertical-align: middle;\n",
       "    }\n",
       "\n",
       "    .dataframe tbody tr th {\n",
       "        vertical-align: top;\n",
       "    }\n",
       "\n",
       "    .dataframe thead th {\n",
       "        text-align: right;\n",
       "    }\n",
       "</style>\n",
       "<table border=\"1\" class=\"dataframe\">\n",
       "  <thead>\n",
       "    <tr style=\"text-align: right;\">\n",
       "      <th></th>\n",
       "      <th>Product</th>\n",
       "      <th>Quantity Ordered</th>\n",
       "      <th>Price Each</th>\n",
       "      <th>Order Date</th>\n",
       "      <th>Purchase Address</th>\n",
       "    </tr>\n",
       "  </thead>\n",
       "  <tbody>\n",
       "    <tr>\n",
       "      <th>0</th>\n",
       "      <td>Apple Airpods Headphones</td>\n",
       "      <td>1.00</td>\n",
       "      <td>150.00</td>\n",
       "      <td>2026-07-19 16:51</td>\n",
       "      <td>389 South St, Atlanta, GA 30301</td>\n",
       "    </tr>\n",
       "    <tr>\n",
       "      <th>1</th>\n",
       "      <td>Flatscreen TV</td>\n",
       "      <td>1.00</td>\n",
       "      <td>300.00</td>\n",
       "      <td>2005-07-19 08:55</td>\n",
       "      <td>590 4th St, Seattle, WA 98101</td>\n",
       "    </tr>\n",
       "    <tr>\n",
       "      <th>2</th>\n",
       "      <td>AA Batteries (4-pack)</td>\n",
       "      <td>1.00</td>\n",
       "      <td>3.84</td>\n",
       "      <td>2029-07-19 12:41</td>\n",
       "      <td>861 Hill St, Atlanta, GA 30301</td>\n",
       "    </tr>\n",
       "    <tr>\n",
       "      <th>3</th>\n",
       "      <td>AA Batteries (4-pack)</td>\n",
       "      <td>1.00</td>\n",
       "      <td>3.84</td>\n",
       "      <td>2028-07-19 10:15</td>\n",
       "      <td>190 Ridge St, Atlanta, GA 30301</td>\n",
       "    </tr>\n",
       "    <tr>\n",
       "      <th>4</th>\n",
       "      <td>AA Batteries (4-pack)</td>\n",
       "      <td>5.00</td>\n",
       "      <td>2.99</td>\n",
       "      <td>2031-07-19 02:13</td>\n",
       "      <td>824 Forest St, Seattle, WA 98101</td>\n",
       "    </tr>\n",
       "    <tr>\n",
       "      <th>...</th>\n",
       "      <td>...</td>\n",
       "      <td>...</td>\n",
       "      <td>...</td>\n",
       "      <td>...</td>\n",
       "      <td>...</td>\n",
       "    </tr>\n",
       "    <tr>\n",
       "      <th>166465</th>\n",
       "      <td>Macbook Pro Laptop</td>\n",
       "      <td>1.00</td>\n",
       "      <td>1,700.00</td>\n",
       "      <td>2021-12-19 21:45</td>\n",
       "      <td>975 2nd St, Los Angeles, CA 90001</td>\n",
       "    </tr>\n",
       "    <tr>\n",
       "      <th>166467</th>\n",
       "      <td>27in FHD Monitor</td>\n",
       "      <td>1.00</td>\n",
       "      <td>149.99</td>\n",
       "      <td>2021-12-19 21:45</td>\n",
       "      <td>495 North St, New York City, NY 10001</td>\n",
       "    </tr>\n",
       "    <tr>\n",
       "      <th>166468</th>\n",
       "      <td>USB-C Charging Cable</td>\n",
       "      <td>1.00</td>\n",
       "      <td>11.95</td>\n",
       "      <td>2021-12-19 21:45</td>\n",
       "      <td>319 Ridge St, San Francisco, CA 94016</td>\n",
       "    </tr>\n",
       "    <tr>\n",
       "      <th>166469</th>\n",
       "      <td>USB-C Charging Cable</td>\n",
       "      <td>1.00</td>\n",
       "      <td>11.95</td>\n",
       "      <td>2021-12-19 21:45</td>\n",
       "      <td>916 Main St, San Francisco, CA 94016</td>\n",
       "    </tr>\n",
       "    <tr>\n",
       "      <th>166470</th>\n",
       "      <td>AA Batteries (4-pack)</td>\n",
       "      <td>1.00</td>\n",
       "      <td>2.99</td>\n",
       "      <td>2021-12-19 21:45</td>\n",
       "      <td>209 11th St, Atlanta, GA 30301</td>\n",
       "    </tr>\n",
       "  </tbody>\n",
       "</table>\n",
       "<p>164731 rows × 5 columns</p>\n",
       "</div>"
      ],
      "text/plain": [
       "                         Product  Quantity Ordered  Price Each  \\\n",
       "0       Apple Airpods Headphones              1.00      150.00   \n",
       "1                  Flatscreen TV              1.00      300.00   \n",
       "2          AA Batteries (4-pack)              1.00        3.84   \n",
       "3          AA Batteries (4-pack)              1.00        3.84   \n",
       "4          AA Batteries (4-pack)              5.00        2.99   \n",
       "...                          ...               ...         ...   \n",
       "166465        Macbook Pro Laptop              1.00    1,700.00   \n",
       "166467          27in FHD Monitor              1.00      149.99   \n",
       "166468      USB-C Charging Cable              1.00       11.95   \n",
       "166469      USB-C Charging Cable              1.00       11.95   \n",
       "166470     AA Batteries (4-pack)              1.00        2.99   \n",
       "\n",
       "              Order Date                       Purchase Address  \n",
       "0       2026-07-19 16:51        389 South St, Atlanta, GA 30301  \n",
       "1       2005-07-19 08:55          590 4th St, Seattle, WA 98101  \n",
       "2       2029-07-19 12:41         861 Hill St, Atlanta, GA 30301  \n",
       "3       2028-07-19 10:15        190 Ridge St, Atlanta, GA 30301  \n",
       "4       2031-07-19 02:13       824 Forest St, Seattle, WA 98101  \n",
       "...                  ...                                    ...  \n",
       "166465  2021-12-19 21:45      975 2nd St, Los Angeles, CA 90001  \n",
       "166467  2021-12-19 21:45  495 North St, New York City, NY 10001  \n",
       "166468  2021-12-19 21:45  319 Ridge St, San Francisco, CA 94016  \n",
       "166469  2021-12-19 21:45   916 Main St, San Francisco, CA 94016  \n",
       "166470  2021-12-19 21:45         209 11th St, Atlanta, GA 30301  \n",
       "\n",
       "[164731 rows x 5 columns]"
      ]
     },
     "execution_count": 44,
     "metadata": {},
     "output_type": "execute_result"
    }
   ],
   "source": [
    "data_cleaning.drop_duplicates()"
   ]
  },
  {
   "cell_type": "code",
   "execution_count": 45,
   "metadata": {
    "scrolled": true
   },
   "outputs": [
    {
     "data": {
      "text/plain": [
       "False    164731\n",
       "True        705\n",
       "Name: count, dtype: int64"
      ]
     },
     "execution_count": 45,
     "metadata": {},
     "output_type": "execute_result"
    }
   ],
   "source": [
    "data_cleaning.duplicated().value_counts()"
   ]
  },
  {
   "cell_type": "code",
   "execution_count": 46,
   "metadata": {
    "scrolled": true
   },
   "outputs": [
    {
     "data": {
      "text/plain": [
       "Product             0\n",
       "Quantity Ordered    0\n",
       "Price Each          0\n",
       "Order Date          0\n",
       "Purchase Address    0\n",
       "dtype: int64"
      ]
     },
     "execution_count": 46,
     "metadata": {},
     "output_type": "execute_result"
    }
   ],
   "source": [
    "data_cleaning.isna().sum()"
   ]
  },
  {
   "cell_type": "code",
   "execution_count": 47,
   "metadata": {
    "scrolled": true
   },
   "outputs": [],
   "source": [
    "data_cleaning.drop_duplicates(inplace = True)"
   ]
  },
  {
   "cell_type": "code",
   "execution_count": 48,
   "metadata": {
    "scrolled": true
   },
   "outputs": [
    {
     "data": {
      "text/plain": [
       "0"
      ]
     },
     "execution_count": 48,
     "metadata": {},
     "output_type": "execute_result"
    }
   ],
   "source": [
    "data_cleaning.duplicated().sum()"
   ]
  },
  {
   "cell_type": "code",
   "execution_count": 49,
   "metadata": {
    "scrolled": true
   },
   "outputs": [
    {
     "data": {
      "text/plain": [
       "False    164731\n",
       "Name: count, dtype: int64"
      ]
     },
     "execution_count": 49,
     "metadata": {},
     "output_type": "execute_result"
    }
   ],
   "source": [
    "data_cleaning.duplicated().value_counts()"
   ]
  },
  {
   "cell_type": "code",
   "execution_count": 50,
   "metadata": {
    "scrolled": true
   },
   "outputs": [
    {
     "data": {
      "text/plain": [
       "array(['389 South St, Atlanta, GA 30301', '590 4th St, Seattle, WA 98101',\n",
       "       '861 Hill St, Atlanta, GA 30301', ...,\n",
       "       '590 Wilson St, Los Angeles, CA 90001',\n",
       "       '685 Hickory St, New York City, NY 10001',\n",
       "       '209 11th St, Atlanta, GA 30301'], dtype=object)"
      ]
     },
     "execution_count": 50,
     "metadata": {},
     "output_type": "execute_result"
    }
   ],
   "source": [
    "#let's check for Purchasse Address\n",
    "data_cleaning['Purchase Address'].unique()"
   ]
  },
  {
   "cell_type": "markdown",
   "metadata": {},
   "source": [
    "Once the data is cleaned and all duplicated values are removed, you can save the DataFrame to a CSV file using the to_csv() method."
   ]
  },
  {
   "cell_type": "code",
   "execution_count": 51,
   "metadata": {
    "scrolled": true
   },
   "outputs": [],
   "source": [
    "#save data\n",
    "data_cleaning.to_csv('data/final_data.csv')"
   ]
  },
  {
   "cell_type": "markdown",
   "metadata": {},
   "source": [
    " ### **Questions**\n",
    "1. How much money did we make this year? "
   ]
  },
  {
   "cell_type": "code",
   "execution_count": 67,
   "metadata": {
    "scrolled": true
   },
   "outputs": [
    {
     "data": {
      "text/html": [
       "<div>\n",
       "<style scoped>\n",
       "    .dataframe tbody tr th:only-of-type {\n",
       "        vertical-align: middle;\n",
       "    }\n",
       "\n",
       "    .dataframe tbody tr th {\n",
       "        vertical-align: top;\n",
       "    }\n",
       "\n",
       "    .dataframe thead th {\n",
       "        text-align: right;\n",
       "    }\n",
       "</style>\n",
       "<table border=\"1\" class=\"dataframe\">\n",
       "  <thead>\n",
       "    <tr style=\"text-align: right;\">\n",
       "      <th></th>\n",
       "      <th>Product</th>\n",
       "      <th>Quantity Ordered</th>\n",
       "      <th>Price Each</th>\n",
       "      <th>Order Date</th>\n",
       "      <th>Purchase Address</th>\n",
       "      <th>Year</th>\n",
       "      <th>Month</th>\n",
       "      <th>Days</th>\n",
       "      <th>Week</th>\n",
       "    </tr>\n",
       "  </thead>\n",
       "  <tbody>\n",
       "    <tr>\n",
       "      <th>0</th>\n",
       "      <td>Apple Airpods Headphones</td>\n",
       "      <td>1.00</td>\n",
       "      <td>150.00</td>\n",
       "      <td>2026-07-19 16:51:00</td>\n",
       "      <td>389 South St, Atlanta, GA 30301</td>\n",
       "      <td>2026</td>\n",
       "      <td>7</td>\n",
       "      <td>19</td>\n",
       "      <td>29</td>\n",
       "    </tr>\n",
       "    <tr>\n",
       "      <th>1</th>\n",
       "      <td>Flatscreen TV</td>\n",
       "      <td>1.00</td>\n",
       "      <td>300.00</td>\n",
       "      <td>2005-07-19 08:55:00</td>\n",
       "      <td>590 4th St, Seattle, WA 98101</td>\n",
       "      <td>2005</td>\n",
       "      <td>7</td>\n",
       "      <td>19</td>\n",
       "      <td>29</td>\n",
       "    </tr>\n",
       "    <tr>\n",
       "      <th>2</th>\n",
       "      <td>AA Batteries (4-pack)</td>\n",
       "      <td>1.00</td>\n",
       "      <td>3.84</td>\n",
       "      <td>2029-07-19 12:41:00</td>\n",
       "      <td>861 Hill St, Atlanta, GA 30301</td>\n",
       "      <td>2029</td>\n",
       "      <td>7</td>\n",
       "      <td>19</td>\n",
       "      <td>29</td>\n",
       "    </tr>\n",
       "    <tr>\n",
       "      <th>3</th>\n",
       "      <td>AA Batteries (4-pack)</td>\n",
       "      <td>1.00</td>\n",
       "      <td>3.84</td>\n",
       "      <td>2028-07-19 10:15:00</td>\n",
       "      <td>190 Ridge St, Atlanta, GA 30301</td>\n",
       "      <td>2028</td>\n",
       "      <td>7</td>\n",
       "      <td>19</td>\n",
       "      <td>29</td>\n",
       "    </tr>\n",
       "    <tr>\n",
       "      <th>4</th>\n",
       "      <td>AA Batteries (4-pack)</td>\n",
       "      <td>5.00</td>\n",
       "      <td>2.99</td>\n",
       "      <td>2031-07-19 02:13:00</td>\n",
       "      <td>824 Forest St, Seattle, WA 98101</td>\n",
       "      <td>2031</td>\n",
       "      <td>7</td>\n",
       "      <td>19</td>\n",
       "      <td>29</td>\n",
       "    </tr>\n",
       "  </tbody>\n",
       "</table>\n",
       "</div>"
      ],
      "text/plain": [
       "                    Product  Quantity Ordered  Price Each          Order Date  \\\n",
       "0  Apple Airpods Headphones              1.00      150.00 2026-07-19 16:51:00   \n",
       "1             Flatscreen TV              1.00      300.00 2005-07-19 08:55:00   \n",
       "2     AA Batteries (4-pack)              1.00        3.84 2029-07-19 12:41:00   \n",
       "3     AA Batteries (4-pack)              1.00        3.84 2028-07-19 10:15:00   \n",
       "4     AA Batteries (4-pack)              5.00        2.99 2031-07-19 02:13:00   \n",
       "\n",
       "                   Purchase Address  Year  Month  Days  Week  \n",
       "0   389 South St, Atlanta, GA 30301  2026      7    19    29  \n",
       "1     590 4th St, Seattle, WA 98101  2005      7    19    29  \n",
       "2    861 Hill St, Atlanta, GA 30301  2029      7    19    29  \n",
       "3   190 Ridge St, Atlanta, GA 30301  2028      7    19    29  \n",
       "4  824 Forest St, Seattle, WA 98101  2031      7    19    29  "
      ]
     },
     "execution_count": 67,
     "metadata": {},
     "output_type": "execute_result"
    }
   ],
   "source": [
    "#Extract year from Order Date\n",
    "data_cleaning['Order Date']=pd.to_datetime(data_cleaning['Order Date'],errors='coerce')\n",
    "data_cleaning['Year'] = data_cleaning['Order Date'].dt.year.fillna(0).astype(int)\n",
    "data_cleaning['Month'] = data_cleaning['Order Date'].dt.month.fillna(0).astype(int)\n",
    "data_cleaning['Days'] = data_cleaning['Order Date'].dt.day.fillna(0).astype(int)\n",
    "data_cleaning['Week'] = data_cleaning['Order Date'].dt.isocalendar().week\n",
    "\n",
    "data_cleaning.head()"
   ]
  },
  {
   "cell_type": "code",
   "execution_count": 54,
   "metadata": {
    "scrolled": true
   },
   "outputs": [
    {
     "data": {
      "text/html": [
       "<div>\n",
       "<style scoped>\n",
       "    .dataframe tbody tr th:only-of-type {\n",
       "        vertical-align: middle;\n",
       "    }\n",
       "\n",
       "    .dataframe tbody tr th {\n",
       "        vertical-align: top;\n",
       "    }\n",
       "\n",
       "    .dataframe thead th {\n",
       "        text-align: right;\n",
       "    }\n",
       "</style>\n",
       "<table border=\"1\" class=\"dataframe\">\n",
       "  <thead>\n",
       "    <tr style=\"text-align: right;\">\n",
       "      <th></th>\n",
       "      <th>Year</th>\n",
       "      <th>Price Each</th>\n",
       "    </tr>\n",
       "  </thead>\n",
       "  <tbody>\n",
       "    <tr>\n",
       "      <th>0</th>\n",
       "      <td>2001</td>\n",
       "      <td>486,852.57</td>\n",
       "    </tr>\n",
       "    <tr>\n",
       "      <th>1</th>\n",
       "      <td>2002</td>\n",
       "      <td>489,768.49</td>\n",
       "    </tr>\n",
       "    <tr>\n",
       "      <th>2</th>\n",
       "      <td>2003</td>\n",
       "      <td>461,852.61</td>\n",
       "    </tr>\n",
       "    <tr>\n",
       "      <th>3</th>\n",
       "      <td>2004</td>\n",
       "      <td>512,171.56</td>\n",
       "    </tr>\n",
       "    <tr>\n",
       "      <th>4</th>\n",
       "      <td>2005</td>\n",
       "      <td>474,348.99</td>\n",
       "    </tr>\n",
       "    <tr>\n",
       "      <th>5</th>\n",
       "      <td>2006</td>\n",
       "      <td>496,347.22</td>\n",
       "    </tr>\n",
       "    <tr>\n",
       "      <th>6</th>\n",
       "      <td>2007</td>\n",
       "      <td>470,502.71</td>\n",
       "    </tr>\n",
       "    <tr>\n",
       "      <th>7</th>\n",
       "      <td>2008</td>\n",
       "      <td>458,026.42</td>\n",
       "    </tr>\n",
       "    <tr>\n",
       "      <th>8</th>\n",
       "      <td>2009</td>\n",
       "      <td>502,197.34</td>\n",
       "    </tr>\n",
       "    <tr>\n",
       "      <th>9</th>\n",
       "      <td>2010</td>\n",
       "      <td>523,812.23</td>\n",
       "    </tr>\n",
       "    <tr>\n",
       "      <th>10</th>\n",
       "      <td>2011</td>\n",
       "      <td>489,966.57</td>\n",
       "    </tr>\n",
       "    <tr>\n",
       "      <th>11</th>\n",
       "      <td>2012</td>\n",
       "      <td>461,177.15</td>\n",
       "    </tr>\n",
       "    <tr>\n",
       "      <th>12</th>\n",
       "      <td>2013</td>\n",
       "      <td>490,117.97</td>\n",
       "    </tr>\n",
       "    <tr>\n",
       "      <th>13</th>\n",
       "      <td>2014</td>\n",
       "      <td>496,968.97</td>\n",
       "    </tr>\n",
       "    <tr>\n",
       "      <th>14</th>\n",
       "      <td>2015</td>\n",
       "      <td>487,402.03</td>\n",
       "    </tr>\n",
       "    <tr>\n",
       "      <th>15</th>\n",
       "      <td>2016</td>\n",
       "      <td>466,939.95</td>\n",
       "    </tr>\n",
       "    <tr>\n",
       "      <th>16</th>\n",
       "      <td>2017</td>\n",
       "      <td>471,733.60</td>\n",
       "    </tr>\n",
       "    <tr>\n",
       "      <th>17</th>\n",
       "      <td>2018</td>\n",
       "      <td>484,453.90</td>\n",
       "    </tr>\n",
       "    <tr>\n",
       "      <th>18</th>\n",
       "      <td>2019</td>\n",
       "      <td>456,677.63</td>\n",
       "    </tr>\n",
       "    <tr>\n",
       "      <th>19</th>\n",
       "      <td>2020</td>\n",
       "      <td>496,964.39</td>\n",
       "    </tr>\n",
       "    <tr>\n",
       "      <th>20</th>\n",
       "      <td>2021</td>\n",
       "      <td>16,235,105.91</td>\n",
       "    </tr>\n",
       "    <tr>\n",
       "      <th>21</th>\n",
       "      <td>2022</td>\n",
       "      <td>479,298.54</td>\n",
       "    </tr>\n",
       "    <tr>\n",
       "      <th>22</th>\n",
       "      <td>2023</td>\n",
       "      <td>457,474.66</td>\n",
       "    </tr>\n",
       "    <tr>\n",
       "      <th>23</th>\n",
       "      <td>2024</td>\n",
       "      <td>497,160.95</td>\n",
       "    </tr>\n",
       "    <tr>\n",
       "      <th>24</th>\n",
       "      <td>2025</td>\n",
       "      <td>503,490.53</td>\n",
       "    </tr>\n",
       "    <tr>\n",
       "      <th>25</th>\n",
       "      <td>2026</td>\n",
       "      <td>458,020.38</td>\n",
       "    </tr>\n",
       "    <tr>\n",
       "      <th>26</th>\n",
       "      <td>2027</td>\n",
       "      <td>467,896.30</td>\n",
       "    </tr>\n",
       "    <tr>\n",
       "      <th>27</th>\n",
       "      <td>2028</td>\n",
       "      <td>460,130.86</td>\n",
       "    </tr>\n",
       "    <tr>\n",
       "      <th>28</th>\n",
       "      <td>2029</td>\n",
       "      <td>468,213.20</td>\n",
       "    </tr>\n",
       "    <tr>\n",
       "      <th>29</th>\n",
       "      <td>2030</td>\n",
       "      <td>481,611.18</td>\n",
       "    </tr>\n",
       "    <tr>\n",
       "      <th>30</th>\n",
       "      <td>2031</td>\n",
       "      <td>285,273.44</td>\n",
       "    </tr>\n",
       "  </tbody>\n",
       "</table>\n",
       "</div>"
      ],
      "text/plain": [
       "    Year    Price Each\n",
       "0   2001    486,852.57\n",
       "1   2002    489,768.49\n",
       "2   2003    461,852.61\n",
       "3   2004    512,171.56\n",
       "4   2005    474,348.99\n",
       "5   2006    496,347.22\n",
       "6   2007    470,502.71\n",
       "7   2008    458,026.42\n",
       "8   2009    502,197.34\n",
       "9   2010    523,812.23\n",
       "10  2011    489,966.57\n",
       "11  2012    461,177.15\n",
       "12  2013    490,117.97\n",
       "13  2014    496,968.97\n",
       "14  2015    487,402.03\n",
       "15  2016    466,939.95\n",
       "16  2017    471,733.60\n",
       "17  2018    484,453.90\n",
       "18  2019    456,677.63\n",
       "19  2020    496,964.39\n",
       "20  2021 16,235,105.91\n",
       "21  2022    479,298.54\n",
       "22  2023    457,474.66\n",
       "23  2024    497,160.95\n",
       "24  2025    503,490.53\n",
       "25  2026    458,020.38\n",
       "26  2027    467,896.30\n",
       "27  2028    460,130.86\n",
       "28  2029    468,213.20\n",
       "29  2030    481,611.18\n",
       "30  2031    285,273.44"
      ]
     },
     "execution_count": 54,
     "metadata": {},
     "output_type": "execute_result"
    }
   ],
   "source": [
    "#How much money did we make this year year=2019 \n",
    "answers1 = data_cleaning.groupby('Year')['Price Each'].sum().reset_index()\n",
    "answers1"
   ]
  },
  {
   "cell_type": "code",
   "execution_count": 55,
   "metadata": {
    "scrolled": true
   },
   "outputs": [
    {
     "data": {
      "text/html": [
       "<div>\n",
       "<style scoped>\n",
       "    .dataframe tbody tr th:only-of-type {\n",
       "        vertical-align: middle;\n",
       "    }\n",
       "\n",
       "    .dataframe tbody tr th {\n",
       "        vertical-align: top;\n",
       "    }\n",
       "\n",
       "    .dataframe thead th {\n",
       "        text-align: right;\n",
       "    }\n",
       "</style>\n",
       "<table border=\"1\" class=\"dataframe\">\n",
       "  <thead>\n",
       "    <tr style=\"text-align: right;\">\n",
       "      <th></th>\n",
       "      <th>Year</th>\n",
       "      <th>Price Each</th>\n",
       "    </tr>\n",
       "  </thead>\n",
       "  <tbody>\n",
       "    <tr>\n",
       "      <th>18</th>\n",
       "      <td>2019</td>\n",
       "      <td>456,677.63</td>\n",
       "    </tr>\n",
       "  </tbody>\n",
       "</table>\n",
       "</div>"
      ],
      "text/plain": [
       "    Year  Price Each\n",
       "18  2019  456,677.63"
      ]
     },
     "execution_count": 55,
     "metadata": {},
     "output_type": "execute_result"
    }
   ],
   "source": [
    "answers1[answers1['Year'] == 2019]"
   ]
  },
  {
   "cell_type": "markdown",
   "metadata": {},
   "source": [
    "For Year 2019 the sale make is 456,677.63"
   ]
  },
  {
   "cell_type": "code",
   "execution_count": 56,
   "metadata": {
    "scrolled": true
   },
   "outputs": [],
   "source": [
    "color_pal = sns.color_palette()"
   ]
  },
  {
   "cell_type": "code",
   "execution_count": 57,
   "metadata": {
    "scrolled": true
   },
   "outputs": [
    {
     "data": {
      "image/png": "[encoded data removed]",
      "text/plain": [
       "<Figure size 640x480 with 1 Axes>"
      ]
     },
     "metadata": {},
     "output_type": "display_data"
    },
    {
     "data": {
      "text/plain": [
       "<Figure size 1200x1000 with 0 Axes>"
      ]
     },
     "metadata": {},
     "output_type": "display_data"
    }
   ],
   "source": [
    "years_to_plot = [2016,2017,2018,2019,2020,2021,2022,2023,2024]\n",
    "#custom_palette = [\"#FF5733\", \"#FFC300\", \"#DAF7A6\", \"#9AECDB\", \"#A3A1FF\"]\n",
    "\n",
    "filtered_data = answers1[answers1['Year'].isin(years_to_plot)]\n",
    "plot= sns.barplot(y=filtered_data['Price Each'],x=filtered_data['Year'],color=color_pal[0])\n",
    "plot.set(xlabel='Year',ylabel=\"Total amount make by year($)\")\n",
    "\n",
    "def comma(x,pos):\n",
    "    return f'{x:,.0f}'\n",
    "\n",
    "plt.gca().yaxis.set_major_formatter(ticker.FuncFormatter(comma))\n",
    "plt.title('Total Product Each for 8 years')\n",
    "plt.figure(figsize=(12,10))\n",
    "plt.show()\n"
   ]
  },
  {
   "cell_type": "markdown",
   "metadata": {},
   "source": [
    "#### 2. Can we identify any seasonality in the  sales? \n"
   ]
  },
  {
   "cell_type": "markdown",
   "metadata": {},
   "source": [
    "A time series exhibiting seasonality means that there are recurring trends or patterns at regular intervals in the data, typically associated with seasons, months, weeks, or other specific time periods."
   ]
  },
  {
   "cell_type": "code",
   "execution_count": 58,
   "metadata": {
    "scrolled": true
   },
   "outputs": [
    {
     "data": {
      "text/html": [
       "<div>\n",
       "<style scoped>\n",
       "    .dataframe tbody tr th:only-of-type {\n",
       "        vertical-align: middle;\n",
       "    }\n",
       "\n",
       "    .dataframe tbody tr th {\n",
       "        vertical-align: top;\n",
       "    }\n",
       "\n",
       "    .dataframe thead th {\n",
       "        text-align: right;\n",
       "    }\n",
       "</style>\n",
       "<table border=\"1\" class=\"dataframe\">\n",
       "  <thead>\n",
       "    <tr style=\"text-align: right;\">\n",
       "      <th></th>\n",
       "      <th>Order Date</th>\n",
       "      <th>Price Each</th>\n",
       "    </tr>\n",
       "  </thead>\n",
       "  <tbody>\n",
       "    <tr>\n",
       "      <th>0</th>\n",
       "      <td>2026-07-19 16:51:00</td>\n",
       "      <td>150.00</td>\n",
       "    </tr>\n",
       "    <tr>\n",
       "      <th>1</th>\n",
       "      <td>2005-07-19 08:55:00</td>\n",
       "      <td>300.00</td>\n",
       "    </tr>\n",
       "    <tr>\n",
       "      <th>2</th>\n",
       "      <td>2029-07-19 12:41:00</td>\n",
       "      <td>3.84</td>\n",
       "    </tr>\n",
       "    <tr>\n",
       "      <th>3</th>\n",
       "      <td>2028-07-19 10:15:00</td>\n",
       "      <td>3.84</td>\n",
       "    </tr>\n",
       "    <tr>\n",
       "      <th>4</th>\n",
       "      <td>2031-07-19 02:13:00</td>\n",
       "      <td>2.99</td>\n",
       "    </tr>\n",
       "  </tbody>\n",
       "</table>\n",
       "</div>"
      ],
      "text/plain": [
       "           Order Date  Price Each\n",
       "0 2026-07-19 16:51:00      150.00\n",
       "1 2005-07-19 08:55:00      300.00\n",
       "2 2029-07-19 12:41:00        3.84\n",
       "3 2028-07-19 10:15:00        3.84\n",
       "4 2031-07-19 02:13:00        2.99"
      ]
     },
     "execution_count": 58,
     "metadata": {},
     "output_type": "execute_result"
    }
   ],
   "source": [
    "# import plotly.express as px\n",
    "df5 = data_cleaning[['Order Date','Price Each']]\n",
    "df5.set_index('Order Date')\n",
    "df5.head()"
   ]
  },
  {
   "cell_type": "code",
   "execution_count": 59,
   "metadata": {
    "scrolled": true
   },
   "outputs": [
    {
     "name": "stdout",
     "output_type": "stream",
     "text": [
      "<class 'pandas.core.frame.DataFrame'>\n",
      "Index: 164731 entries, 0 to 166470\n",
      "Data columns (total 2 columns):\n",
      " #   Column      Non-Null Count   Dtype         \n",
      "---  ------      --------------   -----         \n",
      " 0   Order Date  164731 non-null  datetime64[ns]\n",
      " 1   Price Each  164731 non-null  float64       \n",
      "dtypes: datetime64[ns](1), float64(1)\n",
      "memory usage: 3.8 MB\n"
     ]
    }
   ],
   "source": [
    "df5.info()"
   ]
  },
  {
   "cell_type": "code",
   "execution_count": 60,
   "metadata": {
    "scrolled": true
   },
   "outputs": [
    {
     "data": {
      "text/html": [
       "<div>\n",
       "<style scoped>\n",
       "    .dataframe tbody tr th:only-of-type {\n",
       "        vertical-align: middle;\n",
       "    }\n",
       "\n",
       "    .dataframe tbody tr th {\n",
       "        vertical-align: top;\n",
       "    }\n",
       "\n",
       "    .dataframe thead th {\n",
       "        text-align: right;\n",
       "    }\n",
       "</style>\n",
       "<table border=\"1\" class=\"dataframe\">\n",
       "  <thead>\n",
       "    <tr style=\"text-align: right;\">\n",
       "      <th></th>\n",
       "      <th>Product</th>\n",
       "      <th>Quantity Ordered</th>\n",
       "      <th>Price Each</th>\n",
       "      <th>Order Date</th>\n",
       "      <th>Purchase Address</th>\n",
       "      <th>Year</th>\n",
       "      <th>Month</th>\n",
       "      <th>Days</th>\n",
       "      <th>Week</th>\n",
       "    </tr>\n",
       "  </thead>\n",
       "  <tbody>\n",
       "    <tr>\n",
       "      <th>47</th>\n",
       "      <td>AA Batteries (4-pack)</td>\n",
       "      <td>1.00</td>\n",
       "      <td>2.99</td>\n",
       "      <td>2019-07-19 10:11:00</td>\n",
       "      <td>143 5th St, Portland, OR 97035</td>\n",
       "      <td>2019</td>\n",
       "      <td>7</td>\n",
       "      <td>19</td>\n",
       "      <td>29</td>\n",
       "    </tr>\n",
       "    <tr>\n",
       "      <th>65</th>\n",
       "      <td>Wired Headphones</td>\n",
       "      <td>1.00</td>\n",
       "      <td>11.99</td>\n",
       "      <td>2019-07-19 16:15:00</td>\n",
       "      <td>541 Hickory St, Los Angeles, CA 90001</td>\n",
       "      <td>2019</td>\n",
       "      <td>7</td>\n",
       "      <td>19</td>\n",
       "      <td>29</td>\n",
       "    </tr>\n",
       "    <tr>\n",
       "      <th>80</th>\n",
       "      <td>AA Batteries (4-pack)</td>\n",
       "      <td>2.00</td>\n",
       "      <td>2.99</td>\n",
       "      <td>2019-07-19 18:33:00</td>\n",
       "      <td>419 Jackson St, New York City, NY 10001</td>\n",
       "      <td>2019</td>\n",
       "      <td>7</td>\n",
       "      <td>19</td>\n",
       "      <td>29</td>\n",
       "    </tr>\n",
       "    <tr>\n",
       "      <th>90</th>\n",
       "      <td>AA Batteries (4-pack)</td>\n",
       "      <td>1.00</td>\n",
       "      <td>2.99</td>\n",
       "      <td>2019-07-19 20:29:00</td>\n",
       "      <td>670 10th St, Atlanta, GA 30301</td>\n",
       "      <td>2019</td>\n",
       "      <td>7</td>\n",
       "      <td>19</td>\n",
       "      <td>29</td>\n",
       "    </tr>\n",
       "    <tr>\n",
       "      <th>132</th>\n",
       "      <td>Apple Airpods Headphones</td>\n",
       "      <td>1.00</td>\n",
       "      <td>150.00</td>\n",
       "      <td>2019-07-19 20:05:00</td>\n",
       "      <td>395 West St, Austin, TX 73301</td>\n",
       "      <td>2019</td>\n",
       "      <td>7</td>\n",
       "      <td>19</td>\n",
       "      <td>29</td>\n",
       "    </tr>\n",
       "    <tr>\n",
       "      <th>...</th>\n",
       "      <td>...</td>\n",
       "      <td>...</td>\n",
       "      <td>...</td>\n",
       "      <td>...</td>\n",
       "      <td>...</td>\n",
       "      <td>...</td>\n",
       "      <td>...</td>\n",
       "      <td>...</td>\n",
       "      <td>...</td>\n",
       "    </tr>\n",
       "    <tr>\n",
       "      <th>80628</th>\n",
       "      <td>Bose SoundSport Headphones</td>\n",
       "      <td>1.00</td>\n",
       "      <td>99.99</td>\n",
       "      <td>2019-12-19 19:31:00</td>\n",
       "      <td>50 Lake St, Boston, MA 02215</td>\n",
       "      <td>2019</td>\n",
       "      <td>12</td>\n",
       "      <td>19</td>\n",
       "      <td>51</td>\n",
       "    </tr>\n",
       "    <tr>\n",
       "      <th>80636</th>\n",
       "      <td>Wired Headphones</td>\n",
       "      <td>1.00</td>\n",
       "      <td>11.99</td>\n",
       "      <td>2019-12-19 10:35:00</td>\n",
       "      <td>245 Wilson St, Los Angeles, CA 90001</td>\n",
       "      <td>2019</td>\n",
       "      <td>12</td>\n",
       "      <td>19</td>\n",
       "      <td>51</td>\n",
       "    </tr>\n",
       "    <tr>\n",
       "      <th>80751</th>\n",
       "      <td>Lightning Charging Cable</td>\n",
       "      <td>1.00</td>\n",
       "      <td>14.95</td>\n",
       "      <td>2019-12-19 19:28:00</td>\n",
       "      <td>285 4th St, Los Angeles, CA 90001</td>\n",
       "      <td>2019</td>\n",
       "      <td>12</td>\n",
       "      <td>19</td>\n",
       "      <td>51</td>\n",
       "    </tr>\n",
       "    <tr>\n",
       "      <th>80793</th>\n",
       "      <td>AA Batteries (4-pack)</td>\n",
       "      <td>1.00</td>\n",
       "      <td>2.99</td>\n",
       "      <td>2019-12-19 21:09:00</td>\n",
       "      <td>908 2nd St, Los Angeles, CA 90001</td>\n",
       "      <td>2019</td>\n",
       "      <td>12</td>\n",
       "      <td>19</td>\n",
       "      <td>51</td>\n",
       "    </tr>\n",
       "    <tr>\n",
       "      <th>80811</th>\n",
       "      <td>34in Ultrawide Monitor</td>\n",
       "      <td>1.00</td>\n",
       "      <td>379.99</td>\n",
       "      <td>2019-12-19 18:21:00</td>\n",
       "      <td>829 6th St, Boston, MA 02215</td>\n",
       "      <td>2019</td>\n",
       "      <td>12</td>\n",
       "      <td>19</td>\n",
       "      <td>51</td>\n",
       "    </tr>\n",
       "  </tbody>\n",
       "</table>\n",
       "<p>2691 rows × 9 columns</p>\n",
       "</div>"
      ],
      "text/plain": [
       "                          Product  Quantity Ordered  Price Each  \\\n",
       "47          AA Batteries (4-pack)              1.00        2.99   \n",
       "65               Wired Headphones              1.00       11.99   \n",
       "80          AA Batteries (4-pack)              2.00        2.99   \n",
       "90          AA Batteries (4-pack)              1.00        2.99   \n",
       "132      Apple Airpods Headphones              1.00      150.00   \n",
       "...                           ...               ...         ...   \n",
       "80628  Bose SoundSport Headphones              1.00       99.99   \n",
       "80636            Wired Headphones              1.00       11.99   \n",
       "80751    Lightning Charging Cable              1.00       14.95   \n",
       "80793       AA Batteries (4-pack)              1.00        2.99   \n",
       "80811      34in Ultrawide Monitor              1.00      379.99   \n",
       "\n",
       "               Order Date                         Purchase Address  Year  \\\n",
       "47    2019-07-19 10:11:00           143 5th St, Portland, OR 97035  2019   \n",
       "65    2019-07-19 16:15:00    541 Hickory St, Los Angeles, CA 90001  2019   \n",
       "80    2019-07-19 18:33:00  419 Jackson St, New York City, NY 10001  2019   \n",
       "90    2019-07-19 20:29:00           670 10th St, Atlanta, GA 30301  2019   \n",
       "132   2019-07-19 20:05:00            395 West St, Austin, TX 73301  2019   \n",
       "...                   ...                                      ...   ...   \n",
       "80628 2019-12-19 19:31:00             50 Lake St, Boston, MA 02215  2019   \n",
       "80636 2019-12-19 10:35:00     245 Wilson St, Los Angeles, CA 90001  2019   \n",
       "80751 2019-12-19 19:28:00        285 4th St, Los Angeles, CA 90001  2019   \n",
       "80793 2019-12-19 21:09:00        908 2nd St, Los Angeles, CA 90001  2019   \n",
       "80811 2019-12-19 18:21:00             829 6th St, Boston, MA 02215  2019   \n",
       "\n",
       "       Month  Days  Week  \n",
       "47         7    19    29  \n",
       "65         7    19    29  \n",
       "80         7    19    29  \n",
       "90         7    19    29  \n",
       "132        7    19    29  \n",
       "...      ...   ...   ...  \n",
       "80628     12    19    51  \n",
       "80636     12    19    51  \n",
       "80751     12    19    51  \n",
       "80793     12    19    51  \n",
       "80811     12    19    51  \n",
       "\n",
       "[2691 rows x 9 columns]"
      ]
     },
     "execution_count": 60,
     "metadata": {},
     "output_type": "execute_result"
    }
   ],
   "source": [
    "df5 = data_cleaning[['Product', 'Quantity Ordered', 'Price Each', 'Order Date', 'Purchase Address', 'Year', 'Month', 'Days','Week']]\n",
    "filtered_df_2019 = df5.query('Year == 2019 and Year <= 2020')\n",
    "filtered_df_2019"
   ]
  },
  {
   "cell_type": "code",
   "execution_count": 115,
   "metadata": {
    "scrolled": true
   },
   "outputs": [
    {
     "data": {
      "image/png": "[encoded data removed]",
      "text/plain": [
       "<Figure size 1000x600 with 1 Axes>"
      ]
     },
     "metadata": {},
     "output_type": "display_data"
    }
   ],
   "source": [
    "# df5.plot(x='Order Date', y='Price Each', style='-', figsize=(15,5), color=color_pal[0],title ='Plot of total Product')\n",
    "# plt.show()\n",
    "\n",
    "filtered_df = data_cleaning.sort_values(by='Order Date')\n",
    "data_cleaning['Year'] = data_cleaning['Order Date'].dt.year\n",
    "annual_sales = data_cleaning.groupby('Year')['Price Each'].sum()\n",
    "\n",
    "plt.figure(figsize=(10,6))\n",
    "plt.plot(annual_sales.index, annual_sales.values, color='orange', marker='o', linestyle='-')\n",
    "plt.title('Evolution of Annual Sales')\n",
    "plt.xlabel('Year')\n",
    "plt.ylabel('Total Sales')\n",
    "plt.xticks(rotation=45)  \n",
    "plt.grid(True)\n",
    "plt.show()"
   ]
  },
  {
   "cell_type": "code",
   "execution_count": 62,
   "metadata": {
    "scrolled": true
   },
   "outputs": [
    {
     "data": {
      "text/html": [
       "<div>\n",
       "<style scoped>\n",
       "    .dataframe tbody tr th:only-of-type {\n",
       "        vertical-align: middle;\n",
       "    }\n",
       "\n",
       "    .dataframe tbody tr th {\n",
       "        vertical-align: top;\n",
       "    }\n",
       "\n",
       "    .dataframe thead th {\n",
       "        text-align: right;\n",
       "    }\n",
       "</style>\n",
       "<table border=\"1\" class=\"dataframe\">\n",
       "  <thead>\n",
       "    <tr style=\"text-align: right;\">\n",
       "      <th></th>\n",
       "      <th>Product</th>\n",
       "      <th>Quantity Ordered</th>\n",
       "      <th>Price Each</th>\n",
       "      <th>Order Date</th>\n",
       "      <th>Purchase Address</th>\n",
       "      <th>Year</th>\n",
       "      <th>Month</th>\n",
       "      <th>Days</th>\n",
       "      <th>Week</th>\n",
       "    </tr>\n",
       "  </thead>\n",
       "  <tbody>\n",
       "    <tr>\n",
       "      <th>47</th>\n",
       "      <td>AA Batteries (4-pack)</td>\n",
       "      <td>1.00</td>\n",
       "      <td>2.99</td>\n",
       "      <td>2019-07-19 10:11:00</td>\n",
       "      <td>143 5th St, Portland, OR 97035</td>\n",
       "      <td>2019</td>\n",
       "      <td>7</td>\n",
       "      <td>19</td>\n",
       "      <td>29</td>\n",
       "    </tr>\n",
       "    <tr>\n",
       "      <th>65</th>\n",
       "      <td>Wired Headphones</td>\n",
       "      <td>1.00</td>\n",
       "      <td>11.99</td>\n",
       "      <td>2019-07-19 16:15:00</td>\n",
       "      <td>541 Hickory St, Los Angeles, CA 90001</td>\n",
       "      <td>2019</td>\n",
       "      <td>7</td>\n",
       "      <td>19</td>\n",
       "      <td>29</td>\n",
       "    </tr>\n",
       "    <tr>\n",
       "      <th>80</th>\n",
       "      <td>AA Batteries (4-pack)</td>\n",
       "      <td>2.00</td>\n",
       "      <td>2.99</td>\n",
       "      <td>2019-07-19 18:33:00</td>\n",
       "      <td>419 Jackson St, New York City, NY 10001</td>\n",
       "      <td>2019</td>\n",
       "      <td>7</td>\n",
       "      <td>19</td>\n",
       "      <td>29</td>\n",
       "    </tr>\n",
       "    <tr>\n",
       "      <th>90</th>\n",
       "      <td>AA Batteries (4-pack)</td>\n",
       "      <td>1.00</td>\n",
       "      <td>2.99</td>\n",
       "      <td>2019-07-19 20:29:00</td>\n",
       "      <td>670 10th St, Atlanta, GA 30301</td>\n",
       "      <td>2019</td>\n",
       "      <td>7</td>\n",
       "      <td>19</td>\n",
       "      <td>29</td>\n",
       "    </tr>\n",
       "    <tr>\n",
       "      <th>132</th>\n",
       "      <td>Apple Airpods Headphones</td>\n",
       "      <td>1.00</td>\n",
       "      <td>150.00</td>\n",
       "      <td>2019-07-19 20:05:00</td>\n",
       "      <td>395 West St, Austin, TX 73301</td>\n",
       "      <td>2019</td>\n",
       "      <td>7</td>\n",
       "      <td>19</td>\n",
       "      <td>29</td>\n",
       "    </tr>\n",
       "  </tbody>\n",
       "</table>\n",
       "</div>"
      ],
      "text/plain": [
       "                      Product  Quantity Ordered  Price Each  \\\n",
       "47      AA Batteries (4-pack)              1.00        2.99   \n",
       "65           Wired Headphones              1.00       11.99   \n",
       "80      AA Batteries (4-pack)              2.00        2.99   \n",
       "90      AA Batteries (4-pack)              1.00        2.99   \n",
       "132  Apple Airpods Headphones              1.00      150.00   \n",
       "\n",
       "             Order Date                         Purchase Address  Year  Month  \\\n",
       "47  2019-07-19 10:11:00           143 5th St, Portland, OR 97035  2019      7   \n",
       "65  2019-07-19 16:15:00    541 Hickory St, Los Angeles, CA 90001  2019      7   \n",
       "80  2019-07-19 18:33:00  419 Jackson St, New York City, NY 10001  2019      7   \n",
       "90  2019-07-19 20:29:00           670 10th St, Atlanta, GA 30301  2019      7   \n",
       "132 2019-07-19 20:05:00            395 West St, Austin, TX 73301  2019      7   \n",
       "\n",
       "     Days  Week  \n",
       "47     19    29  \n",
       "65     19    29  \n",
       "80     19    29  \n",
       "90     19    29  \n",
       "132    19    29  "
      ]
     },
     "execution_count": 62,
     "metadata": {},
     "output_type": "execute_result"
    }
   ],
   "source": [
    "data_2019 = data_cleaning[data_cleaning['Year']== 2019]\n",
    "data_2019.head() "
   ]
  },
  {
   "cell_type": "markdown",
   "metadata": {},
   "source": [
    ".ACF & PACF\n",
    "\n",
    "The ACF measure the correlation between observations at different lags.\n",
    "\n",
    "The PACF measure the partial correlation between observation after removing the effects of intermediate lags\n"
   ]
  },
  {
   "cell_type": "code",
   "execution_count": 116,
   "metadata": {
    "scrolled": true
   },
   "outputs": [
    {
     "data": {
      "image/png": "[encoded data removed]",
      "text/plain": [
       "<Figure size 1000x800 with 2 Axes>"
      ]
     },
     "metadata": {},
     "output_type": "display_data"
    }
   ],
   "source": [
    "from statsmodels.graphics.tsaplots import plot_acf\n",
    "from statsmodels.graphics.tsaplots import plot_pacf\n",
    "\n",
    "fig,(ax1,ax2) = plt.subplots(2,1,figsize = (10,8))\n",
    "\n",
    "#ACF \n",
    "data_cleaning['Order Date'] = pd.to_datetime(data_cleaning['Order Date'])\n",
    "monthly_sales = data_cleaning.groupby(pd.Grouper(key='Order Date', freq='M')).sum()\n",
    "plot_acf(monthly_sales['Price Each'],lags=30,zero=True,ax=ax1)\n",
    "ax1.set_title('ACF - Price Each')\n",
    "ax1.set_xlabel('Lag')\n",
    "ax1.set_ylabel('Correlation')\n",
    "ax1.grid(True)\n",
    "\n",
    "#PACF \n",
    "plot_pacf(monthly_sales['Price Each'],lags=30,zero=True,ax=ax2)\n",
    "ax2.set_title('PACF Price Each')\n",
    "ax2.set_xlabel('Lag')\n",
    "ax2.set_ylabel('Correlation Partial')\n",
    "ax2.grid(True)"
   ]
  },
  {
   "cell_type": "markdown",
   "metadata": {},
   "source": [
    "We observe only one significant peak at a lag of zero and no other significant peaks at other lags, this may suggest that our time series is non-stationary due to the presence of a trend or temporal structure."
   ]
  },
  {
   "cell_type": "markdown",
   "metadata": {},
   "source": [
    "### Dickey-Fuller test\n",
    "With visual analysis alone, it is very difficult to determine the stationarity of our series. Let's try to deepen our understanding by using the Dickey-Fuller test"
   ]
  },
  {
   "cell_type": "code",
   "execution_count": 63,
   "metadata": {
    "scrolled": true
   },
   "outputs": [
    {
     "name": "stdout",
     "output_type": "stream",
     "text": [
      "Statistic de test : -0.5568876962351046\n",
      "Critical Value (à 1%, 5% et 10%) : {'1%': -3.430389716263601, '5%': -2.8615575540422356, '10%': -2.566779343389189}\n",
      "P-value : 0.8804291533200523\n"
     ]
    }
   ],
   "source": [
    "from statsmodels.tsa.stattools import adfuller\n",
    "\n",
    "# Test  Dickey-Fuller \n",
    "result = adfuller(data_cleaning['Order Date'].dropna()) \n",
    "\n",
    "# Show the result \n",
    "print('Statistic de test :', result[0])\n",
    "print('Critical Value (à 1%, 5% et 10%) :', result[4])\n",
    "print('P-value :', result[1])\n"
   ]
  },
  {
   "cell_type": "markdown",
   "metadata": {},
   "source": [
    "The test statistic is -0.5567639926041089.\n",
    "\n",
    " .The critical values are as follows:\n",
    " At 1%: -3.4303895469316026\n",
    "\n",
    " At 5%: -2.86155747920032\n",
    "\n",
    " At 10%: -2.566779303553426\n",
    " \n",
    "The P-value is 0.8804554219906724.\n",
    "\n",
    "To conclude on the stationarity of the time series:\n",
    "\n",
    "The test statistic (-0.5567639926041089) is greater than the critical values (-3.4303895469316026 at 1%, -2.86155747920032 at 5%, -2.566779303553426 at 10%). This suggests that we cannot **reject the null hypothesis that the time series is non-stationary**.\n",
    "\n",
    "The p-value (0.8804554219906724) is significantly higher than most common significance thresholds (typically 0.05). This confirms that we cannot reject the null hypothesis."
   ]
  },
  {
   "cell_type": "markdown",
   "metadata": {},
   "source": [
    "3 .What are our best and worst-selling products?"
   ]
  },
  {
   "cell_type": "code",
   "execution_count": 64,
   "metadata": {
    "scrolled": true
   },
   "outputs": [
    {
     "data": {
      "text/html": [
       "<div>\n",
       "<style scoped>\n",
       "    .dataframe tbody tr th:only-of-type {\n",
       "        vertical-align: middle;\n",
       "    }\n",
       "\n",
       "    .dataframe tbody tr th {\n",
       "        vertical-align: top;\n",
       "    }\n",
       "\n",
       "    .dataframe thead th {\n",
       "        text-align: right;\n",
       "    }\n",
       "</style>\n",
       "<table border=\"1\" class=\"dataframe\">\n",
       "  <thead>\n",
       "    <tr style=\"text-align: right;\">\n",
       "      <th></th>\n",
       "      <th>Product</th>\n",
       "      <th>Quantity Ordered</th>\n",
       "    </tr>\n",
       "  </thead>\n",
       "  <tbody>\n",
       "    <tr>\n",
       "      <th>0</th>\n",
       "      <td>AA Batteries (4-pack)</td>\n",
       "      <td>928.00</td>\n",
       "    </tr>\n",
       "    <tr>\n",
       "      <th>1</th>\n",
       "      <td>USB-C Charging Cable</td>\n",
       "      <td>352.00</td>\n",
       "    </tr>\n",
       "    <tr>\n",
       "      <th>2</th>\n",
       "      <td>Lightning Charging Cable</td>\n",
       "      <td>344.00</td>\n",
       "    </tr>\n",
       "    <tr>\n",
       "      <th>3</th>\n",
       "      <td>Wired Headphones</td>\n",
       "      <td>312.00</td>\n",
       "    </tr>\n",
       "    <tr>\n",
       "      <th>4</th>\n",
       "      <td>Apple Airpods Headphones</td>\n",
       "      <td>198.00</td>\n",
       "    </tr>\n",
       "  </tbody>\n",
       "</table>\n",
       "</div>"
      ],
      "text/plain": [
       "                    Product  Quantity Ordered\n",
       "0     AA Batteries (4-pack)            928.00\n",
       "1      USB-C Charging Cable            352.00\n",
       "2  Lightning Charging Cable            344.00\n",
       "3          Wired Headphones            312.00\n",
       "4  Apple Airpods Headphones            198.00"
      ]
     },
     "execution_count": 64,
     "metadata": {},
     "output_type": "execute_result"
    }
   ],
   "source": [
    "total_sales_per_product= data_2019.groupby('Product')['Quantity Ordered'].sum().sort_values(ascending=False).reset_index()\n",
    "total_sales_per_product.head()"
   ]
  },
  {
   "cell_type": "code",
   "execution_count": 65,
   "metadata": {
    "scrolled": true
   },
   "outputs": [
    {
     "data": {
      "text/html": [
       "<div>\n",
       "<style scoped>\n",
       "    .dataframe tbody tr th:only-of-type {\n",
       "        vertical-align: middle;\n",
       "    }\n",
       "\n",
       "    .dataframe tbody tr th {\n",
       "        vertical-align: top;\n",
       "    }\n",
       "\n",
       "    .dataframe thead th {\n",
       "        text-align: right;\n",
       "    }\n",
       "</style>\n",
       "<table border=\"1\" class=\"dataframe\">\n",
       "  <thead>\n",
       "    <tr style=\"text-align: right;\">\n",
       "      <th></th>\n",
       "      <th>Product</th>\n",
       "      <th>Quantity Ordered</th>\n",
       "    </tr>\n",
       "  </thead>\n",
       "  <tbody>\n",
       "    <tr>\n",
       "      <th>0</th>\n",
       "      <td>LG Dryer</td>\n",
       "      <td>8.00</td>\n",
       "    </tr>\n",
       "    <tr>\n",
       "      <th>1</th>\n",
       "      <td>LG Washing Machine</td>\n",
       "      <td>10.00</td>\n",
       "    </tr>\n",
       "    <tr>\n",
       "      <th>2</th>\n",
       "      <td>Vareebadd Phone</td>\n",
       "      <td>23.00</td>\n",
       "    </tr>\n",
       "    <tr>\n",
       "      <th>3</th>\n",
       "      <td>ThinkPad Laptop</td>\n",
       "      <td>47.00</td>\n",
       "    </tr>\n",
       "    <tr>\n",
       "      <th>4</th>\n",
       "      <td>20in Monitor</td>\n",
       "      <td>61.00</td>\n",
       "    </tr>\n",
       "  </tbody>\n",
       "</table>\n",
       "</div>"
      ],
      "text/plain": [
       "              Product  Quantity Ordered\n",
       "0            LG Dryer              8.00\n",
       "1  LG Washing Machine             10.00\n",
       "2     Vareebadd Phone             23.00\n",
       "3     ThinkPad Laptop             47.00\n",
       "4        20in Monitor             61.00"
      ]
     },
     "execution_count": 65,
     "metadata": {},
     "output_type": "execute_result"
    }
   ],
   "source": [
    "Worst_selling_product= data_2019.groupby('Product')['Quantity Ordered'].sum().sort_values(ascending=True).reset_index()\n",
    "Worst_selling_product.head()"
   ]
  },
  {
   "cell_type": "code",
   "execution_count": null,
   "metadata": {
    "scrolled": true
   },
   "outputs": [
    {
     "data": {
      "image/png": "[encoded data removed]",
      "text/plain": [
       "<Figure size 640x480 with 1 Axes>"
      ]
     },
     "metadata": {},
     "output_type": "display_data"
    },
    {
     "data": {
      "image/png": "[encoded data removed]",
      "text/plain": [
       "<Figure size 640x480 with 1 Axes>"
      ]
     },
     "metadata": {},
     "output_type": "display_data"
    }
   ],
   "source": [
    "\n",
    "plt.title('Top 5 Best Sale  Product')\n",
    "plt.style.use(\"fivethirtyeight\")\n",
    "sns.barplot(y=('Product'),x=('Quantity Ordered'),data=total_sales_per_product.iloc[:5], palette='autumn')\n",
    "plt.ylabel(\"Product\")\n",
    "plt.xlabel(\"Sale Quantity Product\")\n",
    "plt.show()\n",
    "\n",
    "\n",
    "plt.title('Top 5 Worst Selling  Product')\n",
    "plt.style.use(\"fivethirtyeight\")\n",
    "sns.barplot(y=('Product'),x=('Quantity Ordered'),data=Worst_selling_product.iloc[1:6], palette='autumn')\n",
    "plt.ylabel(\"Product\")\n",
    "plt.xlabel(\"Total Sale Quantity Product\")\n",
    "plt.show()"
   ]
  },
  {
   "cell_type": "markdown",
   "metadata": {},
   "source": [
    "the graphe show that the AA Batteries (4-pack) is the most product selling with 52,155.00 Ordered and LG Dryer is the Worst selling product with 596.00 Ordered"
   ]
  },
  {
   "cell_type": "markdown",
   "metadata": {},
   "source": [
    "4. How do sales compare to previous months or weeks? \n"
   ]
  },
  {
   "cell_type": "code",
   "execution_count": null,
   "metadata": {
    "scrolled": true
   },
   "outputs": [
    {
     "data": {
      "text/html": [
       "<div>\n",
       "<style scoped>\n",
       "    .dataframe tbody tr th:only-of-type {\n",
       "        vertical-align: middle;\n",
       "    }\n",
       "\n",
       "    .dataframe tbody tr th {\n",
       "        vertical-align: top;\n",
       "    }\n",
       "\n",
       "    .dataframe thead th {\n",
       "        text-align: right;\n",
       "    }\n",
       "</style>\n",
       "<table border=\"1\" class=\"dataframe\">\n",
       "  <thead>\n",
       "    <tr style=\"text-align: right;\">\n",
       "      <th></th>\n",
       "      <th>Month</th>\n",
       "      <th>Price Each</th>\n",
       "    </tr>\n",
       "  </thead>\n",
       "  <tbody>\n",
       "    <tr>\n",
       "      <th>0</th>\n",
       "      <td>7</td>\n",
       "      <td>73,422.18</td>\n",
       "    </tr>\n",
       "    <tr>\n",
       "      <th>1</th>\n",
       "      <td>8</td>\n",
       "      <td>72,543.85</td>\n",
       "    </tr>\n",
       "    <tr>\n",
       "      <th>2</th>\n",
       "      <td>9</td>\n",
       "      <td>63,077.37</td>\n",
       "    </tr>\n",
       "    <tr>\n",
       "      <th>3</th>\n",
       "      <td>11</td>\n",
       "      <td>110,725.99</td>\n",
       "    </tr>\n",
       "    <tr>\n",
       "      <th>4</th>\n",
       "      <td>12</td>\n",
       "      <td>136,908.24</td>\n",
       "    </tr>\n",
       "  </tbody>\n",
       "</table>\n",
       "</div>"
      ],
      "text/plain": [
       "   Month  Price Each\n",
       "0      7   73,422.18\n",
       "1      8   72,543.85\n",
       "2      9   63,077.37\n",
       "3     11  110,725.99\n",
       "4     12  136,908.24"
      ]
     },
     "execution_count": 75,
     "metadata": {},
     "output_type": "execute_result"
    }
   ],
   "source": [
    "total_sales_per_month= data_2019.groupby('Month')['Price Each'].sum().reset_index()\n",
    "total_sales_per_month_sorted = total_sales_per_month.sort_values(by='Month', ascending=True)\n",
    "total_sales_per_month_sorted"
   ]
  },
  {
   "cell_type": "code",
   "execution_count": null,
   "metadata": {
    "scrolled": true
   },
   "outputs": [
    {
     "data": {
      "image/png": "[encoded data removed]",
      "text/plain": [
       "<Figure size 1000x600 with 1 Axes>"
      ]
     },
     "metadata": {},
     "output_type": "display_data"
    }
   ],
   "source": [
    "#let's visualize our data \n",
    "plt.figure(figsize=(10,6))\n",
    "plt.plot(total_sales_per_month_sorted['Month'],total_sales_per_month_sorted['Price Each'],marker='o',color='orange')\n",
    "plt.xlabel('Month')\n",
    "plt.ylabel('Sales')\n",
    "plt.title('Comparison Sales by Month 2019')\n",
    "plt.xticks(total_sales_per_month_sorted['Month'])\n",
    "plt.grid(True)\n",
    "plt.show()"
   ]
  },
  {
   "cell_type": "code",
   "execution_count": 68,
   "metadata": {
    "scrolled": true
   },
   "outputs": [
    {
     "data": {
      "text/html": [
       "<div>\n",
       "<style scoped>\n",
       "    .dataframe tbody tr th:only-of-type {\n",
       "        vertical-align: middle;\n",
       "    }\n",
       "\n",
       "    .dataframe tbody tr th {\n",
       "        vertical-align: top;\n",
       "    }\n",
       "\n",
       "    .dataframe thead th {\n",
       "        text-align: right;\n",
       "    }\n",
       "</style>\n",
       "<table border=\"1\" class=\"dataframe\">\n",
       "  <thead>\n",
       "    <tr style=\"text-align: right;\">\n",
       "      <th></th>\n",
       "      <th>Week</th>\n",
       "      <th>Price Each</th>\n",
       "    </tr>\n",
       "  </thead>\n",
       "  <tbody>\n",
       "    <tr>\n",
       "      <th>0</th>\n",
       "      <td>29</td>\n",
       "      <td>73,422.18</td>\n",
       "    </tr>\n",
       "    <tr>\n",
       "      <th>1</th>\n",
       "      <td>34</td>\n",
       "      <td>72,543.85</td>\n",
       "    </tr>\n",
       "    <tr>\n",
       "      <th>2</th>\n",
       "      <td>38</td>\n",
       "      <td>63,077.37</td>\n",
       "    </tr>\n",
       "    <tr>\n",
       "      <th>3</th>\n",
       "      <td>47</td>\n",
       "      <td>110,725.99</td>\n",
       "    </tr>\n",
       "    <tr>\n",
       "      <th>4</th>\n",
       "      <td>51</td>\n",
       "      <td>136,908.24</td>\n",
       "    </tr>\n",
       "  </tbody>\n",
       "</table>\n",
       "</div>"
      ],
      "text/plain": [
       "   Week  Price Each\n",
       "0    29   73,422.18\n",
       "1    34   72,543.85\n",
       "2    38   63,077.37\n",
       "3    47  110,725.99\n",
       "4    51  136,908.24"
      ]
     },
     "execution_count": 68,
     "metadata": {},
     "output_type": "execute_result"
    }
   ],
   "source": [
    "# Sale compare per week\n",
    "total_sales_per_week= data_2019.groupby('Week')['Price Each'].sum().reset_index()\n",
    "total_sales_per_week_sorted = total_sales_per_week.sort_values(by='Week',ascending=True)\n",
    "total_sales_per_week_sorted"
   ]
  },
  {
   "cell_type": "code",
   "execution_count": 69,
   "metadata": {
    "scrolled": true
   },
   "outputs": [
    {
     "name": "stdout",
     "output_type": "stream",
     "text": [
      "<class 'pandas.core.frame.DataFrame'>\n",
      "RangeIndex: 5 entries, 0 to 4\n",
      "Data columns (total 2 columns):\n",
      " #   Column      Non-Null Count  Dtype  \n",
      "---  ------      --------------  -----  \n",
      " 0   Week        5 non-null      UInt32 \n",
      " 1   Price Each  5 non-null      float64\n",
      "dtypes: UInt32(1), float64(1)\n",
      "memory usage: 193.0 bytes\n"
     ]
    }
   ],
   "source": [
    "total_sales_per_week_sorted.info()"
   ]
  },
  {
   "cell_type": "code",
   "execution_count": 70,
   "metadata": {
    "scrolled": true
   },
   "outputs": [],
   "source": [
    "#let's change type our column Week to float\n",
    "total_sales_per_week_sorted['Week'] = pd.to_numeric(total_sales_per_week_sorted['Week'], errors='coerce')\n",
    "total_sales_per_week_sorted['Week'] = total_sales_per_week_sorted['Week'].astype(int)\n"
   ]
  },
  {
   "cell_type": "code",
   "execution_count": null,
   "metadata": {
    "scrolled": true
   },
   "outputs": [
    {
     "data": {
      "image/png": "[encoded data removed]",
      "text/plain": [
       "<Figure size 640x480 with 1 Axes>"
      ]
     },
     "metadata": {},
     "output_type": "display_data"
    },
    {
     "data": {
      "text/plain": [
       "<Figure size 1200x1000 with 0 Axes>"
      ]
     },
     "metadata": {},
     "output_type": "display_data"
    }
   ],
   "source": [
    "#comparison sale per week\n",
    "plot=sns.barplot(y=total_sales_per_week_sorted['Price Each'],x=total_sales_per_week_sorted['Week'],estimator=\"sum\", errorbar=None, palette='magma')\n",
    "plot.set(xlabel='Week', ylabel='Total Sale ')\n",
    "plot.bar_label(plot.containers[0], fontsize=10)\n",
    "plt.title('Sale Per Week')\n",
    "plt.figure(figsize=(12,10))\n",
    "plt.show()\n"
   ]
  },
  {
   "cell_type": "markdown",
   "metadata": {},
   "source": [
    "##### *Comparison of Monthly Sales* \n",
    "1. Sales apears to have decreased from July to September (month 7,8and 9),with relatively stable quantities orderd during this period 2019.\n",
    "\n",
    "2. However ,starting from November(11),sales experience an exponential increase,peaking in December(12) withthe highest ofsales recorded.\n",
    "\n",
    "##### *Comparison of Weekly Sales*\n",
    "1. Similary ,sales seem to have decreased from week 29 to week 38,with relatively stable quantites ordered during thisperiod 2019.\n",
    "\n",
    "2. However ,starting from week 47 ,sales experiences a sharp increase,reaching their peak in week 51 with the highest number of sales recorded\n",
    "\n",
    "In summary,although sales experienced a decline in the middle of year,they rebounded significantly towards the endof the year,even surpassing the levels observed earlier in the year.This analysis suggests a marked seasonality in sales, with a strong increase towards the end of the year, possibly due to end-of-year holidays and intensive shopping periods."
   ]
  },
  {
   "cell_type": "markdown",
   "metadata": {},
   "source": [
    "5. Which cities are our products delivered to most? \n"
   ]
  },
  {
   "cell_type": "code",
   "execution_count": 71,
   "metadata": {
    "scrolled": true
   },
   "outputs": [],
   "source": [
    "data_2019['City'] = data_2019['Purchase Address'].apply(lambda x: x.split(',')[1].strip())\n"
   ]
  },
  {
   "cell_type": "code",
   "execution_count": 72,
   "metadata": {
    "scrolled": true
   },
   "outputs": [
    {
     "data": {
      "text/html": [
       "<div>\n",
       "<style scoped>\n",
       "    .dataframe tbody tr th:only-of-type {\n",
       "        vertical-align: middle;\n",
       "    }\n",
       "\n",
       "    .dataframe tbody tr th {\n",
       "        vertical-align: top;\n",
       "    }\n",
       "\n",
       "    .dataframe thead th {\n",
       "        text-align: right;\n",
       "    }\n",
       "</style>\n",
       "<table border=\"1\" class=\"dataframe\">\n",
       "  <thead>\n",
       "    <tr style=\"text-align: right;\">\n",
       "      <th></th>\n",
       "      <th>Product</th>\n",
       "      <th>Quantity Ordered</th>\n",
       "      <th>Price Each</th>\n",
       "      <th>Order Date</th>\n",
       "      <th>Purchase Address</th>\n",
       "      <th>Year</th>\n",
       "      <th>Month</th>\n",
       "      <th>Days</th>\n",
       "      <th>Week</th>\n",
       "      <th>City</th>\n",
       "    </tr>\n",
       "  </thead>\n",
       "  <tbody>\n",
       "    <tr>\n",
       "      <th>47</th>\n",
       "      <td>AA Batteries (4-pack)</td>\n",
       "      <td>1.00</td>\n",
       "      <td>2.99</td>\n",
       "      <td>2019-07-19 10:11:00</td>\n",
       "      <td>143 5th St, Portland, OR 97035</td>\n",
       "      <td>2019</td>\n",
       "      <td>7</td>\n",
       "      <td>19</td>\n",
       "      <td>29</td>\n",
       "      <td>Portland</td>\n",
       "    </tr>\n",
       "    <tr>\n",
       "      <th>65</th>\n",
       "      <td>Wired Headphones</td>\n",
       "      <td>1.00</td>\n",
       "      <td>11.99</td>\n",
       "      <td>2019-07-19 16:15:00</td>\n",
       "      <td>541 Hickory St, Los Angeles, CA 90001</td>\n",
       "      <td>2019</td>\n",
       "      <td>7</td>\n",
       "      <td>19</td>\n",
       "      <td>29</td>\n",
       "      <td>Los Angeles</td>\n",
       "    </tr>\n",
       "    <tr>\n",
       "      <th>80</th>\n",
       "      <td>AA Batteries (4-pack)</td>\n",
       "      <td>2.00</td>\n",
       "      <td>2.99</td>\n",
       "      <td>2019-07-19 18:33:00</td>\n",
       "      <td>419 Jackson St, New York City, NY 10001</td>\n",
       "      <td>2019</td>\n",
       "      <td>7</td>\n",
       "      <td>19</td>\n",
       "      <td>29</td>\n",
       "      <td>New York City</td>\n",
       "    </tr>\n",
       "  </tbody>\n",
       "</table>\n",
       "</div>"
      ],
      "text/plain": [
       "                  Product  Quantity Ordered  Price Each          Order Date  \\\n",
       "47  AA Batteries (4-pack)              1.00        2.99 2019-07-19 10:11:00   \n",
       "65       Wired Headphones              1.00       11.99 2019-07-19 16:15:00   \n",
       "80  AA Batteries (4-pack)              2.00        2.99 2019-07-19 18:33:00   \n",
       "\n",
       "                           Purchase Address  Year  Month  Days  Week  \\\n",
       "47           143 5th St, Portland, OR 97035  2019      7    19    29   \n",
       "65    541 Hickory St, Los Angeles, CA 90001  2019      7    19    29   \n",
       "80  419 Jackson St, New York City, NY 10001  2019      7    19    29   \n",
       "\n",
       "             City  \n",
       "47       Portland  \n",
       "65    Los Angeles  \n",
       "80  New York City  "
      ]
     },
     "execution_count": 72,
     "metadata": {},
     "output_type": "execute_result"
    }
   ],
   "source": [
    "data_2019.head(3)"
   ]
  },
  {
   "cell_type": "code",
   "execution_count": 73,
   "metadata": {
    "scrolled": true
   },
   "outputs": [
    {
     "data": {
      "text/plain": [
       "City\n",
       "San Francisco    608\n",
       "Los Angeles      414\n",
       "New York City    366\n",
       "Boston           290\n",
       "Seattle          239\n",
       "Name: count, dtype: int64"
      ]
     },
     "execution_count": 73,
     "metadata": {},
     "output_type": "execute_result"
    }
   ],
   "source": [
    "#Let's count the frequency of deliveries Address\n",
    "city_counts = data_2019['City'].value_counts()\n",
    "\n",
    "#Cities with the highest frequency of deliveries\n",
    "city_counts.head()"
   ]
  },
  {
   "cell_type": "code",
   "execution_count": null,
   "metadata": {
    "scrolled": true
   },
   "outputs": [
    {
     "data": {
      "image/png": "[encoded data removed]",
      "text/plain": [
       "<Figure size 1000x600 with 1 Axes>"
      ]
     },
     "metadata": {},
     "output_type": "display_data"
    }
   ],
   "source": [
    "#let's visualize our result\n",
    "# Plot the top cities\n",
    "plt.figure(figsize=(10, 6))\n",
    "city_counts.plot(kind='bar', color='orange')\n",
    "plt.title('Top Cities by Frequency of Deliveries')\n",
    "plt.xlabel('City')\n",
    "plt.ylabel('Frequency of Deliveries')\n",
    "plt.xticks(rotation=45)  # Rotate x-labels for better readability\n",
    "plt.tight_layout()\n",
    "plt.show()"
   ]
  },
  {
   "cell_type": "markdown",
   "metadata": {},
   "source": [
    "San Francisco are the most where our product delivered with 608 "
   ]
  },
  {
   "cell_type": "markdown",
   "metadata": {},
   "source": [
    "6. How do product categories compare in revenue generated and quantities  ordered? \n"
   ]
  },
  {
   "cell_type": "code",
   "execution_count": 75,
   "metadata": {
    "scrolled": true
   },
   "outputs": [],
   "source": [
    "# Add a new column for total revenue\n",
    "\n",
    "data_2019['Total Revenue'] = data_2019['Quantity Ordered']*data_2019['Price Each']\n"
   ]
  },
  {
   "cell_type": "code",
   "execution_count": 78,
   "metadata": {
    "scrolled": true
   },
   "outputs": [
    {
     "data": {
      "text/html": [
       "<div>\n",
       "<style scoped>\n",
       "    .dataframe tbody tr th:only-of-type {\n",
       "        vertical-align: middle;\n",
       "    }\n",
       "\n",
       "    .dataframe tbody tr th {\n",
       "        vertical-align: top;\n",
       "    }\n",
       "\n",
       "    .dataframe thead th {\n",
       "        text-align: right;\n",
       "    }\n",
       "</style>\n",
       "<table border=\"1\" class=\"dataframe\">\n",
       "  <thead>\n",
       "    <tr style=\"text-align: right;\">\n",
       "      <th></th>\n",
       "      <th>Product</th>\n",
       "      <th>Total Revenue</th>\n",
       "      <th>Quantity Ordered</th>\n",
       "    </tr>\n",
       "  </thead>\n",
       "  <tbody>\n",
       "    <tr>\n",
       "      <th>12</th>\n",
       "      <td>Macbook Pro Laptop</td>\n",
       "      <td>108,800.00</td>\n",
       "      <td>64.00</td>\n",
       "    </tr>\n",
       "    <tr>\n",
       "      <th>17</th>\n",
       "      <td>iPhone</td>\n",
       "      <td>65,100.00</td>\n",
       "      <td>93.00</td>\n",
       "    </tr>\n",
       "    <tr>\n",
       "      <th>13</th>\n",
       "      <td>ThinkPad Laptop</td>\n",
       "      <td>46,999.53</td>\n",
       "      <td>47.00</td>\n",
       "    </tr>\n",
       "    <tr>\n",
       "      <th>8</th>\n",
       "      <td>Google Phone</td>\n",
       "      <td>40,200.00</td>\n",
       "      <td>67.00</td>\n",
       "    </tr>\n",
       "    <tr>\n",
       "      <th>1</th>\n",
       "      <td>27in 4K Gaming Monitor</td>\n",
       "      <td>36,659.06</td>\n",
       "      <td>94.00</td>\n",
       "    </tr>\n",
       "    <tr>\n",
       "      <th>5</th>\n",
       "      <td>Apple Airpods Headphones</td>\n",
       "      <td>29,700.00</td>\n",
       "      <td>198.00</td>\n",
       "    </tr>\n",
       "    <tr>\n",
       "      <th>3</th>\n",
       "      <td>34in Ultrawide Monitor</td>\n",
       "      <td>29,639.22</td>\n",
       "      <td>78.00</td>\n",
       "    </tr>\n",
       "    <tr>\n",
       "      <th>7</th>\n",
       "      <td>Flatscreen TV</td>\n",
       "      <td>22,200.00</td>\n",
       "      <td>74.00</td>\n",
       "    </tr>\n",
       "    <tr>\n",
       "      <th>6</th>\n",
       "      <td>Bose SoundSport Headphones</td>\n",
       "      <td>19,498.05</td>\n",
       "      <td>195.00</td>\n",
       "    </tr>\n",
       "    <tr>\n",
       "      <th>2</th>\n",
       "      <td>27in FHD Monitor</td>\n",
       "      <td>17,998.80</td>\n",
       "      <td>120.00</td>\n",
       "    </tr>\n",
       "    <tr>\n",
       "      <th>15</th>\n",
       "      <td>Vareebadd Phone</td>\n",
       "      <td>9,200.00</td>\n",
       "      <td>23.00</td>\n",
       "    </tr>\n",
       "    <tr>\n",
       "      <th>0</th>\n",
       "      <td>20in Monitor</td>\n",
       "      <td>6,709.39</td>\n",
       "      <td>61.00</td>\n",
       "    </tr>\n",
       "    <tr>\n",
       "      <th>10</th>\n",
       "      <td>LG Washing Machine</td>\n",
       "      <td>6,000.00</td>\n",
       "      <td>10.00</td>\n",
       "    </tr>\n",
       "    <tr>\n",
       "      <th>11</th>\n",
       "      <td>Lightning Charging Cable</td>\n",
       "      <td>5,142.80</td>\n",
       "      <td>344.00</td>\n",
       "    </tr>\n",
       "    <tr>\n",
       "      <th>9</th>\n",
       "      <td>LG Dryer</td>\n",
       "      <td>4,800.00</td>\n",
       "      <td>8.00</td>\n",
       "    </tr>\n",
       "    <tr>\n",
       "      <th>14</th>\n",
       "      <td>USB-C Charging Cable</td>\n",
       "      <td>4,206.40</td>\n",
       "      <td>352.00</td>\n",
       "    </tr>\n",
       "    <tr>\n",
       "      <th>16</th>\n",
       "      <td>Wired Headphones</td>\n",
       "      <td>3,740.88</td>\n",
       "      <td>312.00</td>\n",
       "    </tr>\n",
       "    <tr>\n",
       "      <th>4</th>\n",
       "      <td>AA Batteries (4-pack)</td>\n",
       "      <td>3,142.77</td>\n",
       "      <td>928.00</td>\n",
       "    </tr>\n",
       "  </tbody>\n",
       "</table>\n",
       "</div>"
      ],
      "text/plain": [
       "                       Product  Total Revenue  Quantity Ordered\n",
       "12          Macbook Pro Laptop     108,800.00             64.00\n",
       "17                      iPhone      65,100.00             93.00\n",
       "13             ThinkPad Laptop      46,999.53             47.00\n",
       "8                 Google Phone      40,200.00             67.00\n",
       "1       27in 4K Gaming Monitor      36,659.06             94.00\n",
       "5     Apple Airpods Headphones      29,700.00            198.00\n",
       "3       34in Ultrawide Monitor      29,639.22             78.00\n",
       "7                Flatscreen TV      22,200.00             74.00\n",
       "6   Bose SoundSport Headphones      19,498.05            195.00\n",
       "2             27in FHD Monitor      17,998.80            120.00\n",
       "15             Vareebadd Phone       9,200.00             23.00\n",
       "0                 20in Monitor       6,709.39             61.00\n",
       "10          LG Washing Machine       6,000.00             10.00\n",
       "11    Lightning Charging Cable       5,142.80            344.00\n",
       "9                     LG Dryer       4,800.00              8.00\n",
       "14        USB-C Charging Cable       4,206.40            352.00\n",
       "16            Wired Headphones       3,740.88            312.00\n",
       "4        AA Batteries (4-pack)       3,142.77            928.00"
      ]
     },
     "execution_count": 78,
     "metadata": {},
     "output_type": "execute_result"
    }
   ],
   "source": [
    "\n",
    "#Let's group by product category and calculate total revenu and quantity\n",
    "category_stats =data_2019.groupby('Product').agg({'Total Revenue':'sum','Quantity Ordered':'sum'}).reset_index()\n",
    "#Sort by total revenue\n",
    "category_stats =category_stats.sort_values(by='Total Revenue',ascending=False)\n",
    "category_stats"
   ]
  },
  {
   "cell_type": "code",
   "execution_count": 81,
   "metadata": {
    "scrolled": true
   },
   "outputs": [
    {
     "data": {
      "image/png": "[encoded data removed]",
      "text/plain": [
       "<Figure size 1000x600 with 1 Axes>"
      ]
     },
     "metadata": {},
     "output_type": "display_data"
    }
   ],
   "source": [
    "#Create a bar plot to compare revenu by product\n",
    "plt.figure(figsize=(10,6))\n",
    "plt.bar(category_stats['Product'],category_stats['Total Revenue'],color='orange')\n",
    "\n",
    "#Add labels and title\n",
    "plt.xlabel('Product Category')\n",
    "plt.ylabel('Total Revenue ($)')\n",
    "plt.title('Total Revenue by Product Category in 2019')\n",
    "\n",
    "#Rolate x-axis labels for better readability\n",
    "plt.xticks(rotation=90)\n",
    "#Show the plot\n",
    "plt.tight_layout()\n",
    "plt.show()"
   ]
  },
  {
   "cell_type": "markdown",
   "metadata": {},
   "source": [
    "\"Mackbook Pro Laptop\" product has the highest bar ,this product contributed the most to the total revenue in 2019.And \"AAA Batteries(4 pack)\" has the lowest product."
   ]
  },
  {
   "cell_type": "markdown",
   "metadata": {},
   "source": [
    "7. You are required to show additional details from your findings in your data."
   ]
  },
  {
   "cell_type": "markdown",
   "metadata": {},
   "source": [
    "7. 1. Explore sales performance across different cities "
   ]
  },
  {
   "cell_type": "code",
   "execution_count": 84,
   "metadata": {
    "scrolled": true
   },
   "outputs": [
    {
     "data": {
      "text/html": [
       "<div>\n",
       "<style scoped>\n",
       "    .dataframe tbody tr th:only-of-type {\n",
       "        vertical-align: middle;\n",
       "    }\n",
       "\n",
       "    .dataframe tbody tr th {\n",
       "        vertical-align: top;\n",
       "    }\n",
       "\n",
       "    .dataframe thead th {\n",
       "        text-align: right;\n",
       "    }\n",
       "</style>\n",
       "<table border=\"1\" class=\"dataframe\">\n",
       "  <thead>\n",
       "    <tr style=\"text-align: right;\">\n",
       "      <th></th>\n",
       "      <th>Product</th>\n",
       "      <th>Quantity Ordered</th>\n",
       "      <th>Price Each</th>\n",
       "      <th>Order Date</th>\n",
       "      <th>Purchase Address</th>\n",
       "      <th>Year</th>\n",
       "      <th>Month</th>\n",
       "      <th>Days</th>\n",
       "      <th>Week</th>\n",
       "      <th>City</th>\n",
       "      <th>Total Revenue</th>\n",
       "    </tr>\n",
       "  </thead>\n",
       "  <tbody>\n",
       "    <tr>\n",
       "      <th>47</th>\n",
       "      <td>AA Batteries (4-pack)</td>\n",
       "      <td>1.00</td>\n",
       "      <td>2.99</td>\n",
       "      <td>2019-07-19 10:11:00</td>\n",
       "      <td>143 5th St, Portland, OR 97035</td>\n",
       "      <td>2019</td>\n",
       "      <td>7</td>\n",
       "      <td>19</td>\n",
       "      <td>29</td>\n",
       "      <td>Portland</td>\n",
       "      <td>2.99</td>\n",
       "    </tr>\n",
       "    <tr>\n",
       "      <th>65</th>\n",
       "      <td>Wired Headphones</td>\n",
       "      <td>1.00</td>\n",
       "      <td>11.99</td>\n",
       "      <td>2019-07-19 16:15:00</td>\n",
       "      <td>541 Hickory St, Los Angeles, CA 90001</td>\n",
       "      <td>2019</td>\n",
       "      <td>7</td>\n",
       "      <td>19</td>\n",
       "      <td>29</td>\n",
       "      <td>Los Angeles</td>\n",
       "      <td>11.99</td>\n",
       "    </tr>\n",
       "    <tr>\n",
       "      <th>80</th>\n",
       "      <td>AA Batteries (4-pack)</td>\n",
       "      <td>2.00</td>\n",
       "      <td>2.99</td>\n",
       "      <td>2019-07-19 18:33:00</td>\n",
       "      <td>419 Jackson St, New York City, NY 10001</td>\n",
       "      <td>2019</td>\n",
       "      <td>7</td>\n",
       "      <td>19</td>\n",
       "      <td>29</td>\n",
       "      <td>New York City</td>\n",
       "      <td>5.98</td>\n",
       "    </tr>\n",
       "    <tr>\n",
       "      <th>90</th>\n",
       "      <td>AA Batteries (4-pack)</td>\n",
       "      <td>1.00</td>\n",
       "      <td>2.99</td>\n",
       "      <td>2019-07-19 20:29:00</td>\n",
       "      <td>670 10th St, Atlanta, GA 30301</td>\n",
       "      <td>2019</td>\n",
       "      <td>7</td>\n",
       "      <td>19</td>\n",
       "      <td>29</td>\n",
       "      <td>Atlanta</td>\n",
       "      <td>2.99</td>\n",
       "    </tr>\n",
       "    <tr>\n",
       "      <th>132</th>\n",
       "      <td>Apple Airpods Headphones</td>\n",
       "      <td>1.00</td>\n",
       "      <td>150.00</td>\n",
       "      <td>2019-07-19 20:05:00</td>\n",
       "      <td>395 West St, Austin, TX 73301</td>\n",
       "      <td>2019</td>\n",
       "      <td>7</td>\n",
       "      <td>19</td>\n",
       "      <td>29</td>\n",
       "      <td>Austin</td>\n",
       "      <td>150.00</td>\n",
       "    </tr>\n",
       "  </tbody>\n",
       "</table>\n",
       "</div>"
      ],
      "text/plain": [
       "                      Product  Quantity Ordered  Price Each  \\\n",
       "47      AA Batteries (4-pack)              1.00        2.99   \n",
       "65           Wired Headphones              1.00       11.99   \n",
       "80      AA Batteries (4-pack)              2.00        2.99   \n",
       "90      AA Batteries (4-pack)              1.00        2.99   \n",
       "132  Apple Airpods Headphones              1.00      150.00   \n",
       "\n",
       "             Order Date                         Purchase Address  Year  Month  \\\n",
       "47  2019-07-19 10:11:00           143 5th St, Portland, OR 97035  2019      7   \n",
       "65  2019-07-19 16:15:00    541 Hickory St, Los Angeles, CA 90001  2019      7   \n",
       "80  2019-07-19 18:33:00  419 Jackson St, New York City, NY 10001  2019      7   \n",
       "90  2019-07-19 20:29:00           670 10th St, Atlanta, GA 30301  2019      7   \n",
       "132 2019-07-19 20:05:00            395 West St, Austin, TX 73301  2019      7   \n",
       "\n",
       "     Days  Week           City  Total Revenue  \n",
       "47     19    29       Portland           2.99  \n",
       "65     19    29    Los Angeles          11.99  \n",
       "80     19    29  New York City           5.98  \n",
       "90     19    29        Atlanta           2.99  \n",
       "132    19    29         Austin         150.00  "
      ]
     },
     "execution_count": 84,
     "metadata": {},
     "output_type": "execute_result"
    }
   ],
   "source": [
    "data_2019.head()"
   ]
  },
  {
   "cell_type": "code",
   "execution_count": 85,
   "metadata": {
    "scrolled": true
   },
   "outputs": [
    {
     "data": {
      "image/png": "[encoded data removed]",
      "text/plain": [
       "<Figure size 1000x600 with 1 Axes>"
      ]
     },
     "metadata": {},
     "output_type": "display_data"
    }
   ],
   "source": [
    "#let's group the data by city\n",
    "city_stats = data_2019.groupby('City').agg({'Total Revenue':'sum','Quantity Ordered':'sum'}).reset_index()\n",
    "\n",
    "#sort cities by total revenue in descending order\n",
    "city_stats = city_stats.sort_values(by='Total Revenue',ascending=False)\n",
    "\n",
    "#let's visualize the top cities by total revenue\n",
    "\n",
    "plt.figure(figsize=(10,6))\n",
    "plt.bar(city_stats['City'],city_stats['Total Revenue'],color='orange')\n",
    "plt.xlabel('City')\n",
    "plt.ylabel('Total Revenue ($)')\n",
    "plt.title('Total Revenue by City in 2019')\n",
    "plt.xticks(rotation=45)\n",
    "plt.tight_layout()\n",
    "plt.show()"
   ]
  },
  {
   "cell_type": "markdown",
   "metadata": {},
   "source": [
    "\"San Franscisco\" has the City with the most total revenue and Portland has the less total revenue City"
   ]
  },
  {
   "cell_type": "markdown",
   "metadata": {},
   "source": [
    "7. 2.  Identify products frequently purchased together to capitalize on cross-selling opportunities."
   ]
  },
  {
   "cell_type": "markdown",
   "metadata": {},
   "source": [
    "To identify products frequently purchased together and capitalize on cross-selling opportunities, we can use a technique called association rule mining. One popular algorithm for this task is the Apriori algorithm."
   ]
  },
  {
   "cell_type": "code",
   "execution_count": 105,
   "metadata": {
    "scrolled": true
   },
   "outputs": [],
   "source": [
    "#pip install mlxtend\n"
   ]
  },
  {
   "cell_type": "markdown",
   "metadata": {},
   "source": [
    "*The role of cross-selling opportunities analysis is to identify products that are frequently purchased together by customers to capitalize on these opportunities. The main goal is to increase sales by offering complementary or related products to customers who have already made a purchase.*"
   ]
  },
  {
   "cell_type": "code",
   "execution_count": 104,
   "metadata": {
    "scrolled": true
   },
   "outputs": [
    {
     "name": "stderr",
     "output_type": "stream",
     "text": [
      "C:\\Users\\AD\\anaconda3\\lib\\site-packages\\mlxtend\\frequent_patterns\\fpcommon.py:109: DeprecationWarning: DataFrames with non-bool types result in worse computationalperformance and their support might be discontinued in the future.Please use a DataFrame with bool type\n",
      "  warnings.warn(\n"
     ]
    },
    {
     "data": {
      "text/html": [
       "<div>\n",
       "<style scoped>\n",
       "    .dataframe tbody tr th:only-of-type {\n",
       "        vertical-align: middle;\n",
       "    }\n",
       "\n",
       "    .dataframe tbody tr th {\n",
       "        vertical-align: top;\n",
       "    }\n",
       "\n",
       "    .dataframe thead th {\n",
       "        text-align: right;\n",
       "    }\n",
       "</style>\n",
       "<table border=\"1\" class=\"dataframe\">\n",
       "  <thead>\n",
       "    <tr style=\"text-align: right;\">\n",
       "      <th></th>\n",
       "      <th>antecedents</th>\n",
       "      <th>consequents</th>\n",
       "      <th>antecedent support</th>\n",
       "      <th>consequent support</th>\n",
       "      <th>support</th>\n",
       "      <th>confidence</th>\n",
       "      <th>lift</th>\n",
       "      <th>leverage</th>\n",
       "      <th>conviction</th>\n",
       "      <th>zhangs_metric</th>\n",
       "    </tr>\n",
       "  </thead>\n",
       "  <tbody>\n",
       "    <tr>\n",
       "      <th>7</th>\n",
       "      <td>(Vareebadd Phone)</td>\n",
       "      <td>(USB-C Charging Cable)</td>\n",
       "      <td>0.01</td>\n",
       "      <td>0.12</td>\n",
       "      <td>0.00</td>\n",
       "      <td>0.22</td>\n",
       "      <td>1.74</td>\n",
       "      <td>0.00</td>\n",
       "      <td>1.12</td>\n",
       "      <td>0.43</td>\n",
       "    </tr>\n",
       "    <tr>\n",
       "      <th>1</th>\n",
       "      <td>(Google Phone)</td>\n",
       "      <td>(USB-C Charging Cable)</td>\n",
       "      <td>0.03</td>\n",
       "      <td>0.12</td>\n",
       "      <td>0.00</td>\n",
       "      <td>0.18</td>\n",
       "      <td>1.44</td>\n",
       "      <td>0.00</td>\n",
       "      <td>1.07</td>\n",
       "      <td>0.31</td>\n",
       "    </tr>\n",
       "    <tr>\n",
       "      <th>9</th>\n",
       "      <td>(Vareebadd Phone)</td>\n",
       "      <td>(Wired Headphones)</td>\n",
       "      <td>0.01</td>\n",
       "      <td>0.11</td>\n",
       "      <td>0.00</td>\n",
       "      <td>0.13</td>\n",
       "      <td>1.18</td>\n",
       "      <td>0.00</td>\n",
       "      <td>1.02</td>\n",
       "      <td>0.16</td>\n",
       "    </tr>\n",
       "    <tr>\n",
       "      <th>5</th>\n",
       "      <td>(iPhone)</td>\n",
       "      <td>(Lightning Charging Cable)</td>\n",
       "      <td>0.04</td>\n",
       "      <td>0.12</td>\n",
       "      <td>0.00</td>\n",
       "      <td>0.13</td>\n",
       "      <td>1.05</td>\n",
       "      <td>0.00</td>\n",
       "      <td>1.01</td>\n",
       "      <td>0.04</td>\n",
       "    </tr>\n",
       "    <tr>\n",
       "      <th>3</th>\n",
       "      <td>(Google Phone)</td>\n",
       "      <td>(Wired Headphones)</td>\n",
       "      <td>0.03</td>\n",
       "      <td>0.11</td>\n",
       "      <td>0.00</td>\n",
       "      <td>0.12</td>\n",
       "      <td>1.08</td>\n",
       "      <td>0.00</td>\n",
       "      <td>1.01</td>\n",
       "      <td>0.08</td>\n",
       "    </tr>\n",
       "    <tr>\n",
       "      <th>4</th>\n",
       "      <td>(Lightning Charging Cable)</td>\n",
       "      <td>(iPhone)</td>\n",
       "      <td>0.12</td>\n",
       "      <td>0.04</td>\n",
       "      <td>0.00</td>\n",
       "      <td>0.04</td>\n",
       "      <td>1.05</td>\n",
       "      <td>0.00</td>\n",
       "      <td>1.00</td>\n",
       "      <td>0.05</td>\n",
       "    </tr>\n",
       "    <tr>\n",
       "      <th>0</th>\n",
       "      <td>(USB-C Charging Cable)</td>\n",
       "      <td>(Google Phone)</td>\n",
       "      <td>0.12</td>\n",
       "      <td>0.03</td>\n",
       "      <td>0.00</td>\n",
       "      <td>0.04</td>\n",
       "      <td>1.44</td>\n",
       "      <td>0.00</td>\n",
       "      <td>1.01</td>\n",
       "      <td>0.35</td>\n",
       "    </tr>\n",
       "    <tr>\n",
       "      <th>2</th>\n",
       "      <td>(Wired Headphones)</td>\n",
       "      <td>(Google Phone)</td>\n",
       "      <td>0.11</td>\n",
       "      <td>0.03</td>\n",
       "      <td>0.00</td>\n",
       "      <td>0.03</td>\n",
       "      <td>1.08</td>\n",
       "      <td>0.00</td>\n",
       "      <td>1.00</td>\n",
       "      <td>0.09</td>\n",
       "    </tr>\n",
       "    <tr>\n",
       "      <th>6</th>\n",
       "      <td>(USB-C Charging Cable)</td>\n",
       "      <td>(Vareebadd Phone)</td>\n",
       "      <td>0.12</td>\n",
       "      <td>0.01</td>\n",
       "      <td>0.00</td>\n",
       "      <td>0.02</td>\n",
       "      <td>1.74</td>\n",
       "      <td>0.00</td>\n",
       "      <td>1.01</td>\n",
       "      <td>0.49</td>\n",
       "    </tr>\n",
       "    <tr>\n",
       "      <th>8</th>\n",
       "      <td>(Wired Headphones)</td>\n",
       "      <td>(Vareebadd Phone)</td>\n",
       "      <td>0.11</td>\n",
       "      <td>0.01</td>\n",
       "      <td>0.00</td>\n",
       "      <td>0.01</td>\n",
       "      <td>1.18</td>\n",
       "      <td>0.00</td>\n",
       "      <td>1.00</td>\n",
       "      <td>0.17</td>\n",
       "    </tr>\n",
       "  </tbody>\n",
       "</table>\n",
       "</div>"
      ],
      "text/plain": [
       "                  antecedents                 consequents  antecedent support  \\\n",
       "7           (Vareebadd Phone)      (USB-C Charging Cable)                0.01   \n",
       "1              (Google Phone)      (USB-C Charging Cable)                0.03   \n",
       "9           (Vareebadd Phone)          (Wired Headphones)                0.01   \n",
       "5                    (iPhone)  (Lightning Charging Cable)                0.04   \n",
       "3              (Google Phone)          (Wired Headphones)                0.03   \n",
       "4  (Lightning Charging Cable)                    (iPhone)                0.12   \n",
       "0      (USB-C Charging Cable)              (Google Phone)                0.12   \n",
       "2          (Wired Headphones)              (Google Phone)                0.11   \n",
       "6      (USB-C Charging Cable)           (Vareebadd Phone)                0.12   \n",
       "8          (Wired Headphones)           (Vareebadd Phone)                0.11   \n",
       "\n",
       "   consequent support  support  confidence  lift  leverage  conviction  \\\n",
       "7                0.12     0.00        0.22  1.74      0.00        1.12   \n",
       "1                0.12     0.00        0.18  1.44      0.00        1.07   \n",
       "9                0.11     0.00        0.13  1.18      0.00        1.02   \n",
       "5                0.12     0.00        0.13  1.05      0.00        1.01   \n",
       "3                0.11     0.00        0.12  1.08      0.00        1.01   \n",
       "4                0.04     0.00        0.04  1.05      0.00        1.00   \n",
       "0                0.03     0.00        0.04  1.44      0.00        1.01   \n",
       "2                0.03     0.00        0.03  1.08      0.00        1.00   \n",
       "6                0.01     0.00        0.02  1.74      0.00        1.01   \n",
       "8                0.01     0.00        0.01  1.18      0.00        1.00   \n",
       "\n",
       "   zhangs_metric  \n",
       "7           0.43  \n",
       "1           0.31  \n",
       "9           0.16  \n",
       "5           0.04  \n",
       "3           0.08  \n",
       "4           0.05  \n",
       "0           0.35  \n",
       "2           0.09  \n",
       "6           0.49  \n",
       "8           0.17  "
      ]
     },
     "execution_count": 104,
     "metadata": {},
     "output_type": "execute_result"
    }
   ],
   "source": [
    "from mlxtend.frequent_patterns import apriori, association_rules\n",
    "\n",
    " #Perform one-hot encoding to prepare the data for association rule mining\n",
    "basket = (data_2019.groupby(['Purchase Address', 'Product'])['Quantity Ordered']\n",
    "          .sum().unstack().reset_index().fillna(0)\n",
    "          .set_index('Purchase Address'))\n",
    "\n",
    "# Convert quantities to binary values (0 or 1)\n",
    "basket_sets = basket.applymap(lambda x: 1 if x > 0 else 0)\n",
    "\n",
    "# Apply the Apriori algorithm to find frequent itemsets\n",
    "frequent_itemsets = apriori(basket_sets, min_support=0.001, use_colnames=True)\n",
    "\n",
    "# Generate association rules from the frequent itemsets\n",
    "rules = association_rules(frequent_itemsets, metric=\"lift\", min_threshold=1)\n",
    "\n",
    "# Sort rules by confidence in descending order\n",
    "rules = rules.sort_values(by='confidence', ascending=False)\n",
    "\n",
    "# Print the top 10 rules\n",
    "rules.head(10)"
   ]
  },
  {
   "cell_type": "markdown",
   "metadata": {},
   "source": [
    "By Analysing the result here is the conclusion we can draw:\n",
    "\n",
    "**(Vareebadd Phone) -> (USB-C Charging Cable)**: \n",
    ". Antecedent Support :0.01\n",
    "\n",
    ". Consequent Support :0.12\n",
    "\n",
    ". Support :0.00\n",
    "\n",
    ".Confidence :0.22\n",
    "\n",
    ".Lift :1.74\n",
    "\n",
    ".Leverage :0.00\n",
    "\n",
    ".Conviction : 1.12\n",
    "\n",
    ".Zhang's Metric:0.43\n",
    "\n",
    "The rule indicates that customers purchases a Vareebadd Phone,there's a 22% change they will also purchase a USB-C Charging Cable.The lift value of 1.74 suggest a higher likelihood of purchasing both items together compared to what would we expected were purchased independently.\n",
    "\n",
    "**(Google Phone) -> (USB-Charging Cable):**\n",
    "\n",
    ". Antecedent Support :0.03\n",
    "\n",
    ". Consequent Support :0.12\n",
    "\n",
    ". Support :0.00\n",
    "\n",
    ".Confidence :0.18\n",
    "\n",
    ".Lift :1.44\n",
    "\n",
    ".Leverage :0.00\n",
    "\n",
    ".Conviction : 1.07\n",
    "\n",
    ".Zhang's Metric:0.31\n",
    "\n",
    "\n",
    "Similar to the previous rule,customers who purchase a Google phone have an 18% change of also purchasing a USB-C Charging Cable.The lift value of 1.44 indicates a positive association between these item.\n",
    "\n",
    "**(Vareebadd Phone) -> (Wired Headphones):**\n",
    "\n",
    ". Antecedent Support :0.01\n",
    "\n",
    ". Consequent Support :0.11\n",
    "\n",
    ". Support :0.00\n",
    "\n",
    ".Confidence :0.13\n",
    "\n",
    ".Lift :1.18\n",
    "\n",
    ".Leverage :0.00\n",
    "\n",
    ".Conviction : 1.03\n",
    "\n",
    ".Zhang's Metric:0.16\n",
    "\n",
    "This rule suggests that there's a 13% chance customers who purchase a Vareebadd Phone will also buy Wired Headphones. The lift value of 1.18 indicates a slightly positive association between these products\n",
    "\n",
    "**(iPhone) -> (Lightning Charging Cable):**\n",
    "\n",
    ". Antecedent Support :0.04\n",
    "\n",
    ". Consequent Support :0.12\n",
    "\n",
    ". Support :0.00\n",
    "\n",
    ".Confidence :0.13\n",
    "\n",
    ".Lift :1.05\n",
    "\n",
    ".Leverage :0.00\n",
    "\n",
    ".Conviction : 1.01\n",
    "\n",
    ".Zhang's Metric:0.04\n",
    "\n",
    "This rule shows that there's a 13% chance customers who purchase an iPhone will also purchase a Lightning Charging Cable. The lift value close to 1 suggests a weak association between these items.\n",
    "\n",
    "**(Google Phone) -> (Wired Headphones):**\n",
    "\n",
    ". Antecedent Support :0.03\n",
    "\n",
    ". Consequent Support :0.11\n",
    "\n",
    ". Support :0.00\n",
    "\n",
    ".Confidence :0.12\n",
    "\n",
    ".Lift :1.08\n",
    "\n",
    ".Leverage :0.00\n",
    "\n",
    ".Conviction : 1.01\n",
    "\n",
    ".Zhang's Metric:0.04\n",
    "\n",
    "Customers who purchase a Google Phone have a 12% chance of also purchasing Wired Headphones. The lift value slightly above 1 suggests a weak positive association.\n",
    "\n",
    "**(Lightning Charging Cable) -> (iPhone):**\n",
    "\n",
    ". Antecedent Support :0.12\n",
    "\n",
    ". Consequent Support :0.04\n",
    "\n",
    ". Support :0.00\n",
    "\n",
    ".Confidence :0.04\n",
    "\n",
    ".Lift :1.05\n",
    "\n",
    ".Leverage :0.00\n",
    "\n",
    ".Conviction : 1.00\n",
    "\n",
    ".Zhang's Metric:0.05\n",
    "\n",
    "This rule indicates that there's a 4% chance customers who purchase a Lightning Charging Cable will also buy an iPhone. The lift value close to 1 suggests a weak association between these items.\n",
    "\n",
    "These conclusions provide insights into the association between different products and can be used to inform cross-selling strategies or marketing campaigns targeting customers who have purchased certain items."
   ]
  },
  {
   "cell_type": "markdown",
   "metadata": {},
   "source": []
  }
 ],
 "metadata": {
  "kernelspec": {
   "display_name": "Python 3 (ipykernel)",
   "language": "python",
   "name": "python3"
  },
  "language_info": {
   "codemirror_mode": {
    "name": "ipython",
    "version": 3
   },
   "file_extension": ".py",
   "mimetype": "text/x-python",
   "name": "python",
   "nbconvert_exporter": "python",
   "pygments_lexer": "ipython3",
   "version": "3.10.11"
  }
 },
 "nbformat": 4,
 "nbformat_minor": 2
}
